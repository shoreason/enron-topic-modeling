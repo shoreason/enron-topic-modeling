{
 "cells": [
  {
   "cell_type": "code",
   "execution_count": 1,
   "metadata": {},
   "outputs": [
    {
     "name": "stdout",
     "output_type": "stream",
     "text": [
      "--2019-03-01 15:30:32--  https://github.com/anthdm/ml-email-clustering/blob/master/split_emails.csv\n",
      "Resolving github.com (github.com)... 192.30.255.113, 192.30.255.112\n",
      "Connecting to github.com (github.com)|192.30.255.113|:443... connected.\n",
      "HTTP request sent, awaiting response... 200 OK\n",
      "Length: unspecified [text/html]\n",
      "Saving to: ‘split_emails.csv’\n",
      "\n",
      "split_emails.csv        [ <=>                ]  51.67K  --.-KB/s    in 0.07s   \n",
      "\n",
      "2019-03-01 15:30:33 (774 KB/s) - ‘split_emails.csv’ saved [52912]\n",
      "\n"
     ]
    }
   ],
   "source": [
    "!wget https://github.com/anthdm/ml-email-clustering/blob/master/split_emails.csv"
   ]
  },
  {
   "cell_type": "code",
   "execution_count": 7,
   "metadata": {},
   "outputs": [
    {
     "name": "stdout",
     "output_type": "stream",
     "text": [
      "--2019-03-01 16:00:50--  https://www.dropbox.com/s/p82abqm8dg0ihqy/emails.csv.zip\n",
      "Resolving www.dropbox.com (www.dropbox.com)... 162.125.8.1, 2620:100:601b:1::a27d:801\n",
      "Connecting to www.dropbox.com (www.dropbox.com)|162.125.8.1|:443... connected.\n",
      "HTTP request sent, awaiting response... 301 Moved Permanently\n",
      "Location: /s/raw/p82abqm8dg0ihqy/emails.csv.zip [following]\n",
      "--2019-03-01 16:00:50--  https://www.dropbox.com/s/raw/p82abqm8dg0ihqy/emails.csv.zip\n",
      "Reusing existing connection to www.dropbox.com:443.\n",
      "HTTP request sent, awaiting response... 302 Found\n",
      "Location: https://uca4a18f264bf8f11ca889bac639.dl.dropboxusercontent.com/cd/0/inline/AcQnOEs3w_1433vw3BG5devj2duJe_fAI0u5RCv0p1HGvbrp_6oJURWDNRO5jN8vPX2kFMqbqe1FdZSzES1RyM65YrLYWWEJgjwZYbPEmCE9QA/file# [following]\n",
      "--2019-03-01 16:00:51--  https://uca4a18f264bf8f11ca889bac639.dl.dropboxusercontent.com/cd/0/inline/AcQnOEs3w_1433vw3BG5devj2duJe_fAI0u5RCv0p1HGvbrp_6oJURWDNRO5jN8vPX2kFMqbqe1FdZSzES1RyM65YrLYWWEJgjwZYbPEmCE9QA/file\n",
      "Resolving uca4a18f264bf8f11ca889bac639.dl.dropboxusercontent.com (uca4a18f264bf8f11ca889bac639.dl.dropboxusercontent.com)... 162.125.8.6, 2620:100:601b:6::a27d:806\n",
      "Connecting to uca4a18f264bf8f11ca889bac639.dl.dropboxusercontent.com (uca4a18f264bf8f11ca889bac639.dl.dropboxusercontent.com)|162.125.8.6|:443... connected.\n",
      "HTTP request sent, awaiting response... 302 FOUND\n",
      "Location: /cd/0/inline2/AcRL01rKutfQRp_HtfYsG4AS5HroYzbGtlSulCQgvLMpOCY8tDCXU1PODjRr50EIj5aCnepnO7ITioG8zfMigF9NNwNeyP9wBO7ntnwcqR0-o7Lv_aCEYk2W8qs4RFJfYKOu14LOCsfCNdl-It1caCWzawnyIyjMI4SVNbNamcDhtGa6HD48jTojUiXqtStrsjZt8C2Wmdl0C8AkbF0aUdA3SZosgK2lGMWxfTsHXgHxWT5smA-AnXqkDSh2cUqNoe_bZDJJh_mcXyWstXTV3PxMKHiQPwdXVaAT_9z1Tceddst91Ee7DUX2Mt_ehzbbYCBaW25AyskhNlTUI_RqwQ-E/file [following]\n",
      "--2019-03-01 16:00:52--  https://uca4a18f264bf8f11ca889bac639.dl.dropboxusercontent.com/cd/0/inline2/AcRL01rKutfQRp_HtfYsG4AS5HroYzbGtlSulCQgvLMpOCY8tDCXU1PODjRr50EIj5aCnepnO7ITioG8zfMigF9NNwNeyP9wBO7ntnwcqR0-o7Lv_aCEYk2W8qs4RFJfYKOu14LOCsfCNdl-It1caCWzawnyIyjMI4SVNbNamcDhtGa6HD48jTojUiXqtStrsjZt8C2Wmdl0C8AkbF0aUdA3SZosgK2lGMWxfTsHXgHxWT5smA-AnXqkDSh2cUqNoe_bZDJJh_mcXyWstXTV3PxMKHiQPwdXVaAT_9z1Tceddst91Ee7DUX2Mt_ehzbbYCBaW25AyskhNlTUI_RqwQ-E/file\n",
      "Reusing existing connection to uca4a18f264bf8f11ca889bac639.dl.dropboxusercontent.com:443.\n",
      "HTTP request sent, awaiting response... 200 OK\n",
      "Length: 371948495 (355M) [application/zip]\n",
      "Saving to: ‘emails.csv.zip’\n",
      "\n",
      "emails.csv.zip      100%[===================>] 354.72M  28.8MB/s    in 10s     \n",
      "\n",
      "2019-03-01 16:01:02 (34.3 MB/s) - ‘emails.csv.zip’ saved [371948495/371948495]\n",
      "\n"
     ]
    }
   ],
   "source": [
    "!wget https://www.dropbox.com/s/p82abqm8dg0ihqy/emails.csv.zip"
   ]
  },
  {
   "cell_type": "code",
   "execution_count": 8,
   "metadata": {},
   "outputs": [
    {
     "name": "stdout",
     "output_type": "stream",
     "text": [
      "Archive:  emails.csv.zip\n",
      "  inflating: emails.csv              \n"
     ]
    }
   ],
   "source": [
    "!unzip emails.csv.zip"
   ]
  },
  {
   "cell_type": "code",
   "execution_count": 1,
   "metadata": {},
   "outputs": [],
   "source": [
    "import pandas as pd"
   ]
  },
  {
   "cell_type": "code",
   "execution_count": 2,
   "metadata": {},
   "outputs": [
    {
     "name": "stdout",
     "output_type": "stream",
     "text": [
      "(50000, 2)\n",
      "                       file                                            message\n",
      "0     allen-p/_sent_mail/1.  Message-ID: <18782981.1075855378110.JavaMail.e...\n",
      "1    allen-p/_sent_mail/10.  Message-ID: <15464986.1075855378456.JavaMail.e...\n",
      "2   allen-p/_sent_mail/100.  Message-ID: <24216240.1075855687451.JavaMail.e...\n",
      "3  allen-p/_sent_mail/1000.  Message-ID: <13505866.1075863688222.JavaMail.e...\n",
      "4  allen-p/_sent_mail/1001.  Message-ID: <30922949.1075863688243.JavaMail.e...\n"
     ]
    }
   ],
   "source": [
    "emails = pd.read_csv('emails.csv')\n",
    "email_subset = emails[:50000]\n",
    "\n",
    "print(email_subset.shape)\n",
    "print(email_subset.head())"
   ]
  },
  {
   "cell_type": "code",
   "execution_count": 3,
   "metadata": {},
   "outputs": [],
   "source": [
    "def parse_raw_message(raw_message):\n",
    "    lines = raw_message.split('\\n')\n",
    "    email = {}\n",
    "    message = ''\n",
    "    keys_to_extract = ['from', 'to']\n",
    "    for line in lines:\n",
    "        if ':' not in line:\n",
    "            message += line.strip()\n",
    "            email['body'] = message\n",
    "        else:\n",
    "            pairs = line.split(':')\n",
    "            key = pairs[0].lower()\n",
    "            val = pairs[1].strip()\n",
    "            if key in keys_to_extract:\n",
    "                email[key] = val\n",
    "    return email"
   ]
  },
  {
   "cell_type": "code",
   "execution_count": 4,
   "metadata": {},
   "outputs": [],
   "source": [
    "def parse_into_emails(messages):\n",
    "    emails = [parse_raw_message(message) for message in messages]\n",
    "    return {\n",
    "        'body': map_to_list(emails, 'body'),\n",
    "        'to': map_to_list(emails, 'to'),\n",
    "        'from_': map_to_list(emails, 'from')\n",
    "    }\n"
   ]
  },
  {
   "cell_type": "code",
   "execution_count": 5,
   "metadata": {},
   "outputs": [],
   "source": [
    "def map_to_list(emails, key):\n",
    "    results = []\n",
    "    for email in emails:\n",
    "        if key not in email:\n",
    "            results.append('')\n",
    "        else:\n",
    "            results.append(email[key])\n",
    "    return results"
   ]
  },
  {
   "cell_type": "code",
   "execution_count": 6,
   "metadata": {},
   "outputs": [
    {
     "name": "stdout",
     "output_type": "stream",
     "text": [
      "                                                body                       to  \\\n",
      "0                               Here is our forecast     tim.belden@enron.com   \n",
      "1  Traveling to have a business meeting takes the...  john.lavorato@enron.com   \n",
      "2                     test successful.  way to go!!!   leah.arsdall@enron.com   \n",
      "3  Randy,Can you send me a schedule of the salary...    randall.gay@enron.com   \n",
      "4                                                        greg.piper@enron.com   \n",
      "\n",
      "                     from_  \n",
      "0  phillip.allen@enron.com  \n",
      "1  phillip.allen@enron.com  \n",
      "2  phillip.allen@enron.com  \n",
      "3  phillip.allen@enron.com  \n",
      "4  phillip.allen@enron.com  \n"
     ]
    }
   ],
   "source": [
    "email_df = pd.DataFrame(parse_into_emails(email_subset.message))\n",
    "print(email_df.head())"
   ]
  },
  {
   "cell_type": "code",
   "execution_count": 7,
   "metadata": {},
   "outputs": [],
   "source": [
    "import re\n",
    "import numpy as np"
   ]
  },
  {
   "cell_type": "code",
   "execution_count": 8,
   "metadata": {},
   "outputs": [],
   "source": [
    "import gensim"
   ]
  },
  {
   "cell_type": "code",
   "execution_count": 9,
   "metadata": {},
   "outputs": [],
   "source": [
    "import gensim.corpora as corpora\n",
    "from gensim.utils import simple_preprocess\n",
    "from gensim.models import CoherenceModel"
   ]
  },
  {
   "cell_type": "code",
   "execution_count": 10,
   "metadata": {},
   "outputs": [],
   "source": [
    "# spacy for lemmatization\n",
    "import spacy"
   ]
  },
  {
   "cell_type": "code",
   "execution_count": 11,
   "metadata": {},
   "outputs": [],
   "source": [
    "# for plotting\n",
    "import pyLDAvis\n",
    "import pyLDAvis.gensim\n",
    "import matplotlib.pyplot as plt"
   ]
  },
  {
   "cell_type": "code",
   "execution_count": 12,
   "metadata": {},
   "outputs": [],
   "source": [
    "#  >>> import nltk\n",
    "#  >>> nltk.download('stopwords')"
   ]
  },
  {
   "cell_type": "code",
   "execution_count": 13,
   "metadata": {},
   "outputs": [
    {
     "name": "stderr",
     "output_type": "stream",
     "text": [
      "/opt/anaconda3/lib/python3.7/site-packages/nltk/decorators.py:68: DeprecationWarning: `formatargspec` is deprecated since Python 3.5. Use `signature` and the `Signature` object directly\n",
      "  regargs, varargs, varkwargs, defaults, formatvalue=lambda value: \"\"\n"
     ]
    }
   ],
   "source": [
    "# prep NLTK Stop words\n",
    "from nltk.corpus import stopwords\n",
    "stop_words = stopwords.words('english')\n",
    "stop_words.extend(['from', 'subject', 're', 'edu', 'use'])"
   ]
  },
  {
   "cell_type": "code",
   "execution_count": 14,
   "metadata": {},
   "outputs": [
    {
     "name": "stdout",
     "output_type": "stream",
     "text": [
      "test successful.  way to go!!!\n"
     ]
    }
   ],
   "source": [
    "print(email_df.iloc[2]['body']) # displays info below"
   ]
  },
  {
   "cell_type": "code",
   "execution_count": 15,
   "metadata": {},
   "outputs": [],
   "source": [
    "# Convert email body to list\n",
    "data = email_df.body.values.tolist()"
   ]
  },
  {
   "cell_type": "code",
   "execution_count": 16,
   "metadata": {},
   "outputs": [],
   "source": [
    "# tokenize - break down each sentence into a list of words\n",
    "def sent_to_words(sentences):\n",
    "    for sentence in sentences:\n",
    "        yield(gensim.utils.simple_preprocess(str(sentence), deacc=True))  # deacc=True removes punctuations\n"
   ]
  },
  {
   "cell_type": "code",
   "execution_count": 17,
   "metadata": {},
   "outputs": [],
   "source": [
    "data_words = list(sent_to_words(data))"
   ]
  },
  {
   "cell_type": "code",
   "execution_count": 18,
   "metadata": {},
   "outputs": [
    {
     "name": "stdout",
     "output_type": "stream",
     "text": [
      "['randy', 'can', 'you', 'send', 'me', 'schedule', 'of', 'the', 'salary', 'and', 'level', 'of', 'everyone', 'in', 'thescheduling', 'group', 'plus', 'your', 'thoughts', 'on', 'any', 'changes', 'that', 'need', 'to', 'be', 'made', 'patti', 'for', 'example', 'phillip']\n"
     ]
    }
   ],
   "source": [
    "print(data_words[3])"
   ]
  },
  {
   "cell_type": "code",
   "execution_count": 19,
   "metadata": {},
   "outputs": [],
   "source": [
    "from gensim.models.phrases import Phrases, Phraser"
   ]
  },
  {
   "cell_type": "code",
   "execution_count": 20,
   "metadata": {},
   "outputs": [
    {
     "name": "stderr",
     "output_type": "stream",
     "text": [
      "/opt/anaconda3/lib/python3.7/site-packages/gensim/models/phrases.py:494: UserWarning: For a faster implementation, use the gensim.models.phrases.Phraser class\n",
      "  warnings.warn(\"For a faster implementation, use the gensim.models.phrases.Phraser class\")\n"
     ]
    }
   ],
   "source": [
    "# Build the bigram and trigram models\n",
    "bigram = Phrases(data_words, min_count=5, threshold=100) # higher threshold fewer phrases.\n",
    "trigram = Phrases(bigram[data_words], threshold=100)"
   ]
  },
  {
   "cell_type": "code",
   "execution_count": 21,
   "metadata": {},
   "outputs": [],
   "source": [
    "# Faster way to get a sentence clubbed as a trigram/bigram\n",
    "bigram_mod = Phraser(bigram)\n",
    "trigram_mod = Phraser(trigram)"
   ]
  },
  {
   "cell_type": "code",
   "execution_count": 22,
   "metadata": {},
   "outputs": [
    {
     "name": "stdout",
     "output_type": "stream",
     "text": [
      "['forwarded', 'by', 'phillip_allen', 'hou', 'ect', 'on', 'hello', 'men', 'have', 'attached', 'my', 'worksheet', 'in', 'case', 'you', 'want', 'to', 'review', 'the', 'data', 'while_amon_holiday', 'thanks']\n"
     ]
    }
   ],
   "source": [
    "# See trigram example\n",
    "print(trigram_mod[bigram_mod[data_words[200]]])"
   ]
  },
  {
   "cell_type": "code",
   "execution_count": 23,
   "metadata": {},
   "outputs": [],
   "source": [
    "# remove stop_words, make bigrams and lemmatize\n",
    "def remove_stopwords(texts):\n",
    "    return [[word for word in simple_preprocess(str(doc)) if word not in stop_words] for doc in texts]\n",
    "\n",
    "def make_bigrams(texts):\n",
    "    return [bigram_mod[doc] for doc in texts]\n",
    "\n",
    "def make_trigrams(texts):\n",
    "    return [trigram_mod[bigram_mod[doc]] for doc in texts]\n",
    "\n",
    "def lemmatization(texts, allowed_postags=['NOUN', 'ADJ', 'VERB', 'ADV']):\n",
    "    \"\"\"https://spacy.io/api/annotation\"\"\"\n",
    "    texts_out = []\n",
    "    for sent in texts:\n",
    "        doc = nlp(\" \".join(sent))\n",
    "        texts_out.append([token.lemma_ for token in doc if token.pos_ in allowed_postags])\n",
    "    return texts_out"
   ]
  },
  {
   "cell_type": "code",
   "execution_count": 24,
   "metadata": {},
   "outputs": [],
   "source": [
    "# Remove Stop Words\n",
    "data_words_nostops = remove_stopwords(data_words)"
   ]
  },
  {
   "cell_type": "code",
   "execution_count": 25,
   "metadata": {},
   "outputs": [],
   "source": [
    "# Form Bigrams\n",
    "data_words_bigrams = make_bigrams(data_words_nostops)"
   ]
  },
  {
   "cell_type": "code",
   "execution_count": 26,
   "metadata": {},
   "outputs": [],
   "source": [
    "#python -m spacy download en"
   ]
  },
  {
   "cell_type": "code",
   "execution_count": 27,
   "metadata": {},
   "outputs": [],
   "source": [
    "# Initialize spacy 'en' model, keeping only tagger component (for efficiency)\n",
    "nlp = spacy.load('en', disable=['parser', 'ner'])"
   ]
  },
  {
   "cell_type": "code",
   "execution_count": 28,
   "metadata": {},
   "outputs": [],
   "source": [
    "# Do lemmatization keeping only noun, adj, vb, adv\n",
    "data_lemmatized = lemmatization(data_words_bigrams, allowed_postags=['NOUN', 'ADJ', 'VERB', 'ADV'])"
   ]
  },
  {
   "cell_type": "code",
   "execution_count": 29,
   "metadata": {},
   "outputs": [
    {
     "name": "stdout",
     "output_type": "stream",
     "text": [
      "['forward', 'phillip_allen', 'ect', 'man', 'attach', 'worksheet', 'case', 'want', 'review', 'datum', 'amon_holiday', 'thank']\n"
     ]
    }
   ],
   "source": [
    "print(data_lemmatized[200])"
   ]
  },
  {
   "cell_type": "code",
   "execution_count": 30,
   "metadata": {},
   "outputs": [],
   "source": [
    "# create dictionary and corpus both are needed for (LDA) topic modeling\n",
    "\n",
    "# Create Dictionary\n",
    "id2word = corpora.Dictionary(data_lemmatized)\n",
    "\n",
    "# Create Corpus\n",
    "texts = data_lemmatized\n",
    "\n",
    "# Term Document Frequency\n",
    "corpus = [id2word.doc2bow(text) for text in texts]\n"
   ]
  },
  {
   "cell_type": "code",
   "execution_count": 31,
   "metadata": {},
   "outputs": [
    {
     "name": "stdout",
     "output_type": "stream",
     "text": [
      "--2019-04-19 18:25:38--  http://mallet.cs.umass.edu/dist/mallet-2.0.8.zip\n",
      "Resolving mallet.cs.umass.edu (mallet.cs.umass.edu)... 128.119.246.70\n",
      "Connecting to mallet.cs.umass.edu (mallet.cs.umass.edu)|128.119.246.70|:80... connected.\n",
      "HTTP request sent, awaiting response... 200 OK\n",
      "Length: 16184794 (15M) [application/zip]\n",
      "Saving to: ‘mallet-2.0.8.zip.4’\n",
      "\n",
      "mallet-2.0.8.zip.4  100%[===================>]  15.43M  10.9MB/s    in 1.4s    \n",
      "\n",
      "2019-04-19 18:25:40 (10.9 MB/s) - ‘mallet-2.0.8.zip.4’ saved [16184794/16184794]\n",
      "\n"
     ]
    }
   ],
   "source": [
    "!wget http://mallet.cs.umass.edu/dist/mallet-2.0.8.zip"
   ]
  },
  {
   "cell_type": "code",
   "execution_count": 32,
   "metadata": {},
   "outputs": [],
   "source": [
    "#!unzip mallet-2.0.8.zip"
   ]
  },
  {
   "cell_type": "code",
   "execution_count": 33,
   "metadata": {},
   "outputs": [],
   "source": [
    "mallet_path = './mallet-2.0.8/bin/mallet'"
   ]
  },
  {
   "cell_type": "code",
   "execution_count": 34,
   "metadata": {},
   "outputs": [],
   "source": [
    "import warnings\n",
    "warnings.filterwarnings(\"ignore\",category=DeprecationWarning)"
   ]
  },
  {
   "cell_type": "code",
   "execution_count": 35,
   "metadata": {},
   "outputs": [],
   "source": [
    "# Build LDA model\n",
    "lda_model = gensim.models.ldamodel.LdaModel(corpus=corpus,\n",
    "                                           id2word=id2word,\n",
    "                                           num_topics=20,\n",
    "                                           random_state=100,\n",
    "                                           update_every=1,\n",
    "                                           chunksize=100,\n",
    "                                           passes=10,\n",
    "                                           alpha='auto',\n",
    "                                           per_word_topics=True)"
   ]
  },
  {
   "cell_type": "code",
   "execution_count": 36,
   "metadata": {},
   "outputs": [],
   "source": [
    "# topic modeling\n",
    "# corpus, dictionary and number of topics required for LDA\n",
    "# alpha and eta are hyperparameters that affect sparsity of the topics\n",
    "# chunksize is the number of documents to be used in each training chunk\n",
    "# update_every determines how often the model parameters should be updated\n",
    "# passes is the total number of training passes\n",
    "# Print the Keyword in the 10 topics"
   ]
  },
  {
   "cell_type": "code",
   "execution_count": 37,
   "metadata": {},
   "outputs": [
    {
     "name": "stdout",
     "output_type": "stream",
     "text": [
      "[(0, '0.033*\"table\" + 0.030*\"york\" + 0.028*\"document\" + 0.025*\"hope\" + 0.019*\"right\" + 0.018*\"size\" + 0.014*\"title\" + 0.012*\"age\" + 0.011*\"model\" + 0.011*\"role\"'), (1, '0.241*\"ect\" + 0.138*\"corp\" + 0.068*\"hou\" + 0.010*\"forward\" + 0.008*\"kayne_coulter\" + 0.007*\"scott\" + 0.005*\"elizabeth_sager\" + 0.005*\"sturm\" + 0.005*\"highlight\" + 0.005*\"louis_soldano\"'), (2, '0.121*\"page\" + 0.035*\"law\" + 0.019*\"free\" + 0.014*\"click\" + 0.013*\"new\" + 0.011*\"offer\" + 0.011*\"president\" + 0.009*\"find\" + 0.008*\"appeal\" + 0.008*\"appropriate\"'), (3, '0.565*\"enron\" + 0.039*\"michelle\" + 0.009*\"communication\" + 0.008*\"smith\" + 0.007*\"ee\" + 0.007*\"rick\" + 0.006*\"david\" + 0.005*\"johnson\" + 0.004*\"brown\" + 0.004*\"ryan\"'), (4, '0.040*\"agreement\" + 0.029*\"pay\" + 0.024*\"cash\" + 0.020*\"claim\" + 0.016*\"legal\" + 0.013*\"contract\" + 0.013*\"payment\" + 0.012*\"permit\" + 0.011*\"act\" + 0.010*\"rate\"'), (5, '0.077*\"union\" + 0.058*\"image\" + 0.013*\"judge\" + 0.011*\"protection\" + 0.010*\"trial\" + 0.010*\"bush\" + 0.009*\"register\" + 0.008*\"search\" + 0.008*\"sample\" + 0.008*\"dispute\"'), (6, '0.040*\"employer\" + 0.021*\"game\" + 0.016*\"security\" + 0.014*\"play\" + 0.013*\"right\" + 0.013*\"accord\" + 0.010*\"other\" + 0.010*\"violate\" + 0.009*\"season\" + 0.009*\"staff\"'), (7, '0.066*\"message\" + 0.050*\"original\" + 0.047*\"thank\" + 0.027*\"information\" + 0.026*\"mail\" + 0.025*\"send\" + 0.021*\"email\" + 0.021*\"receive\" + 0.020*\"may\" + 0.019*\"call\"'), (8, '0.035*\"employment\" + 0.021*\"office\" + 0.019*\"comment\" + 0.018*\"new\" + 0.012*\"performance\" + 0.012*\"benefit\" + 0.012*\"global\" + 0.011*\"mark\" + 0.010*\"training\" + 0.009*\"november\"'), (9, '0.027*\"court\" + 0.025*\"say\" + 0.014*\"percent\" + 0.013*\"federal\" + 0.010*\"co\" + 0.010*\"department\" + 0.009*\"decision\" + 0.009*\"agency\" + 0.008*\"year\" + 0.007*\"discrimination\"'), (10, '0.019*\"datum\" + 0.015*\"benefit\" + 0.014*\"price\" + 0.013*\"stock\" + 0.012*\"use\" + 0.011*\"relate\" + 0.011*\"release\" + 0.010*\"share\" + 0.009*\"conduct\" + 0.009*\"provision\"'), (11, '0.030*\"copy\" + 0.025*\"corp\" + 0.021*\"intended_recipient\" + 0.011*\"delete\" + 0.010*\"august\" + 0.009*\"recipient\" + 0.009*\"strictly_prohibit\" + 0.008*\"circuit\" + 0.008*\"smith\" + 0.007*\"michael\"'), (12, '0.043*\"report\" + 0.041*\"attach\" + 0.023*\"align\" + 0.020*\"approve\" + 0.018*\"government\" + 0.018*\"add\" + 0.015*\"suggest\" + 0.013*\"option\" + 0.013*\"establish\" + 0.011*\"test\"'), (13, '0.048*\"worker\" + 0.020*\"texas\" + 0.015*\"health\" + 0.012*\"tax\" + 0.012*\"center\" + 0.012*\"wage\" + 0.011*\"late\" + 0.010*\"scott\" + 0.010*\"top\" + 0.010*\"co\"'), (14, '0.658*\"com\" + 0.007*\"status\" + 0.007*\"mike_carson\" + 0.006*\"net\" + 0.005*\"larry_campbell\" + 0.004*\"comthis\" + 0.003*\"thoma\" + 0.003*\"diane\" + 0.003*\"william\" + 0.003*\"david\"'), (15, '0.049*\"doc\" + 0.042*\"text\" + 0.029*\"font\" + 0.024*\"width\" + 0.023*\"leave\" + 0.021*\"tr\" + 0.017*\"br\" + 0.016*\"span_class\" + 0.013*\"class_emailtextblack\" + 0.013*\"amendment\"'), (16, '0.026*\"company\" + 0.019*\"labor\" + 0.019*\"service\" + 0.019*\"state\" + 0.018*\"inc\" + 0.016*\"new\" + 0.014*\"market\" + 0.013*\"business\" + 0.012*\"year\" + 0.010*\"trade\"'), (17, '0.047*\"board\" + 0.033*\"transaction\" + 0.022*\"severance\" + 0.013*\"eeoc\" + 0.012*\"ccite_cc\" + 0.011*\"aa\" + 0.010*\"refer\" + 0.008*\"pend\" + 0.007*\"eott\" + 0.007*\"aa_ac\"'), (18, '0.031*\"would\" + 0.031*\"see\" + 0.027*\"know\" + 0.025*\"get\" + 0.022*\"week\" + 0.018*\"go\" + 0.017*\"let\" + 0.017*\"time\" + 0.016*\"want\" + 0.016*\"good\"'), (19, '0.063*\"employee\" + 0.022*\"work\" + 0.021*\"plan\" + 0.020*\"issue\" + 0.017*\"review\" + 0.016*\"would\" + 0.015*\"meeting\" + 0.014*\"need\" + 0.013*\"team\" + 0.013*\"group\"')]\n"
     ]
    }
   ],
   "source": [
    "print(lda_model.print_topics())# The weights reflect how important a keyword is to that topic."
   ]
  },
  {
   "cell_type": "code",
   "execution_count": 38,
   "metadata": {},
   "outputs": [],
   "source": [
    "doc_lda = lda_model[corpus]"
   ]
  },
  {
   "cell_type": "code",
   "execution_count": 39,
   "metadata": {},
   "outputs": [
    {
     "name": "stdout",
     "output_type": "stream",
     "text": [
      "\n",
      "Perplexity:  -9.698512656430935\n"
     ]
    }
   ],
   "source": [
    "# Model perplexity and topic coherence provide a convenient\n",
    "# measure to judge how good a given topic model is.\n",
    "# Compute Perplexity\n",
    "print('\\nPerplexity: ', lda_model.log_perplexity(corpus))  # a measure of how good the model is. lower the better.\n"
   ]
  },
  {
   "cell_type": "code",
   "execution_count": null,
   "metadata": {},
   "outputs": [
    {
     "name": "stdout",
     "output_type": "stream",
     "text": [
      "\n",
      "Coherence Score:  0.44502925615763134\n"
     ]
    }
   ],
   "source": [
    "# Compute Coherence Score\n",
    "coherence_model_lda = CoherenceModel(model=lda_model, texts=data_lemmatized, dictionary=id2word, coherence='c_v')\n",
    "coherence_lda = coherence_model_lda.get_coherence()\n",
    "print('\\nCoherence Score: ', coherence_lda)\n"
   ]
  },
  {
   "cell_type": "code",
   "execution_count": null,
   "metadata": {},
   "outputs": [
    {
     "name": "stderr",
     "output_type": "stream",
     "text": [
      "/opt/anaconda3/lib/python3.7/site-packages/pyLDAvis/_prepare.py:257: FutureWarning: Sorting because non-concatenation axis is not aligned. A future version\n",
      "of pandas will change to not sort by default.\n",
      "\n",
      "To accept the future behavior, pass 'sort=False'.\n",
      "\n",
      "To retain the current behavior and silence the warning, pass 'sort=True'.\n",
      "\n",
      "  return pd.concat([default_term_info] + list(topic_dfs))\n"
     ]
    }
   ],
   "source": [
    "# Visualize the topics\n",
    "pyLDAvis.enable_notebook(sort=True)\n",
    "vis = pyLDAvis.gensim.prepare(lda_model, corpus, id2word)"
   ]
  },
  {
   "cell_type": "code",
   "execution_count": null,
   "metadata": {},
   "outputs": [
    {
     "data": {
      "text/html": [
       "\n",
       "<link rel=\"stylesheet\" type=\"text/css\" href=\"https://cdn.rawgit.com/bmabey/pyLDAvis/files/ldavis.v1.0.0.css\">\n",
       "\n",
       "\n",
       "<div id=\"ldavis_el24231401634250957527828835535\"></div>\n",
       "<script type=\"text/javascript\">\n",
       "\n",
       "var ldavis_el24231401634250957527828835535_data = {\"mdsDat\": {\"x\": [0.19144046020293085, -0.17745704290640113, 0.17521958337984356, -0.16280584656596, 0.21948360969604305, 0.15516995269079747, -0.08559694742805224, 0.11348325466629183, -0.03058114733219279, 0.16573440583841378, -0.17244257154386913, 0.05914141696612379, 0.020653473503637394, -0.033000374110320876, 0.044843889468141426, -0.1668850853146077, -0.05296173562876102, -0.06852923212483046, -0.12625225598648404, -0.06865780747074428], \"y\": [-0.13756727851750772, -0.24659132087392366, -0.01745829353761068, -0.21642162997944886, -0.1515162969014124, -0.15451302778735015, -0.025373978010546163, 0.05285117126327657, 0.06600562347747038, 0.005397329974061968, -0.08648577032821064, 0.14523733031779643, 0.09521240136528598, 0.15876666541145032, 0.08287514131097659, -0.06111937139001457, 0.16353666693473137, 0.10586394914401126, 0.04254711693121158, 0.17875357119575308], \"topics\": [1, 2, 3, 4, 5, 6, 7, 8, 9, 10, 11, 12, 13, 14, 15, 16, 17, 18, 19, 20], \"cluster\": [1, 1, 1, 1, 1, 1, 1, 1, 1, 1, 1, 1, 1, 1, 1, 1, 1, 1, 1, 1], \"Freq\": [12.337018966674805, 10.602505683898926, 8.765971183776855, 7.988675594329834, 7.40443229675293, 7.06768798828125, 4.742521286010742, 4.343660354614258, 4.276282787322998, 4.0130085945129395, 3.8508248329162598, 3.7008955478668213, 3.612992286682129, 3.414367914199829, 3.238878011703491, 2.42052960395813, 2.3100876808166504, 2.2529261112213135, 2.0386836528778076, 1.618058204650879]}, \"tinfo\": {\"Category\": [\"Default\", \"Default\", \"Default\", \"Default\", \"Default\", \"Default\", \"Default\", \"Default\", \"Default\", \"Default\", \"Default\", \"Default\", \"Default\", \"Default\", \"Default\", \"Default\", \"Default\", \"Default\", \"Default\", \"Default\", \"Default\", \"Default\", \"Default\", \"Default\", \"Default\", \"Default\", \"Default\", \"Default\", \"Default\", \"Default\", \"Topic1\", \"Topic1\", \"Topic1\", \"Topic1\", \"Topic1\", \"Topic1\", \"Topic1\", \"Topic1\", \"Topic1\", \"Topic1\", \"Topic1\", \"Topic1\", \"Topic1\", \"Topic1\", \"Topic1\", \"Topic1\", \"Topic1\", \"Topic1\", \"Topic1\", \"Topic1\", \"Topic1\", \"Topic1\", \"Topic1\", \"Topic1\", \"Topic1\", \"Topic1\", \"Topic1\", \"Topic1\", \"Topic1\", \"Topic1\", \"Topic1\", \"Topic1\", \"Topic1\", \"Topic1\", \"Topic1\", \"Topic1\", \"Topic1\", \"Topic1\", \"Topic1\", \"Topic1\", \"Topic1\", \"Topic1\", \"Topic1\", \"Topic1\", \"Topic1\", \"Topic1\", \"Topic1\", \"Topic1\", \"Topic1\", \"Topic1\", \"Topic1\", \"Topic1\", \"Topic1\", \"Topic1\", \"Topic1\", \"Topic2\", \"Topic2\", \"Topic2\", \"Topic2\", \"Topic2\", \"Topic2\", \"Topic2\", \"Topic2\", \"Topic2\", \"Topic2\", \"Topic2\", \"Topic2\", \"Topic2\", \"Topic2\", \"Topic2\", \"Topic2\", \"Topic2\", \"Topic2\", \"Topic2\", \"Topic2\", \"Topic2\", \"Topic2\", \"Topic2\", \"Topic2\", \"Topic2\", \"Topic2\", \"Topic2\", \"Topic2\", \"Topic2\", \"Topic2\", \"Topic2\", \"Topic2\", \"Topic2\", \"Topic2\", \"Topic2\", \"Topic2\", \"Topic2\", \"Topic2\", \"Topic2\", \"Topic2\", \"Topic2\", \"Topic2\", \"Topic2\", \"Topic3\", \"Topic3\", \"Topic3\", \"Topic3\", \"Topic3\", \"Topic3\", \"Topic3\", \"Topic3\", \"Topic3\", \"Topic3\", \"Topic3\", \"Topic3\", \"Topic3\", \"Topic3\", \"Topic3\", \"Topic3\", \"Topic3\", \"Topic3\", \"Topic3\", \"Topic3\", \"Topic3\", \"Topic3\", \"Topic3\", \"Topic3\", \"Topic3\", \"Topic3\", \"Topic3\", \"Topic3\", \"Topic3\", \"Topic3\", \"Topic3\", \"Topic3\", \"Topic3\", \"Topic3\", \"Topic3\", \"Topic3\", \"Topic3\", \"Topic3\", \"Topic3\", \"Topic3\", \"Topic3\", \"Topic3\", \"Topic3\", \"Topic3\", \"Topic3\", \"Topic3\", \"Topic3\", \"Topic3\", \"Topic3\", \"Topic3\", \"Topic3\", \"Topic4\", \"Topic4\", \"Topic4\", \"Topic4\", \"Topic4\", \"Topic4\", \"Topic4\", \"Topic4\", \"Topic4\", \"Topic4\", \"Topic4\", \"Topic4\", \"Topic4\", \"Topic4\", \"Topic4\", \"Topic4\", \"Topic4\", \"Topic4\", \"Topic4\", \"Topic4\", \"Topic4\", \"Topic4\", \"Topic4\", \"Topic4\", \"Topic4\", \"Topic4\", \"Topic4\", \"Topic4\", \"Topic4\", \"Topic4\", \"Topic4\", \"Topic4\", \"Topic4\", \"Topic4\", \"Topic4\", \"Topic4\", \"Topic4\", \"Topic4\", \"Topic5\", \"Topic5\", \"Topic5\", \"Topic5\", \"Topic5\", \"Topic5\", \"Topic5\", \"Topic5\", \"Topic5\", \"Topic5\", \"Topic5\", \"Topic5\", \"Topic5\", \"Topic5\", \"Topic5\", \"Topic5\", \"Topic5\", \"Topic5\", \"Topic5\", \"Topic5\", \"Topic5\", \"Topic5\", \"Topic5\", \"Topic5\", \"Topic5\", \"Topic5\", \"Topic5\", \"Topic5\", \"Topic5\", \"Topic5\", \"Topic5\", \"Topic5\", \"Topic5\", \"Topic5\", \"Topic5\", \"Topic5\", \"Topic5\", \"Topic5\", \"Topic5\", \"Topic5\", \"Topic5\", \"Topic5\", \"Topic5\", \"Topic5\", \"Topic5\", \"Topic5\", \"Topic5\", \"Topic5\", \"Topic5\", \"Topic5\", \"Topic5\", \"Topic5\", \"Topic6\", \"Topic6\", \"Topic6\", \"Topic6\", \"Topic6\", \"Topic6\", \"Topic6\", \"Topic6\", \"Topic6\", \"Topic6\", \"Topic6\", \"Topic6\", \"Topic6\", \"Topic6\", \"Topic6\", \"Topic6\", \"Topic6\", \"Topic6\", \"Topic6\", \"Topic6\", \"Topic6\", \"Topic6\", \"Topic6\", \"Topic6\", \"Topic6\", \"Topic6\", \"Topic6\", \"Topic6\", \"Topic6\", \"Topic6\", \"Topic6\", \"Topic6\", \"Topic6\", \"Topic6\", \"Topic6\", \"Topic6\", \"Topic6\", \"Topic6\", \"Topic6\", \"Topic6\", \"Topic6\", \"Topic6\", \"Topic6\", \"Topic6\", \"Topic6\", \"Topic6\", \"Topic6\", \"Topic6\", \"Topic6\", \"Topic6\", \"Topic6\", \"Topic6\", \"Topic7\", \"Topic7\", \"Topic7\", \"Topic7\", \"Topic7\", \"Topic7\", \"Topic7\", \"Topic7\", \"Topic7\", \"Topic7\", \"Topic7\", \"Topic7\", \"Topic7\", \"Topic7\", \"Topic7\", \"Topic7\", \"Topic7\", \"Topic7\", \"Topic7\", \"Topic7\", \"Topic7\", \"Topic7\", \"Topic7\", \"Topic7\", \"Topic7\", \"Topic7\", \"Topic7\", \"Topic7\", \"Topic7\", \"Topic7\", \"Topic7\", \"Topic7\", \"Topic7\", \"Topic7\", \"Topic7\", \"Topic7\", \"Topic7\", \"Topic7\", \"Topic7\", \"Topic7\", \"Topic7\", \"Topic7\", \"Topic7\", \"Topic7\", \"Topic7\", \"Topic7\", \"Topic8\", \"Topic8\", \"Topic8\", \"Topic8\", \"Topic8\", \"Topic8\", \"Topic8\", \"Topic8\", \"Topic8\", \"Topic8\", \"Topic8\", \"Topic8\", \"Topic8\", \"Topic8\", \"Topic8\", \"Topic8\", \"Topic8\", \"Topic8\", \"Topic8\", \"Topic8\", \"Topic8\", \"Topic8\", \"Topic8\", \"Topic8\", \"Topic8\", \"Topic8\", \"Topic8\", \"Topic8\", \"Topic8\", \"Topic8\", \"Topic8\", \"Topic8\", \"Topic8\", \"Topic8\", \"Topic8\", \"Topic8\", \"Topic8\", \"Topic8\", \"Topic8\", \"Topic8\", \"Topic8\", \"Topic8\", \"Topic8\", \"Topic8\", \"Topic8\", \"Topic8\", \"Topic8\", \"Topic8\", \"Topic9\", \"Topic9\", \"Topic9\", \"Topic9\", \"Topic9\", \"Topic9\", \"Topic9\", \"Topic9\", \"Topic9\", \"Topic9\", \"Topic9\", \"Topic9\", \"Topic9\", \"Topic9\", \"Topic9\", \"Topic9\", \"Topic9\", \"Topic9\", \"Topic9\", \"Topic9\", \"Topic9\", \"Topic9\", \"Topic9\", \"Topic9\", \"Topic9\", \"Topic9\", \"Topic9\", \"Topic9\", \"Topic9\", \"Topic9\", \"Topic9\", \"Topic9\", \"Topic9\", \"Topic9\", \"Topic9\", \"Topic9\", \"Topic9\", \"Topic9\", \"Topic9\", \"Topic9\", \"Topic10\", \"Topic10\", \"Topic10\", \"Topic10\", \"Topic10\", \"Topic10\", \"Topic10\", \"Topic10\", \"Topic10\", \"Topic10\", \"Topic10\", \"Topic10\", \"Topic10\", \"Topic10\", \"Topic10\", \"Topic10\", \"Topic10\", \"Topic10\", \"Topic10\", \"Topic10\", \"Topic10\", \"Topic10\", \"Topic10\", \"Topic10\", \"Topic10\", \"Topic10\", \"Topic10\", \"Topic10\", \"Topic10\", \"Topic10\", \"Topic10\", \"Topic10\", \"Topic10\", \"Topic10\", \"Topic10\", \"Topic10\", \"Topic10\", \"Topic10\", \"Topic10\", \"Topic10\", \"Topic10\", \"Topic10\", \"Topic10\", \"Topic10\", \"Topic10\", \"Topic10\", \"Topic10\", \"Topic11\", \"Topic11\", \"Topic11\", \"Topic11\", \"Topic11\", \"Topic11\", \"Topic11\", \"Topic11\", \"Topic11\", \"Topic11\", \"Topic11\", \"Topic11\", \"Topic11\", \"Topic11\", \"Topic11\", \"Topic11\", \"Topic11\", \"Topic11\", \"Topic11\", \"Topic11\", \"Topic11\", \"Topic11\", \"Topic11\", \"Topic11\", \"Topic11\", \"Topic11\", \"Topic11\", \"Topic11\", \"Topic11\", \"Topic11\", \"Topic11\", \"Topic11\", \"Topic11\", \"Topic11\", \"Topic11\", \"Topic11\", \"Topic12\", \"Topic12\", \"Topic12\", \"Topic12\", \"Topic12\", \"Topic12\", \"Topic12\", \"Topic12\", \"Topic12\", \"Topic12\", \"Topic12\", \"Topic12\", \"Topic12\", \"Topic12\", \"Topic12\", \"Topic12\", \"Topic12\", \"Topic12\", \"Topic12\", \"Topic12\", \"Topic12\", \"Topic12\", \"Topic12\", \"Topic12\", \"Topic12\", \"Topic12\", \"Topic12\", \"Topic12\", \"Topic12\", \"Topic12\", \"Topic12\", \"Topic12\", \"Topic12\", \"Topic12\", \"Topic12\", \"Topic12\", \"Topic12\", \"Topic12\", \"Topic12\", \"Topic12\", \"Topic12\", \"Topic12\", \"Topic12\", \"Topic12\", \"Topic12\", \"Topic12\", \"Topic12\", \"Topic12\", \"Topic12\", \"Topic12\", \"Topic13\", \"Topic13\", \"Topic13\", \"Topic13\", \"Topic13\", \"Topic13\", \"Topic13\", \"Topic13\", \"Topic13\", \"Topic13\", \"Topic13\", \"Topic13\", \"Topic13\", \"Topic13\", \"Topic13\", \"Topic13\", \"Topic13\", \"Topic13\", \"Topic13\", \"Topic13\", \"Topic13\", \"Topic13\", \"Topic13\", \"Topic13\", \"Topic13\", \"Topic13\", \"Topic13\", \"Topic13\", \"Topic13\", \"Topic13\", \"Topic13\", \"Topic13\", \"Topic13\", \"Topic13\", \"Topic13\", \"Topic13\", \"Topic13\", \"Topic13\", \"Topic13\", \"Topic13\", \"Topic14\", \"Topic14\", \"Topic14\", \"Topic14\", \"Topic14\", \"Topic14\", \"Topic14\", \"Topic14\", \"Topic14\", \"Topic14\", \"Topic14\", \"Topic14\", \"Topic14\", \"Topic14\", \"Topic14\", \"Topic14\", \"Topic14\", \"Topic14\", \"Topic14\", \"Topic14\", \"Topic14\", \"Topic14\", \"Topic14\", \"Topic14\", \"Topic14\", \"Topic14\", \"Topic14\", \"Topic14\", \"Topic14\", \"Topic14\", \"Topic14\", \"Topic14\", \"Topic14\", \"Topic14\", \"Topic14\", \"Topic14\", \"Topic14\", \"Topic14\", \"Topic14\", \"Topic14\", \"Topic14\", \"Topic14\", \"Topic14\", \"Topic14\", \"Topic14\", \"Topic14\", \"Topic15\", \"Topic15\", \"Topic15\", \"Topic15\", \"Topic15\", \"Topic15\", \"Topic15\", \"Topic15\", \"Topic15\", \"Topic15\", \"Topic15\", \"Topic15\", \"Topic15\", \"Topic15\", \"Topic15\", \"Topic15\", \"Topic15\", \"Topic15\", \"Topic15\", \"Topic15\", \"Topic15\", \"Topic15\", \"Topic15\", \"Topic15\", \"Topic15\", \"Topic15\", \"Topic15\", \"Topic15\", \"Topic15\", \"Topic15\", \"Topic15\", \"Topic15\", \"Topic15\", \"Topic15\", \"Topic15\", \"Topic15\", \"Topic15\", \"Topic15\", \"Topic15\", \"Topic15\", \"Topic15\", \"Topic15\", \"Topic15\", \"Topic15\", \"Topic16\", \"Topic16\", \"Topic16\", \"Topic16\", \"Topic16\", \"Topic16\", \"Topic16\", \"Topic16\", \"Topic16\", \"Topic16\", \"Topic16\", \"Topic16\", \"Topic16\", \"Topic16\", \"Topic16\", \"Topic16\", \"Topic16\", \"Topic16\", \"Topic16\", \"Topic16\", \"Topic16\", \"Topic16\", \"Topic16\", \"Topic16\", \"Topic16\", \"Topic16\", \"Topic16\", \"Topic16\", \"Topic16\", \"Topic16\", \"Topic16\", \"Topic16\", \"Topic16\", \"Topic16\", \"Topic16\", \"Topic16\", \"Topic16\", \"Topic16\", \"Topic16\", \"Topic16\", \"Topic16\", \"Topic16\", \"Topic16\", \"Topic16\", \"Topic17\", \"Topic17\", \"Topic17\", \"Topic17\", \"Topic17\", \"Topic17\", \"Topic17\", \"Topic17\", \"Topic17\", \"Topic17\", \"Topic17\", \"Topic17\", \"Topic17\", \"Topic17\", \"Topic17\", \"Topic17\", \"Topic17\", \"Topic17\", \"Topic17\", \"Topic17\", \"Topic17\", \"Topic17\", \"Topic17\", \"Topic17\", \"Topic17\", \"Topic17\", \"Topic17\", \"Topic17\", \"Topic17\", \"Topic17\", \"Topic17\", \"Topic17\", \"Topic17\", \"Topic17\", \"Topic17\", \"Topic17\", \"Topic17\", \"Topic17\", \"Topic17\", \"Topic17\", \"Topic17\", \"Topic18\", \"Topic18\", \"Topic18\", \"Topic18\", \"Topic18\", \"Topic18\", \"Topic18\", \"Topic18\", \"Topic18\", \"Topic18\", \"Topic18\", \"Topic18\", \"Topic18\", \"Topic18\", \"Topic18\", \"Topic18\", \"Topic18\", \"Topic18\", \"Topic18\", \"Topic18\", \"Topic18\", \"Topic18\", \"Topic18\", \"Topic18\", \"Topic18\", \"Topic18\", \"Topic18\", \"Topic18\", \"Topic18\", \"Topic18\", \"Topic18\", \"Topic18\", \"Topic18\", \"Topic18\", \"Topic18\", \"Topic18\", \"Topic18\", \"Topic18\", \"Topic18\", \"Topic18\", \"Topic19\", \"Topic19\", \"Topic19\", \"Topic19\", \"Topic19\", \"Topic19\", \"Topic19\", \"Topic19\", \"Topic19\", \"Topic19\", \"Topic19\", \"Topic19\", \"Topic19\", \"Topic19\", \"Topic19\", \"Topic19\", \"Topic19\", \"Topic19\", \"Topic19\", \"Topic19\", \"Topic19\", \"Topic19\", \"Topic19\", \"Topic19\", \"Topic19\", \"Topic19\", \"Topic19\", \"Topic19\", \"Topic19\", \"Topic19\", \"Topic19\", \"Topic19\", \"Topic19\", \"Topic19\", \"Topic19\", \"Topic20\", \"Topic20\", \"Topic20\", \"Topic20\", \"Topic20\", \"Topic20\", \"Topic20\", \"Topic20\", \"Topic20\", \"Topic20\", \"Topic20\", \"Topic20\", \"Topic20\", \"Topic20\", \"Topic20\", \"Topic20\", \"Topic20\", \"Topic20\", \"Topic20\", \"Topic20\", \"Topic20\", \"Topic20\", \"Topic20\", \"Topic20\", \"Topic20\", \"Topic20\", \"Topic20\", \"Topic20\", \"Topic20\", \"Topic20\", \"Topic20\", \"Topic20\", \"Topic20\", \"Topic20\", \"Topic20\", \"Topic20\", \"Topic20\", \"Topic20\", \"Topic20\", \"Topic20\", \"Topic20\"], \"Freq\": [346693.0, 304205.0, 53592.0, 35918.0, 25346.0, 27042.0, 27074.0, 20620.0, 23659.0, 19644.0, 15047.0, 21775.0, 29737.0, 19319.0, 10229.0, 17700.0, 11176.0, 9577.0, 17694.0, 9923.0, 15708.0, 9309.0, 7708.0, 9526.0, 14729.0, 10828.0, 17298.0, 11111.0, 12975.0, 10084.0, 21774.498046875, 19318.197265625, 17699.353515625, 12974.4736328125, 11324.9775390625, 9951.71484375, 9255.341796875, 8721.0498046875, 7098.9423828125, 5410.92724609375, 4270.65234375, 4257.08837890625, 4244.4736328125, 3170.902099609375, 2965.623779296875, 2924.408447265625, 2840.699951171875, 2803.4677734375, 2772.340087890625, 2741.270751953125, 2689.66162109375, 2125.84033203125, 2058.8671875, 2030.44921875, 2013.597900390625, 1964.5350341796875, 1952.177001953125, 1948.16552734375, 1923.4888916015625, 1892.1513671875, 15480.1982421875, 4009.482177734375, 5219.2158203125, 11192.51171875, 12226.0634765625, 6123.681640625, 5404.77880859375, 4181.67041015625, 4652.04638671875, 8348.5107421875, 5593.61669921875, 5551.43603515625, 21939.34375, 8758.83984375, 11896.298828125, 7153.494140625, 10166.517578125, 8670.0732421875, 5164.18310546875, 8162.123046875, 5475.970703125, 5760.85400390625, 6101.92529296875, 6316.80322265625, 5264.84619140625, 23658.529296875, 346678.09375, 3995.01416015625, 3989.90380859375, 2350.9814453125, 1992.0849609375, 1857.3524169921875, 1796.701904296875, 1762.91455078125, 1588.8028564453125, 1329.7271728515625, 1327.1763916015625, 1160.66748046875, 1159.736572265625, 1125.8299560546875, 1117.4959716796875, 1106.0826416015625, 1102.6357421875, 1082.937255859375, 1065.44873046875, 988.7972412109375, 961.8693237304688, 945.260009765625, 928.3997192382812, 910.680908203125, 909.2537841796875, 909.1444091796875, 889.6631469726562, 877.2255859375, 869.7166137695312, 1966.9765625, 5818.6240234375, 2873.062744140625, 5098.72314453125, 2484.284423828125, 1420.828369140625, 1805.53076171875, 3488.577392578125, 1962.741943359375, 1540.0977783203125, 1798.35546875, 1519.8060302734375, 1207.9107666015625, 9801.7021484375, 9651.1259765625, 6879.71630859375, 4864.85107421875, 4618.72021484375, 4549.919921875, 4047.551513671875, 3739.689208984375, 3169.19189453125, 3070.91455078125, 2986.389892578125, 2837.79052734375, 2762.30517578125, 2544.1455078125, 2467.873779296875, 2455.845703125, 2246.276123046875, 2071.108154296875, 1934.0113525390625, 1894.53466796875, 1863.885986328125, 1783.8482666015625, 1752.9683837890625, 1715.539306640625, 1685.956787109375, 1595.851318359375, 1521.705078125, 1510.1990966796875, 1466.071533203125, 1377.1239013671875, 9752.3154296875, 4888.2138671875, 8919.08984375, 13254.5478515625, 2894.494384765625, 2473.75830078125, 4199.01220703125, 4466.1630859375, 3026.471435546875, 4962.501953125, 2548.227294921875, 6740.388671875, 3354.580810546875, 2975.42041015625, 8289.400390625, 6211.5673828125, 3898.082275390625, 3367.97265625, 3982.927978515625, 3597.432861328125, 3092.803466796875, 304205.09375, 3400.863037109375, 3281.837158203125, 2156.058837890625, 1860.70703125, 1444.052734375, 1268.349853515625, 1071.5357666015625, 1071.1600341796875, 975.8826904296875, 967.5374145507812, 896.723388671875, 879.6219482421875, 879.5648193359375, 861.2650756835938, 860.9332885742188, 849.5213012695312, 848.6079711914062, 815.0781860351562, 804.1961669921875, 800.7235107421875, 798.5382690429688, 793.7831420898438, 780.9934692382812, 768.9844970703125, 749.0227661132812, 734.7183837890625, 715.4325561523438, 714.8309326171875, 685.4829711914062, 1512.57177734375, 2700.351318359375, 936.4750366210938, 1382.9443359375, 1254.9788818359375, 1271.3006591796875, 957.9475708007812, 880.0432739257812, 27073.625, 6415.08349609375, 5670.42333984375, 5429.236328125, 5275.9404296875, 5247.5634765625, 4896.87890625, 2479.451171875, 2362.6533203125, 2308.70751953125, 2081.219482421875, 2058.974853515625, 1981.73876953125, 1949.4736328125, 1790.7186279296875, 1695.879638671875, 1618.1781005859375, 1460.4366455078125, 1447.4053955078125, 1442.3033447265625, 1405.4444580078125, 1399.5811767578125, 1339.5738525390625, 1323.6839599609375, 1304.705078125, 1275.203857421875, 1224.7955322265625, 1182.366943359375, 1176.11083984375, 1117.78173828125, 2698.935302734375, 1666.5498046875, 3359.029296875, 1457.75, 8699.1806640625, 9163.2177734375, 7206.84423828125, 5640.52392578125, 2205.185302734375, 3502.92138671875, 9531.888671875, 3306.198974609375, 2676.936279296875, 2961.6337890625, 6111.10400390625, 2196.23974609375, 6977.748046875, 4160.1884765625, 2671.248779296875, 2528.565185546875, 3487.574462890625, 2929.285888671875, 27041.857421875, 20619.345703125, 10827.953125, 10083.3837890625, 8771.798828125, 6047.1337890625, 5312.37548828125, 3751.0341796875, 2490.133544921875, 2443.86279296875, 2139.50390625, 2045.9415283203125, 1859.6201171875, 1711.7081298828125, 1685.3106689453125, 1667.9212646484375, 1641.772216796875, 1635.714111328125, 1562.04736328125, 1529.8668212890625, 1496.9532470703125, 1486.141357421875, 1454.67822265625, 1394.9239501953125, 1388.0721435546875, 1335.865234375, 1325.1124267578125, 1283.621337890625, 1277.90087890625, 1254.35400390625, 19365.60546875, 2397.9736328125, 6705.451171875, 8703.66015625, 11069.904296875, 4688.10791015625, 4366.5712890625, 6138.97119140625, 2876.913330078125, 2499.755126953125, 3951.978759765625, 7665.0009765625, 3992.168212890625, 8270.056640625, 3054.65087890625, 3742.564697265625, 2813.725341796875, 2252.740234375, 2577.513671875, 2337.619873046875, 2490.7568359375, 2428.062255859375, 9525.6826171875, 5208.8759765625, 3412.2861328125, 3312.8818359375, 2649.98388671875, 2413.78759765625, 2108.54638671875, 2054.51123046875, 2008.704833984375, 1950.685791015625, 1854.5989990234375, 1850.6063232421875, 1783.468505859375, 1750.98193359375, 1722.2125244140625, 1462.6256103515625, 1444.9903564453125, 1435.62255859375, 1363.805419921875, 1325.923828125, 1324.3492431640625, 1306.2587890625, 1244.7725830078125, 1186.5301513671875, 1161.7447509765625, 1124.690673828125, 1115.4041748046875, 1099.2796630859375, 1091.334716796875, 1071.373779296875, 5668.4658203125, 1850.619140625, 1947.8338623046875, 2507.505859375, 2167.938232421875, 2381.771728515625, 2409.16064453125, 3131.368408203125, 3350.5302734375, 5019.041015625, 2495.734375, 1620.883056640625, 1830.6026611328125, 1685.2041015625, 1637.51220703125, 1667.44287109375, 3351.827392578125, 2820.62939453125, 2668.772216796875, 2392.03662109375, 2380.37548828125, 2344.1494140625, 2190.75830078125, 2098.167724609375, 1818.9005126953125, 1673.9381103515625, 1644.6044921875, 1568.4130859375, 1507.5322265625, 1450.9619140625, 1420.618408203125, 1296.1973876953125, 1220.3511962890625, 1189.9708251953125, 1165.1751708984375, 1107.046142578125, 1082.6895751953125, 1025.83935546875, 1021.9751586914062, 1021.6226806640625, 1013.0197143554688, 960.7849731445312, 913.4144287109375, 860.9859619140625, 822.84521484375, 807.9124145507812, 4897.16552734375, 1681.632568359375, 1944.163330078125, 3544.099853515625, 1328.00244140625, 3774.131591796875, 3050.6123046875, 2287.300537109375, 1674.05078125, 1590.781494140625, 1977.6719970703125, 1332.8724365234375, 2008.842529296875, 1536.8822021484375, 1565.8421630859375, 1508.3428955078125, 1456.934814453125, 1428.8502197265625, 9922.5126953125, 5289.77978515625, 3862.763671875, 3585.95703125, 2441.41015625, 2397.82470703125, 2334.0107421875, 2222.212158203125, 2170.611083984375, 2123.098388671875, 2084.650390625, 1924.291748046875, 1874.233154296875, 1618.3775634765625, 1610.71044921875, 1580.4241943359375, 1477.4122314453125, 1466.3533935546875, 1422.34130859375, 1352.558349609375, 1189.994873046875, 1189.9931640625, 1116.8126220703125, 1095.4761962890625, 1093.722412109375, 987.0216064453125, 970.9889526367188, 970.8016967773438, 967.5039672851562, 924.4486694335938, 2070.5009765625, 3271.58447265625, 3331.716064453125, 1274.4593505859375, 1472.08251953125, 1624.92529296875, 1420.6156005859375, 1224.7261962890625, 1248.291015625, 1199.8326416015625, 9308.494140625, 5505.04248046875, 4603.7587890625, 2993.025146484375, 2669.762451171875, 2127.029296875, 2015.1448974609375, 1976.273193359375, 1479.8131103515625, 1418.4251708984375, 1401.771484375, 1351.125732421875, 1328.3177490234375, 1290.5621337890625, 1276.818603515625, 1257.7099609375, 1234.6243896484375, 1169.7320556640625, 1155.57080078125, 1155.0631103515625, 1100.8759765625, 1081.578369140625, 1080.5484619140625, 971.71728515625, 858.5704345703125, 834.8772583007812, 786.7662353515625, 662.6959838867188, 776.2557983398438, 614.0521240234375, 2213.343994140625, 6816.01806640625, 1908.28564453125, 3599.038330078125, 1896.6455078125, 1445.6064453125, 3095.007080078125, 2631.984619140625, 1511.473388671875, 1559.7884521484375, 1806.223388671875, 1606.0296630859375, 1320.032470703125, 1407.371337890625, 1356.7799072265625, 1333.097412109375, 1291.7379150390625, 53591.30078125, 15046.2607421875, 1678.3211669921875, 1207.7952880859375, 1201.638916015625, 1190.0888671875, 1176.6044921875, 1162.3046875, 1033.0137939453125, 957.322509765625, 898.4937744140625, 834.5751953125, 828.1465454101562, 721.750244140625, 653.9756469726562, 644.115966796875, 623.8558959960938, 610.2654418945312, 591.393798828125, 559.5664672851562, 533.359130859375, 488.86419677734375, 447.3780212402344, 438.44659423828125, 426.4024658203125, 422.22430419921875, 417.93585205078125, 535.0086669921875, 391.8887023925781, 370.2625427246094, 988.50341796875, 30644.5, 1479.548828125, 2157.92724609375, 531.5034790039062, 516.3349609375, 5865.916015625, 1546.1805419921875, 1577.5064697265625, 1371.0157470703125, 1331.22607421875, 1051.6072998046875, 1042.293701171875, 1069.66259765625, 929.9713745117188, 861.6812744140625, 819.5947875976562, 780.0035400390625, 721.1533203125, 721.296875, 717.4144897460938, 705.2427978515625, 705.059326171875, 681.5252075195312, 659.528076171875, 630.3667602539062, 592.1803588867188, 574.73779296875, 557.708984375, 555.3062744140625, 535.7529907226562, 516.5582885742188, 504.1784362792969, 492.2575378417969, 491.1377258300781, 445.130615234375, 1514.564697265625, 1882.131591796875, 653.135498046875, 860.1447143554688, 651.4412841796875, 2950.16796875, 2759.243408203125, 5349.42236328125, 2196.4970703125, 2231.010498046875, 1895.9503173828125, 1502.9490966796875, 946.2698974609375, 1612.29345703125, 1430.5614013671875, 841.7526245117188, 948.498291015625, 788.4620971679688, 866.064697265625, 807.4412231445312, 25345.701171875, 7357.84814453125, 4045.849609375, 2828.327880859375, 2216.446533203125, 1632.3787841796875, 1610.9246826171875, 1502.96923828125, 1494.63623046875, 1424.5809326171875, 1363.361328125, 1283.9776611328125, 1274.1796875, 1248.6864013671875, 1135.158935546875, 1121.795654296875, 1113.6719970703125, 1092.8560791015625, 1081.564697265625, 1054.35693359375, 1020.8248901367188, 908.8256225585938, 777.22607421875, 763.88037109375, 743.703125, 731.986328125, 718.9302978515625, 713.02587890625, 702.4771728515625, 692.1676635742188, 902.1925659179688, 2310.023193359375, 1374.0863037109375, 1444.044921875, 1275.6322021484375, 1088.66455078125, 1551.2763671875, 1971.31640625, 2747.354736328125, 1135.7894287109375, 9576.3818359375, 3934.771728515625, 2921.4912109375, 2388.69970703125, 2386.327392578125, 2373.511962890625, 2177.58837890625, 1652.9154052734375, 1618.8651123046875, 1354.4962158203125, 1339.4852294921875, 1142.3458251953125, 1105.7332763671875, 1069.606689453125, 1046.4498291015625, 865.3680419921875, 837.317138671875, 774.7173461914062, 767.3764038085938, 754.2446899414062, 740.9797973632812, 731.5604248046875, 703.5438842773438, 699.5308837890625, 658.650634765625, 658.4695434570312, 652.8819580078125, 589.9874877929688, 566.8959350585938, 566.3746948242188, 1758.3494873046875, 621.5541381835938, 1758.91455078125, 1107.6719970703125, 1719.4342041015625, 1457.8013916015625, 1176.048583984375, 873.31201171875, 1941.917236328125, 1995.9619140625, 1883.697265625, 884.3839721679688, 1287.2373046875, 1087.5130615234375, 1040.2474365234375, 947.882080078125, 7623.72412109375, 4263.48046875, 3791.93408203125, 3453.931640625, 2834.861083984375, 2439.792724609375, 2136.01611328125, 1964.1064453125, 1957.677734375, 1739.402587890625, 1658.732666015625, 1550.60009765625, 1375.4578857421875, 1316.88720703125, 1129.091796875, 1026.8094482421875, 1001.5421142578125, 1000.2938842773438, 964.3695678710938, 922.3388061523438, 896.0672607421875, 874.6005249023438, 834.5563354492188, 811.243408203125, 808.7453002929688, 724.9822998046875, 615.9308471679688, 606.4563598632812, 599.2764282226562, 535.6279907226562, 3319.98046875, 1384.8731689453125, 8083.08349609375, 1081.3389892578125, 2504.539794921875, 1221.795654296875, 1857.8232421875, 1151.1270751953125, 1835.289306640625, 1220.2529296875, 1730.595703125, 1152.7078857421875, 1073.7030029296875, 1072.333251953125, 2985.978759765625, 1607.395263671875, 1382.4150390625, 1244.0162353515625, 1194.4625244140625, 1072.0228271484375, 970.9813842773438, 910.2123413085938, 886.7747192382812, 852.4896240234375, 794.515380859375, 782.8444213867188, 756.8244018554688, 749.7781372070312, 651.4420776367188, 632.3150024414062, 629.83544921875, 621.211181640625, 601.8878173828125, 585.620849609375, 583.2918701171875, 581.834716796875, 548.567626953125, 519.6265869140625, 501.216064453125, 494.7716064453125, 475.693359375, 453.69171142578125, 443.47235107421875, 442.994140625, 1010.2389526367188, 4187.79736328125, 581.363037109375, 842.09912109375, 527.9449462890625, 1022.4601440429688, 3525.11279296875, 962.4804077148438, 934.4263305664062, 688.2513427734375, 882.4639282226562, 1066.80859375, 643.0546264648438, 680.7832641601562, 10228.7138671875, 7707.3125, 1474.7159423828125, 1388.9705810546875, 1313.8353271484375, 1076.132568359375, 1071.906494140625, 1056.2432861328125, 805.8336181640625, 766.3206787109375, 677.9912719726562, 675.879638671875, 656.8486938476562, 624.3961181640625, 618.5457763671875, 566.1000366210938, 563.2782592773438, 558.2178344726562, 548.7239990234375, 522.1748046875, 500.6252746582031, 492.5133972167969, 457.6566467285156, 433.36541748046875, 414.7703552246094, 413.2342224121094, 392.06903076171875, 378.3924560546875, 363.3980712890625, 346.8843078613281, 448.16314697265625, 1198.5330810546875, 1680.489501953125, 1033.849853515625, 852.8718872070312, 854.49560546875, 968.0322875976562, 645.4760131835938, 640.6665649414062, 906.3809814453125, 733.89111328125, 4316.462890625, 3943.327880859375, 3230.556640625, 2404.208740234375, 1832.399658203125, 1555.3997802734375, 1485.8529052734375, 1459.232421875, 1430.1319580078125, 1172.521484375, 1109.021728515625, 1071.75830078125, 1058.697021484375, 988.001708984375, 797.8980712890625, 753.9468994140625, 749.0816650390625, 747.5477905273438, 721.5533447265625, 686.2578735351562, 673.5368041992188, 671.557373046875, 641.9854125976562, 635.9820556640625, 614.9654541015625, 613.89013671875, 568.6474609375, 522.2766723632812, 515.3759155273438, 506.01116943359375, 638.5380859375, 719.7327270507812, 1114.884033203125, 3605.8720703125, 900.2824096679688, 2454.321044921875, 698.5418090820312, 941.5238037109375, 692.853515625, 712.0689697265625, 5732.61474609375, 5001.41162109375, 3431.81494140625, 2868.986083984375, 2443.847900390625, 1945.741943359375, 1474.5684814453125, 1237.0184326171875, 1024.427001953125, 865.3355102539062, 827.6344604492188, 826.6179809570312, 789.8096313476562, 732.0908813476562, 714.515869140625, 690.0154418945312, 661.1328735351562, 644.516357421875, 583.6655883789062, 567.7814331054688, 554.1875, 546.3042602539062, 536.4765625, 534.7877807617188, 533.8262939453125, 530.1315307617188, 528.6298217773438, 514.3564453125, 508.9571533203125, 482.45654296875, 1925.2767333984375, 871.1447143554688, 884.7635498046875, 1546.338134765625, 2654.8671875, 4413.07275390625, 3056.944091796875, 2062.604248046875, 1003.5105590820312, 910.479248046875, 712.8279418945312, 685.4559326171875, 632.9555053710938, 632.7073974609375, 628.8781127929688, 539.3850708007812, 508.5776672363281, 444.5129089355469, 429.0310363769531, 416.3823547363281, 380.4389343261719, 349.120849609375, 346.01934814453125, 338.8780517578125, 336.8678283691406, 335.73223876953125, 330.6023254394531, 325.8501892089844, 313.7437744140625, 305.6907958984375, 298.0285949707031, 296.2857971191406, 330.60235595703125, 272.818603515625, 272.8086242675781, 1185.11181640625, 1077.898193359375, 634.3445434570312, 634.3445434570312, 555.1400756835938, 520.6624145507812, 491.7763671875, 441.4618835449219, 412.5719909667969, 353.50079345703125, 364.3699951171875], \"Term\": [\"enron\", \"com\", \"ect\", \"corp\", \"page\", \"message\", \"employee\", \"original\", \"michelle\", \"thank\", \"hou\", \"see\", \"would\", \"know\", \"union\", \"get\", \"report\", \"worker\", \"work\", \"employer\", \"week\", \"agreement\", \"image\", \"employment\", \"company\", \"mail\", \"new\", \"say\", \"go\", \"send\", \"see\", \"know\", \"get\", \"go\", \"want\", \"rule\", \"think\", \"look\", \"job\", \"letter\", \"tell\", \"talk\", \"draft\", \"try\", \"hear\", \"sunday\", \"attorney\", \"pass\", \"do\", \"friday\", \"thing\", \"probably\", \"holiday\", \"tomorrow\", \"anything\", \"later\", \"thursday\", \"attachment\", \"night\", \"idea\", \"week\", \"sure\", \"back\", \"good\", \"let\", \"come\", \"way\", \"keep\", \"still\", \"could\", \"well\", \"ask\", \"would\", \"take\", \"time\", \"give\", \"make\", \"day\", \"last\", \"work\", \"leave\", \"say\", \"need\", \"may\", \"also\", \"michelle\", \"enron\", \"ee\", \"rick\", \"ryan\", \"regulation\", \"taylor\", \"e\", \"kathy\", \"baughman\", \"mary_joyce\", \"jeff_k\", \"doug_gilbert\", \"gilda_parker\", \"juan_hernandez\", \"enronxgate\", \"ann\", \"dean_laurent\", \"jason_choate\", \"david_oxley\", \"lisa_burnett\", \"eric_saibi\", \"suarez\", \"gerald_gilbert\", \"rika_imai\", \"kevin_cline\", \"twanda_sweet\", \"russell_ballato\", \"matt_lorenz\", \"steve_olinde\", \"kelly\", \"communication\", \"johnson\", \"smith\", \"brown\", \"brian\", \"tom\", \"david\", \"john\", \"mike\", \"legal\", \"mark\", \"michael\", \"labor\", \"state\", \"market\", \"power\", \"member\", \"action\", \"management\", \"great\", \"firm\", \"customer\", \"announce\", \"bureau\", \"american\", \"condition\", \"industry\", \"june\", \"commission\", \"organization\", \"limit\", \"asset\", \"focus\", \"counsel\", \"california\", \"supply\", \"payroll\", \"participant\", \"allege\", \"executive\", \"chairman\", \"legislation\", \"service\", \"houston\", \"inc\", \"company\", \"activity\", \"october\", \"increase\", \"energy\", \"director\", \"trade\", \"protect\", \"business\", \"recently\", \"practice\", \"new\", \"year\", \"base\", \"continue\", \"include\", \"provide\", \"report\", \"com\", \"status\", \"mike_carson\", \"larry_campbell\", \"comthis\", \"diane\", \"joe_stepenovitch\", \"robert_benson\", \"john_kinser\", \"patrick_hanse\", \"robert_stalford\", \"icap\", \"cheryl\", \"peter_makkai\", \"rd\", \"draw\", \"maria_valde\", \"cynthia\", \"att_net\", \"mr\", \"clint_dean\", \"joe_quenet\", \"erik_serio\", \"keith_comeaux\", \"justin_laverell\", \"larry_jester\", \"chad_starne\", \"richard_broussard\", \"william_kendrick\", \"aol\", \"thoma\", \"net\", \"garcia\", \"william\", \"john\", \"david\", \"day\", \"may\", \"employee\", \"meeting\", \"team\", \"policy\", \"process\", \"discuss\", \"program\", \"committee\", \"grant\", \"strike\", \"event\", \"relation\", \"identify\", \"indicate\", \"discussion\", \"revise\", \"prc\", \"control\", \"insurance\", \"code\", \"ena\", \"associate\", \"guy\", \"happen\", \"participate\", \"correct\", \"resume\", \"candidate\", \"procedure\", \"interested\", \"individual\", \"resource\", \"schedule\", \"lawyer\", \"issue\", \"plan\", \"review\", \"group\", \"matter\", \"follow\", \"work\", \"meet\", \"project\", \"form\", \"need\", \"possible\", \"would\", \"provide\", \"require\", \"hold\", \"also\", \"regard\", \"message\", \"original\", \"mail\", \"send\", \"email\", \"update\", \"request\", \"address\", \"reply\", \"soon\", \"fax\", \"contain_confidential\", \"vacation\", \"fantasy\", \"survey\", \"reference\", \"submit\", \"nyiso\", \"confidential\", \"please\", \"conference\", \"morning\", \"link\", \"administration\", \"sender\", \"assist\", \"client\", \"everyone\", \"feedback\", \"prohibit\", \"thank\", \"standard\", \"contact\", \"receive\", \"information\", \"list\", \"access\", \"question\", \"name\", \"check\", \"order\", \"call\", \"number\", \"may\", \"file\", \"regard\", \"person\", \"available\", \"change\", \"date\", \"review\", \"need\", \"employment\", \"comment\", \"performance\", \"global\", \"training\", \"officer\", \"purpose\", \"responsible\", \"attend\", \"application\", \"research\", \"injury\", \"location\", \"compliance\", \"representative\", \"memo\", \"computer\", \"internal\", \"operate\", \"win\", \"interview\", \"target\", \"maintain\", \"assistant\", \"ticket\", \"electronic\", \"paul\", \"approach\", \"extend\", \"software\", \"office\", \"fyi\", \"manage\", \"november\", \"december\", \"north_america\", \"put\", \"mark\", \"benefit\", \"new\", \"net\", \"et\", \"lead\", \"contain\", \"future\", \"david\", \"stock\", \"relate\", \"release\", \"share\", \"conduct\", \"provision\", \"vote\", \"pension\", \"confirm\", \"language\", \"settlement\", \"assume\", \"fact\", \"shall\", \"seem\", \"loss\", \"separate\", \"evidence\", \"bid\", \"violation\", \"reject\", \"damage\", \"average\", \"aware\", \"explain\", \"earning\", \"decline\", \"express\", \"retirement\", \"related\", \"datum\", \"certain\", \"value\", \"price\", \"sell\", \"benefit\", \"use\", \"concern\", \"basis\", \"period\", \"base\", \"represent\", \"issue\", \"expect\", \"point\", \"term\", \"file\", \"believe\", \"employer\", \"game\", \"security\", \"play\", \"other\", \"violate\", \"season\", \"staff\", \"class\", \"travel\", \"workplace\", \"active\", \"miss\", \"opinion\", \"tim\", \"region\", \"man\", \"never\", \"challenge\", \"blackberry\", \"blackberry_wireless\", \"handheld_www\", \"secretary\", \"consent\", \"female\", \"league\", \"trip\", \"harassment\", \"better\", \"watch\", \"free_agent\", \"accord\", \"right\", \"turn\", \"big\", \"start\", \"first\", \"second\", \"place\", \"world\", \"agreement\", \"cash\", \"claim\", \"payment\", \"permit\", \"compensation\", \"corporate\", \"apply\", \"fund\", \"annual\", \"termination\", \"fee\", \"purchase\", \"investment\", \"contractor\", \"salary\", \"statement\", \"terminate\", \"obtain\", \"expense\", \"construction\", \"supervisor\", \"bank\", \"entity\", \"various\", \"obligation\", \"liability\", \"pre\", \"indemnification\", \"equity\", \"rate\", \"pay\", \"account\", \"legal\", \"cost\", \"sale\", \"contract\", \"act\", \"charge\", \"hire\", \"require\", \"term\", \"amount\", \"include\", \"month\", \"must\", \"may\", \"ect\", \"hou\", \"kayne_coulter\", \"elizabeth_sager\", \"sturm\", \"highlight\", \"louis_soldano\", \"fran_maye\", \"th_floornew\", \"madison_ave\", \"wayne_herndon\", \"lon\", \"carolyn\", \"mark_haedicke\", \"cyril_price\", \"russell\", \"reschedule\", \"richard_hrabal\", \"mill\", \"greenberg\", \"michellecash\", \"elliott\", \"jbrown\", \"sullivan\", \"forecast\", \"slot\", \"kyle_schultz\", \"del_vecchio\", \"jordan_mintz\", \"ectattach\", \"simone\", \"corp\", \"scott\", \"forward\", \"michellepm\", \"north_america\", \"court\", \"plant\", \"discrimination\", \"safety\", \"air\", \"mexico\", \"district\", \"district_court\", \"sue\", \"plaintiff\", \"deny\", \"independent\", \"refuse\", \"transwestern\", \"criminal\", \"arizona\", \"subsidiary\", \"dynegy\", \"rank\", \"jury\", \"affirm\", \"waiver\", \"defense\", \"dismiss\", \"judgment\", \"tank\", \"petition\", \"water\", \"foreign\", \"determination\", \"facility\", \"agency\", \"appeals_court\", \"pipeline\", \"economy\", \"percent\", \"federal\", \"say\", \"department\", \"co\", \"decision\", \"local\", \"fail\", \"year\", \"call\", \"nlrb\", \"allow\", \"th_cir\", \"could\", \"company\", \"page\", \"law\", \"free\", \"click\", \"president\", \"appeal\", \"appropriate\", \"save\", \"color\", \"respect\", \"woman\", \"yard\", \"tuesday\", \"life\", \"print\", \"web\", \"step\", \"bar\", \"recommend\", \"food\", \"privacy\", \"unsubscribe\", \"bonne_castellano\", \"feature\", \"sex\", \"clause\", \"car\", \"adopt\", \"saving\", \"gift\", \"online\", \"offer\", \"view\", \"site\", \"news\", \"child\", \"home\", \"find\", \"new\", \"available\", \"worker\", \"texas\", \"health\", \"tax\", \"center\", \"wage\", \"late\", \"labour\", \"suit\", \"card\", \"yahoo\", \"airline\", \"hotel\", \"school\", \"advice\", \"university\", \"metal\", \"oct\", \"ill\", \"council\", \"span\", \"nov\", \"education\", \"conclude\", \"oil\", \"medical\", \"immigration\", \"campaign\", \"nurse\", \"discharge\", \"family\", \"civil_right\", \"city\", \"serve\", \"country\", \"washington\", \"green\", \"content\", \"top\", \"scott\", \"co\", \"building\", \"people\", \"judge\", \"full\", \"year\", \"attach\", \"align\", \"approve\", \"government\", \"suggest\", \"establish\", \"test\", \"player\", \"measure\", \"daily\", \"authority\", \"border\", \"pat\", \"third\", \"trust\", \"bankruptcy\", \"successful\", \"input\", \"breach\", \"lack\", \"exempt\", \"common\", \"statute\", \"roll\", \"index\", \"consolidate\", \"physical\", \"otc\", \"voluntary\", \"tony\", \"add\", \"inform\", \"report\", \"ago\", \"option\", \"study\", \"final\", \"pm\", \"position\", \"total\", \"change\", \"result\", \"cover\", \"gas\", \"intended_recipient\", \"delete\", \"august\", \"recipient\", \"strictly_prohibit\", \"circuit\", \"privileged_material\", \"disclosure\", \"jim\", \"peter\", \"amy\", \"kind\", \"karen\", \"floor\", \"attorney_client\", \"cindy\", \"privilege\", \"temporary\", \"suite\", \"ed\", \"larry_valderrama\", \"streethouston_texas\", \"roger\", \"perhaps\", \"cathy\", \"enforceable_contract\", \"aid\", \"attachments_hereto\", \"press\", \"clark\", \"sole\", \"copy\", \"littler\", \"joe\", \"destroy\", \"michael\", \"corp\", \"distribution\", \"jame\", \"chris\", \"basis\", \"smith\", \"dave\", \"contain\", \"union\", \"image\", \"protection\", \"trial\", \"bush\", \"search\", \"sample\", \"dispute\", \"liquid\", \"sector\", \"reverse\", \"newsletter\", \"unemployment\", \"in\", \"provider\", \"guidance\", \"campbell\", \"rich\", \"membership\", \"liable\", \"copyright\", \"body\", \"rights_reserv\", \"ban\", \"ohio\", \"subscribe\", \"military\", \"ben\", \"australia\", \"liz\", \"sexual\", \"register\", \"judge\", \"internet\", \"remove\", \"buy\", \"corporation\", \"alert\", \"technology\", \"world\", \"receive\", \"table\", \"york\", \"hope\", \"size\", \"title\", \"age\", \"model\", \"role\", \"version\", \"ahead\", \"reflect\", \"workforce\", \"ca\", \"ken\", \"topic\", \"red\", \"lay\", \"lie\", \"script\", \"kid\", \"motion\", \"diversity\", \"dalla\", \"greg\", \"direction\", \"proprietary\", \"guideline\", \"receipt\", \"ms\", \"normal\", \"sit\", \"participation\", \"store\", \"document\", \"field\", \"right\", \"private\", \"begin\", \"delivery\", \"face\", \"doc\", \"text\", \"font\", \"width\", \"tr\", \"br\", \"amendment\", \"colspan\", \"strategy\", \"td\", \"owe\", \"nbsp\", \"progress\", \"face_arial\", \"hall\", \"confirmation\", \"merit\", \"nbsp_nbsp\", \"div\", \"jpg\", \"sentence\", \"sheet\", \"database\", \"br_br\", \"amp\", \"table_width\", \"brad\", \"cellpadd\", \"neil\", \"border_cellspac\", \"span_class\", \"colspan_valign\", \"cellpadding_cellspac\", \"class_emailtextblack\", \"leave\", \"board\", \"transaction\", \"severance\", \"aa\", \"refer\", \"pend\", \"eott\", \"exclude\", \"even_though\", \"llc\", \"pdf\", \"cap\", \"intent\", \"calculation\", \"illegal\", \"sec\", \"assessment\", \"apparently\", \"reinstate\", \"illegally\", \"fiscal\", \"style\", \"entry\", \"maximum\", \"door\", \"allegedly\", \"smoke\", \"cir\", \"interim\", \"recall\", \"eeoc\", \"ccite_cc\", \"aa_ac\", \"usa_bcdata\", \"research_buttontflink\", \"wchp_ddglszs\", \"del_fcite\", \"lslwk\", \"fcite_dfull\", \"unfair_labor\", \"nlrb\"], \"Total\": [346693.0, 304205.0, 53592.0, 35918.0, 25346.0, 27042.0, 27074.0, 20620.0, 23659.0, 19644.0, 15047.0, 21775.0, 29737.0, 19319.0, 10229.0, 17700.0, 11176.0, 9577.0, 17694.0, 9923.0, 15708.0, 9309.0, 7708.0, 9526.0, 14729.0, 10828.0, 17298.0, 11111.0, 12975.0, 10084.0, 21775.30859375, 19319.0078125, 17700.1640625, 12975.28515625, 11325.7890625, 9952.5263671875, 9256.1533203125, 8721.861328125, 7099.75390625, 5411.73876953125, 4271.4638671875, 4257.89990234375, 4245.28515625, 3171.714111328125, 2966.435791015625, 2925.220458984375, 2841.511962890625, 2804.27978515625, 2773.152099609375, 2742.082763671875, 2690.4736328125, 2126.65234375, 2059.67919921875, 2031.260986328125, 2014.40966796875, 1965.3468017578125, 1952.98876953125, 1948.977294921875, 1924.3006591796875, 1892.963134765625, 15708.7392578125, 4052.818603515625, 5315.9990234375, 11758.0810546875, 12997.9091796875, 6367.2724609375, 5673.650390625, 4342.54052734375, 4877.86962890625, 9403.978515625, 6027.37109375, 6123.330078125, 29737.353515625, 10375.732421875, 16356.9951171875, 9142.5029296875, 14952.90625, 12447.0673828125, 6306.4326171875, 17694.787109375, 8244.341796875, 11111.0576171875, 14641.83203125, 20431.595703125, 11659.2783203125, 23659.333984375, 346693.65625, 3995.819091796875, 3990.708740234375, 2351.786376953125, 1992.8897705078125, 1858.1572265625, 1797.5067138671875, 1763.7193603515625, 1589.607666015625, 1330.531982421875, 1327.981201171875, 1161.4722900390625, 1160.5413818359375, 1126.634765625, 1118.30078125, 1106.887451171875, 1103.4405517578125, 1083.7420654296875, 1066.2535400390625, 989.60205078125, 962.6741333007812, 946.0648193359375, 929.2045288085938, 911.4857177734375, 910.05859375, 909.94921875, 890.4679565429688, 878.0303955078125, 870.5214233398438, 1992.194580078125, 7188.1142578125, 3324.0302734375, 6402.45068359375, 2836.0634765625, 1536.2369384765625, 2233.9365234375, 6428.02685546875, 3218.471923828125, 3416.9404296875, 5398.1708984375, 5066.7978515625, 2265.550048828125, 9802.5224609375, 9651.9462890625, 6880.537109375, 4865.671875, 4619.541015625, 4550.74072265625, 4048.37255859375, 3740.51025390625, 3170.012939453125, 3071.735595703125, 2987.2109375, 2838.611572265625, 2763.126220703125, 2544.966552734375, 2468.69482421875, 2456.666748046875, 2247.09716796875, 2071.92919921875, 1934.832275390625, 1895.3555908203125, 1864.7069091796875, 1784.669189453125, 1753.789306640625, 1716.3602294921875, 1686.7777099609375, 1596.6722412109375, 1522.5260009765625, 1511.02001953125, 1466.8924560546875, 1377.94482421875, 10056.91015625, 5080.3857421875, 9509.7587890625, 14729.66015625, 2983.85205078125, 2530.19921875, 4447.361328125, 4765.025390625, 3154.5869140625, 5471.310546875, 2665.015380859375, 8329.1171875, 3693.88720703125, 3257.100830078125, 17298.076171875, 14635.40625, 6386.5634765625, 5238.1318359375, 8689.4775390625, 10464.5234375, 11176.6591796875, 304205.90625, 3401.6689453125, 3282.64306640625, 2156.86474609375, 1861.5126953125, 1444.8583984375, 1269.155517578125, 1072.3414306640625, 1071.9656982421875, 976.6885375976562, 968.34326171875, 897.5292358398438, 880.4277954101562, 880.3706665039062, 862.0709228515625, 861.7391357421875, 850.3271484375, 849.413818359375, 815.884033203125, 805.0020141601562, 801.5293579101562, 799.3441162109375, 794.5889892578125, 781.79931640625, 769.7903442382812, 749.82861328125, 735.5242309570312, 716.2384033203125, 715.6367797851562, 686.288818359375, 1803.31103515625, 5196.8466796875, 1073.1578369140625, 2771.145263671875, 3218.471923828125, 6428.02685546875, 12447.0673828125, 20431.595703125, 27074.447265625, 6415.908203125, 5671.248046875, 5430.06103515625, 5276.76513671875, 5248.38818359375, 4897.70361328125, 2480.27587890625, 2363.47802734375, 2309.5322265625, 2082.044189453125, 2059.799560546875, 1982.5633544921875, 1950.2982177734375, 1791.543212890625, 1696.7042236328125, 1619.002685546875, 1461.26123046875, 1448.22998046875, 1443.1279296875, 1406.26904296875, 1400.40576171875, 1340.3984375, 1324.508544921875, 1305.5296630859375, 1276.0284423828125, 1225.6201171875, 1183.1915283203125, 1176.9354248046875, 1118.6063232421875, 2722.0205078125, 1688.14013671875, 3652.5693359375, 1483.622802734375, 11253.755859375, 12149.658203125, 9698.3896484375, 7655.93505859375, 2496.75048828125, 4525.59326171875, 17694.787109375, 4338.78369140625, 3342.0595703125, 4176.45166015625, 14641.83203125, 2838.363525390625, 29737.353515625, 10464.5234375, 4478.26904296875, 3978.225830078125, 11659.2783203125, 6765.83154296875, 27042.6796875, 20620.16796875, 10828.7763671875, 10084.20703125, 8772.6220703125, 6047.95703125, 5313.19873046875, 3751.85791015625, 2490.957275390625, 2444.6865234375, 2140.32763671875, 2046.7652587890625, 1860.44384765625, 1712.5318603515625, 1686.1343994140625, 1668.7449951171875, 1642.595947265625, 1636.55078125, 1562.87109375, 1530.6905517578125, 1497.7769775390625, 1486.965087890625, 1455.501953125, 1395.7476806640625, 1388.8958740234375, 1336.68896484375, 1325.9361572265625, 1284.445068359375, 1278.724609375, 1255.177734375, 19644.380859375, 2440.366455078125, 7699.779296875, 10432.2861328125, 14096.509765625, 5405.06005859375, 5060.46826171875, 8433.4130859375, 3446.3994140625, 2888.2724609375, 5301.29296875, 12779.2158203125, 5754.8974609375, 20431.595703125, 4618.2216796875, 6765.83154296875, 4580.7490234375, 3389.31982421875, 8001.88818359375, 4636.83203125, 9698.3896484375, 14641.83203125, 9526.4970703125, 5209.6904296875, 3413.1005859375, 3313.6962890625, 2650.79833984375, 2414.60205078125, 2109.36083984375, 2055.32568359375, 2009.51953125, 1951.50048828125, 1855.4136962890625, 1851.4210205078125, 1784.283203125, 1751.796630859375, 1723.0272216796875, 1463.4403076171875, 1445.8050537109375, 1436.437255859375, 1364.6201171875, 1326.738525390625, 1325.1639404296875, 1307.073486328125, 1245.5872802734375, 1187.3448486328125, 1162.5594482421875, 1125.50537109375, 1116.2188720703125, 1100.0943603515625, 1092.1494140625, 1072.1884765625, 5777.31494140625, 1889.47314453125, 2032.3812255859375, 2842.982177734375, 2448.404541015625, 2898.833984375, 3237.04736328125, 5066.7978515625, 7577.8349609375, 17298.076171875, 5196.8466796875, 2072.435791015625, 2829.204345703125, 2366.768310546875, 2192.062744140625, 6428.02685546875, 3352.6484375, 2821.450439453125, 2669.59326171875, 2392.857666015625, 2381.196533203125, 2344.970458984375, 2191.579345703125, 2098.98876953125, 1819.7216796875, 1674.75927734375, 1645.4256591796875, 1569.2342529296875, 1508.3533935546875, 1451.7830810546875, 1421.4395751953125, 1297.0185546875, 1221.17236328125, 1190.7919921875, 1165.996337890625, 1107.8673095703125, 1083.5107421875, 1026.6605224609375, 1022.79638671875, 1022.4439086914062, 1013.8409423828125, 961.606201171875, 914.2356567382812, 861.8071899414062, 823.6664428710938, 808.733642578125, 5241.6435546875, 1862.5404052734375, 2242.50244140625, 4578.24951171875, 1517.2740478515625, 7577.8349609375, 5603.478515625, 4152.4091796875, 2557.30224609375, 2586.736572265625, 6386.5634765625, 2028.8106689453125, 11253.755859375, 3734.109619140625, 4324.85009765625, 3751.51171875, 4618.2216796875, 4187.9091796875, 9923.3232421875, 5290.5908203125, 3863.574462890625, 3586.767822265625, 2442.220947265625, 2398.635498046875, 2334.821533203125, 2223.02294921875, 2171.421875, 2123.9091796875, 2085.461181640625, 1925.1025390625, 1875.0439453125, 1619.1883544921875, 1611.521240234375, 1581.2349853515625, 1478.2230224609375, 1467.1641845703125, 1423.152099609375, 1353.369140625, 1190.8056640625, 1190.803955078125, 1117.6234130859375, 1096.2869873046875, 1094.533203125, 987.83251953125, 971.7998657226562, 971.6126098632812, 968.3148803710938, 925.2595825195312, 2076.811767578125, 3702.10791015625, 7340.01953125, 1666.03173828125, 2224.390869140625, 5647.41845703125, 7587.90771484375, 3209.694091796875, 4472.43798828125, 3081.0146484375, 9309.3251953125, 5505.87451171875, 4604.5908203125, 2993.85693359375, 2670.59423828125, 2127.861083984375, 2015.9765625, 1977.1048583984375, 1480.644775390625, 1419.2568359375, 1402.6031494140625, 1351.9573974609375, 1329.1494140625, 1291.393798828125, 1277.6502685546875, 1258.5416259765625, 1235.4560546875, 1170.563720703125, 1156.4024658203125, 1155.894775390625, 1101.7076416015625, 1082.4100341796875, 1081.380126953125, 972.5490112304688, 859.4021606445312, 835.708984375, 787.5979614257812, 663.5277099609375, 777.2791137695312, 614.8838500976562, 2303.5595703125, 7761.26171875, 2210.006103515625, 5398.1708984375, 2768.48486328125, 1867.768310546875, 7056.560546875, 5374.37158203125, 2079.1044921875, 2527.826904296875, 4478.26904296875, 3751.51171875, 2182.2451171875, 8689.4775390625, 5266.52294921875, 3966.282958984375, 20431.595703125, 53592.08203125, 15047.033203125, 1679.09375, 1208.56787109375, 1202.4114990234375, 1190.8614501953125, 1177.3770751953125, 1163.0772705078125, 1033.786376953125, 958.0951538085938, 899.2664184570312, 835.3478393554688, 828.919189453125, 722.5228881835938, 654.748291015625, 644.8886108398438, 624.6285400390625, 611.0380859375, 592.1664428710938, 560.3421630859375, 534.1318359375, 489.6368103027344, 448.150634765625, 439.2192077636719, 427.1750793457031, 422.9969177246094, 418.7084655761719, 536.0540771484375, 392.66131591796875, 371.03515625, 1020.7786865234375, 35918.66015625, 3476.25, 9526.0341796875, 914.0648193359375, 2898.833984375, 5866.74658203125, 1547.010986328125, 1578.3543701171875, 1371.84619140625, 1332.0565185546875, 1052.437744140625, 1043.1241455078125, 1070.529296875, 930.8019409179688, 862.5118408203125, 820.4253540039062, 780.8341064453125, 721.98388671875, 722.12744140625, 718.2450561523438, 706.0733642578125, 705.889892578125, 682.3557739257812, 660.358642578125, 631.1973266601562, 593.0109252929688, 575.568359375, 558.53955078125, 556.1368408203125, 536.5835571289062, 517.3888549804688, 505.0088806152344, 493.0879821777344, 491.9681701660156, 445.9610595703125, 1529.2066650390625, 1958.23095703125, 671.606201171875, 916.82861328125, 673.2581176757812, 3861.182373046875, 3703.31787109375, 11111.0576171875, 3614.980224609375, 4197.81298828125, 3509.92724609375, 2457.024169921875, 1786.541259765625, 14635.40625, 12779.2158203125, 1578.9327392578125, 3322.379638671875, 2040.5782470703125, 9403.978515625, 14729.66015625, 25346.525390625, 7358.67431640625, 4046.67578125, 2829.154052734375, 2217.272705078125, 1633.204833984375, 1611.750732421875, 1503.7952880859375, 1495.4622802734375, 1425.406982421875, 1364.1873779296875, 1284.8037109375, 1275.0057373046875, 1249.512451171875, 1135.9849853515625, 1122.6217041015625, 1114.498046875, 1093.68212890625, 1082.3907470703125, 1055.1829833984375, 1021.6510620117188, 909.6517944335938, 778.052490234375, 764.70654296875, 744.529296875, 732.8125, 719.7564697265625, 713.85205078125, 703.3033447265625, 692.9938354492188, 1034.5594482421875, 5044.33447265625, 2183.8779296875, 2464.2646484375, 1993.568359375, 1499.642578125, 2996.595947265625, 6992.47509765625, 17298.076171875, 3389.31982421875, 9577.2080078125, 3935.598388671875, 2922.31787109375, 2389.5263671875, 2387.154052734375, 2374.338623046875, 2178.4150390625, 1653.7423095703125, 1619.691650390625, 1355.32275390625, 1340.311767578125, 1143.17236328125, 1106.559814453125, 1070.4332275390625, 1047.2763671875, 866.194580078125, 838.1436767578125, 775.5438842773438, 768.2030029296875, 755.0712280273438, 741.8063354492188, 732.386962890625, 704.3704223632812, 700.357421875, 659.4771728515625, 659.2960815429688, 653.70849609375, 590.8140258789062, 567.7224731445312, 567.2012329101562, 1770.2166748046875, 622.5709838867188, 1829.859375, 1162.9332275390625, 1906.1607666015625, 1675.28564453125, 1367.8466796875, 953.4476928710938, 3148.527587890625, 3476.25, 4197.81298828125, 1035.904052734375, 4342.5673828125, 2768.791015625, 2445.11474609375, 14635.40625, 7624.53466796875, 4264.291015625, 3792.744873046875, 3454.742431640625, 2835.671875, 2440.603515625, 2136.826904296875, 1964.917236328125, 1958.488525390625, 1740.21337890625, 1659.54345703125, 1551.410888671875, 1376.2686767578125, 1317.697998046875, 1129.902587890625, 1027.6202392578125, 1002.3528442382812, 1001.1046142578125, 965.1802978515625, 923.1495361328125, 896.8779907226562, 875.4112548828125, 835.3670654296875, 812.0541381835938, 809.5560302734375, 725.7930297851562, 616.7415771484375, 607.26708984375, 600.087158203125, 536.438720703125, 3567.10302734375, 1477.880859375, 11176.6591796875, 1233.3543701171875, 3943.942626953125, 1511.394775390625, 2907.5810546875, 1414.760986328125, 3841.384033203125, 2106.330322265625, 8001.88818359375, 4061.025634765625, 2488.4052734375, 3186.23095703125, 2986.804931640625, 1608.2213134765625, 1383.2410888671875, 1244.84228515625, 1195.28857421875, 1072.848876953125, 971.8074340820312, 911.0383911132812, 887.6007690429688, 853.315673828125, 795.3414306640625, 783.6704711914062, 757.6504516601562, 750.6041870117188, 652.2681274414062, 633.1410522460938, 630.6614990234375, 622.0372314453125, 602.7138671875, 586.4468994140625, 584.117919921875, 582.6614379882812, 549.3936767578125, 520.45263671875, 502.0420837402344, 495.5976257324219, 476.5193786621094, 454.5177307128906, 444.2983703613281, 443.8201599121094, 1059.7886962890625, 5811.61572265625, 615.1516723632812, 1146.9769287109375, 565.4447021484375, 2265.550048828125, 35918.66015625, 2234.58935546875, 2135.66796875, 1024.4937744140625, 2557.30224609375, 6402.45068359375, 941.3395385742188, 2366.768310546875, 10229.53515625, 7708.13427734375, 1475.537353515625, 1389.7919921875, 1314.65673828125, 1076.9539794921875, 1072.7279052734375, 1057.064697265625, 806.6550903320312, 767.1421508789062, 678.812744140625, 676.7011108398438, 657.670166015625, 625.2175903320312, 619.3672485351562, 566.9215087890625, 564.0997314453125, 559.039306640625, 549.5454711914062, 522.9962768554688, 501.4467468261719, 493.3348693847656, 458.4781188964844, 434.1868896484375, 415.5918273925781, 414.0556945800781, 392.8905029296875, 379.21392822265625, 364.21954345703125, 347.7057800292969, 450.17529296875, 1335.1710205078125, 2768.791015625, 1724.7374267578125, 1527.481689453125, 1739.1051025390625, 2234.421875, 1090.485595703125, 1084.1732177734375, 3081.0146484375, 10432.2861328125, 4317.27978515625, 3944.144775390625, 3231.37353515625, 2405.025634765625, 1833.216552734375, 1556.2166748046875, 1486.6697998046875, 1460.04931640625, 1430.9488525390625, 1173.33837890625, 1109.838623046875, 1072.5751953125, 1059.513916015625, 988.818603515625, 798.7149658203125, 754.7637939453125, 749.8985595703125, 748.3646850585938, 722.3702392578125, 687.0747680664062, 674.3536987304688, 672.374267578125, 642.8023071289062, 636.7989501953125, 615.7823486328125, 614.70703125, 569.46435546875, 523.0935668945312, 516.1928100585938, 506.8280944824219, 653.2551879882812, 755.462158203125, 1258.6484375, 5747.150390625, 1025.27001953125, 7340.01953125, 859.7620849609375, 3010.0517578125, 963.8660888671875, 1359.9371337890625, 5733.4267578125, 5002.2236328125, 3432.626953125, 2869.798095703125, 2444.659912109375, 1946.553955078125, 1475.3804931640625, 1237.8304443359375, 1025.239013671875, 866.1475830078125, 828.446533203125, 827.4315795898438, 790.6217041015625, 732.9029541015625, 715.3279418945312, 690.8275146484375, 661.9449462890625, 645.335693359375, 584.4776611328125, 568.593505859375, 554.9995727539062, 547.1163330078125, 537.2886352539062, 535.599853515625, 534.6383666992188, 530.943603515625, 529.44189453125, 515.1685180664062, 509.7691955566406, 483.2685852050781, 1941.7001953125, 872.6428833007812, 908.4642333984375, 1713.4822998046875, 8244.341796875, 4413.8955078125, 3057.7666015625, 2063.4267578125, 1004.3331298828125, 911.3018188476562, 713.6505126953125, 686.2785034179688, 633.778076171875, 633.5299682617188, 629.70068359375, 540.2076416015625, 509.4002380371094, 445.3354797363281, 429.8536071777344, 417.2049255371094, 381.2615051269531, 349.94342041015625, 346.8419189453125, 339.70062255859375, 337.6903991699219, 336.5548095703125, 331.4248962402344, 326.6727600097656, 314.56634521484375, 306.51336669921875, 298.8511657714844, 297.1083679199219, 331.563720703125, 273.64117431640625, 273.6311950683594, 1285.2449951171875, 1851.50634765625, 1089.44970703125, 1089.44970703125, 953.3683471679688, 887.2991943359375, 844.5032958984375, 751.2174682617188, 708.421875, 607.9732666015625, 1578.9327392578125], \"loglift\": [30.0, 29.0, 28.0, 27.0, 26.0, 25.0, 24.0, 23.0, 22.0, 21.0, 20.0, 19.0, 18.0, 17.0, 16.0, 15.0, 14.0, 13.0, 12.0, 11.0, 10.0, 9.0, 8.0, 7.0, 6.0, 5.0, 4.0, 3.0, 2.0, 1.0, 2.0924999713897705, 2.0924999713897705, 2.0924999713897705, 2.0924999713897705, 2.0924999713897705, 2.0924999713897705, 2.0924999713897705, 2.0924999713897705, 2.0924999713897705, 2.092400074005127, 2.092400074005127, 2.092400074005127, 2.092400074005127, 2.0922999382019043, 2.0922999382019043, 2.0922999382019043, 2.0922999382019043, 2.0922999382019043, 2.0922999382019043, 2.0922999382019043, 2.0922999382019043, 2.0922000408172607, 2.0922000408172607, 2.0922000408172607, 2.0922000408172607, 2.0922000408172607, 2.0922000408172607, 2.092099905014038, 2.092099905014038, 2.092099905014038, 2.077899932861328, 2.0817999839782715, 2.074199914932251, 2.043299913406372, 2.0313000679016113, 2.0536000728607178, 2.0439999103546143, 2.054800033569336, 2.0452001094818115, 1.9735000133514404, 2.017899990081787, 1.9945000410079956, 1.7884000539779663, 1.923200011253357, 1.7740999460220337, 1.8472000360488892, 1.7067999839782715, 1.7309999465942383, 1.892699956893921, 1.3187999725341797, 1.68340003490448, 1.4357000589370728, 1.2173000574111938, 0.9186999797821045, 1.2975000143051147, 2.24399995803833, 2.24399995803833, 2.2439000606536865, 2.2439000606536865, 2.2437000274658203, 2.2437000274658203, 2.2435998916625977, 2.2435998916625977, 2.2435998916625977, 2.2435998916625977, 2.243499994277954, 2.243499994277954, 2.2434000968933105, 2.2434000968933105, 2.2434000968933105, 2.2434000968933105, 2.2434000968933105, 2.2434000968933105, 2.243299961090088, 2.243299961090088, 2.243299961090088, 2.2432000637054443, 2.2432000637054443, 2.2432000637054443, 2.2432000637054443, 2.2432000637054443, 2.2432000637054443, 2.2432000637054443, 2.2432000637054443, 2.2432000637054443, 2.231300115585327, 2.0327000617980957, 2.098299980163574, 2.016400098800659, 2.111599922180176, 2.1659998893737793, 2.0311999320983887, 1.6328999996185303, 1.749500036239624, 1.4471999406814575, 1.1448999643325806, 1.0399999618530273, 1.6152000427246094, 2.4342000484466553, 2.4342000484466553, 2.4342000484466553, 2.4340999126434326, 2.4340999126434326, 2.4340999126434326, 2.4340999126434326, 2.4340999126434326, 2.434000015258789, 2.434000015258789, 2.434000015258789, 2.434000015258789, 2.434000015258789, 2.434000015258789, 2.434000015258789, 2.434000015258789, 2.4339001178741455, 2.4339001178741455, 2.4339001178741455, 2.4339001178741455, 2.4339001178741455, 2.433799982070923, 2.433799982070923, 2.433799982070923, 2.433799982070923, 2.433799982070923, 2.433799982070923, 2.4337000846862793, 2.4337000846862793, 2.4337000846862793, 2.4035000801086426, 2.395699977874756, 2.3701999187469482, 2.3287999629974365, 2.403899908065796, 2.4117000102996826, 2.376800060272217, 2.369499921798706, 2.3928000926971436, 2.336699962615967, 2.3894999027252197, 2.2227001190185547, 2.337899923324585, 2.3438000679016113, 1.698699951171875, 1.577299952507019, 1.940600037574768, 1.9925999641418457, 1.6541999578475952, 1.3665000200271606, 1.1495000123977661, 2.527100086212158, 2.526900053024292, 2.526900053024292, 2.5267999172210693, 2.526700019836426, 2.526599884033203, 2.5264999866485596, 2.526400089263916, 2.526400089263916, 2.5262999534606934, 2.5262999534606934, 2.52620005607605, 2.52620005607605, 2.52620005607605, 2.52620005607605, 2.52620005607605, 2.52620005607605, 2.52620005607605, 2.52620005607605, 2.526099920272827, 2.526099920272827, 2.526099920272827, 2.526099920272827, 2.526099920272827, 2.526099920272827, 2.526099920272827, 2.5260000228881836, 2.5260000228881836, 2.5260000228881836, 2.5260000228881836, 2.351300001144409, 1.872499942779541, 2.390899896621704, 1.8321000337600708, 1.5853999853134155, 0.906499981880188, -0.037300001829862595, -0.6176999807357788, 2.603100061416626, 2.6029999256134033, 2.6029000282287598, 2.6029000282287598, 2.6029000282287598, 2.6029000282287598, 2.6029000282287598, 2.602799892425537, 2.6026999950408936, 2.6026999950408936, 2.6026999950408936, 2.6026999950408936, 2.6026999950408936, 2.6026999950408936, 2.60260009765625, 2.60260009765625, 2.60260009765625, 2.6024999618530273, 2.6024999618530273, 2.6024999618530273, 2.6024999618530273, 2.6024999618530273, 2.6024999618530273, 2.6024999618530273, 2.6024999618530273, 2.602400064468384, 2.602400064468384, 2.602400064468384, 2.602400064468384, 2.602400064468384, 2.594599962234497, 2.5901999473571777, 2.5192999839782715, 2.5855000019073486, 2.345599889755249, 2.321000099182129, 2.3062000274658203, 2.297600030899048, 2.4788999557495117, 2.34689998626709, 1.9845000505447388, 2.3313000202178955, 2.381200075149536, 2.259399890899658, 1.7293000221252441, 2.34660005569458, 1.15339994430542, 1.6806999444961548, 2.086400032043457, 2.149899959564209, 1.3961999416351318, 1.7660000324249268, 2.649600028991699, 2.649600028991699, 2.649600028991699, 2.649600028991699, 2.6494998931884766, 2.6494998931884766, 2.6494998931884766, 2.649399995803833, 2.6493000984191895, 2.6493000984191895, 2.6493000984191895, 2.649199962615967, 2.649199962615967, 2.649199962615967, 2.6491000652313232, 2.6491000652313232, 2.6491000652313232, 2.6491000652313232, 2.6491000652313232, 2.6491000652313232, 2.6491000652313232, 2.6491000652313232, 2.6491000652313232, 2.6489999294281006, 2.6489999294281006, 2.6489999294281006, 2.6489999294281006, 2.6489999294281006, 2.6489999294281006, 2.6489999294281006, 2.6352999210357666, 2.6321001052856445, 2.511399984359741, 2.4684998989105225, 2.407900094985962, 2.5072999000549316, 2.50219988822937, 2.3320999145507812, 2.4690001010894775, 2.505199909210205, 2.3559000492095947, 2.1384999752044678, 2.283900022506714, 1.7452000379562378, 2.236299991607666, 2.057499885559082, 2.1623001098632812, 2.2411999702453613, 1.516800045967102, 1.9646999835968018, 1.2903000116348267, 0.8528000116348267, 3.0485000610351562, 3.0483999252319336, 3.0483999252319336, 3.0483999252319336, 3.04830002784729, 3.04830002784729, 3.0481998920440674, 3.0481998920440674, 3.0481998920440674, 3.0481998920440674, 3.0481998920440674, 3.0481998920440674, 3.048099994659424, 3.048099994659424, 3.048099994659424, 3.0480000972747803, 3.0480000972747803, 3.0480000972747803, 3.0480000972747803, 3.0480000972747803, 3.0480000972747803, 3.0480000972747803, 3.0478999614715576, 3.0478999614715576, 3.0478999614715576, 3.0478999614715576, 3.0478999614715576, 3.0478999614715576, 3.0478999614715576, 3.047800064086914, 3.029599905014038, 3.0278000831604004, 3.0060999393463135, 2.9230000972747803, 2.9268999099731445, 2.852099895477295, 2.753200054168701, 2.5673999786376953, 2.2325000762939453, 1.8112000226974487, 2.3150999546051025, 2.802799940109253, 2.613300085067749, 2.7090001106262207, 2.7569000720977783, 1.6992000341415405, 3.136199951171875, 3.136199951171875, 3.1361000537872314, 3.1361000537872314, 3.1361000537872314, 3.1361000537872314, 3.1361000537872314, 3.1361000537872314, 3.135999917984009, 3.135999917984009, 3.135999917984009, 3.1359000205993652, 3.1359000205993652, 3.1359000205993652, 3.1359000205993652, 3.1357998847961426, 3.1357998847961426, 3.1357998847961426, 3.135699987411499, 3.135699987411499, 3.135699987411499, 3.135699987411499, 3.1356000900268555, 3.1356000900268555, 3.1356000900268555, 3.1356000900268555, 3.1356000900268555, 3.135499954223633, 3.135499954223633, 3.1354000568389893, 3.06850004196167, 3.0343000888824463, 2.9937000274658203, 2.8803999423980713, 3.003200054168701, 2.4393999576568604, 2.52839994430542, 2.54010009765625, 2.7126998901367188, 2.6503000259399414, 1.9642000198364258, 2.7163000106811523, 1.4133000373840332, 2.248699903488159, 2.120500087738037, 2.2253000736236572, 1.982800006866455, 2.0611000061035156, 3.1519999504089355, 3.151900053024292, 3.151900053024292, 3.151900053024292, 3.1517999172210693, 3.151700019836426, 3.151700019836426, 3.151700019836426, 3.151700019836426, 3.151700019836426, 3.151700019836426, 3.151700019836426, 3.151700019836426, 3.151599884033203, 3.151599884033203, 3.151599884033203, 3.1514999866485596, 3.1514999866485596, 3.1514999866485596, 3.1514999866485596, 3.151400089263916, 3.151400089263916, 3.151400089263916, 3.1512999534606934, 3.1512999534606934, 3.1512999534606934, 3.1512999534606934, 3.1512999534606934, 3.15120005607605, 3.15120005607605, 3.1489999294281006, 3.0285000801086426, 2.3622000217437744, 2.884200096130371, 2.739300012588501, 1.9062999486923218, 1.4766000509262085, 2.1886000633239746, 1.8759000301361084, 2.2090001106262207, 3.2155001163482666, 3.2155001163482666, 3.215399980545044, 3.215399980545044, 3.2153000831604004, 3.2151999473571777, 3.2151999473571777, 3.2151999473571777, 3.215100049972534, 3.2149999141693115, 3.2149999141693115, 3.2149999141693115, 3.2149999141693115, 3.2149999141693115, 3.2149999141693115, 3.2149999141693115, 3.2149999141693115, 3.214900016784668, 3.214900016784668, 3.214900016784668, 3.214900016784668, 3.214900016784668, 3.214900016784668, 3.2147998809814453, 3.2146999835968018, 3.214600086212158, 3.214600086212158, 3.214400053024292, 3.2142999172210693, 3.2142999172210693, 3.1756999492645264, 3.0857999324798584, 3.0687999725341797, 2.8101999759674072, 2.837399959564209, 2.959399938583374, 2.3914999961853027, 2.501699924468994, 2.8968000411987305, 2.732800006866455, 2.3076000213623047, 2.3671998977661133, 2.712899923324585, 1.3952000141143799, 1.8594000339508057, 2.1252999305725098, 0.4544999897480011, 3.2569000720977783, 3.2567999362945557, 3.2564001083374023, 3.256200075149536, 3.256200075149536, 3.256200075149536, 3.256200075149536, 3.256200075149536, 3.2560999393463135, 3.2560999393463135, 3.25600004196167, 3.25600004196167, 3.25600004196167, 3.2558000087738037, 3.25570011138916, 3.25570011138916, 3.2555999755859375, 3.2555999755859375, 3.2555999755859375, 3.255500078201294, 3.2553999423980713, 3.2553000450134277, 3.255199909210205, 3.2551000118255615, 3.2551000118255615, 3.2551000118255615, 3.255000114440918, 3.2548999786376953, 3.2548999786376953, 3.2548000812530518, 3.2248001098632812, 3.098099946975708, 2.4026999473571777, 1.7719999551773071, 2.7146999835968018, 1.531599998474121, 3.2964999675750732, 3.296099901199341, 3.296099901199341, 3.2960000038146973, 3.2960000038146973, 3.295799970626831, 3.295799970626831, 3.295799970626831, 3.2957000732421875, 3.295599937438965, 3.295599937438965, 3.2955000400543213, 3.2953999042510986, 3.2953999042510986, 3.2953999042510986, 3.2953999042510986, 3.2953999042510986, 3.2953999042510986, 3.295300006866455, 3.295300006866455, 3.2952001094818115, 3.2952001094818115, 3.295099973678589, 3.295099973678589, 3.2950000762939453, 3.2950000762939453, 3.2948999404907227, 3.2948999404907227, 3.2948999404907227, 3.2946999073028564, 3.2869999408721924, 3.256999969482422, 3.268699884414673, 3.232800006866455, 3.263700008392334, 3.0274999141693115, 3.0023000240325928, 2.5655999183654785, 2.7983999252319336, 2.6644999980926514, 2.6807000637054443, 2.8050999641418457, 2.661099910736084, 1.0908000469207764, 1.1067999601364136, 2.66759991645813, 2.0429999828338623, 2.3457000255584717, 0.9117000102996826, 0.3928000032901764, 3.3206000328063965, 3.320499897003174, 3.3203999996185303, 3.3203001022338867, 3.3203001022338867, 3.3201000690460205, 3.3201000690460205, 3.3201000690460205, 3.3201000690460205, 3.3201000690460205, 3.319999933242798, 3.319999933242798, 3.319999933242798, 3.319999933242798, 3.3199000358581543, 3.3199000358581543, 3.3199000358581543, 3.3199000358581543, 3.3199000358581543, 3.3199000358581543, 3.3197999000549316, 3.319700002670288, 3.3196001052856445, 3.3196001052856445, 3.319499969482422, 3.319499969482422, 3.319499969482422, 3.319499969482422, 3.319499969482422, 3.3194000720977783, 3.1837000846862793, 2.539599895477295, 2.857300043106079, 2.7862000465393066, 2.8740999698638916, 3.0004000663757324, 2.6621999740600586, 2.054500102996826, 1.4807000160217285, 2.227299928665161, 3.3770999908447266, 3.377000093460083, 3.3768999576568604, 3.376800060272217, 3.376800060272217, 3.376800060272217, 3.376800060272217, 3.376699924468994, 3.376699924468994, 3.3766000270843506, 3.3766000270843506, 3.376499891281128, 3.3763999938964844, 3.3763999938964844, 3.3763999938964844, 3.376199960708618, 3.376199960708618, 3.3761000633239746, 3.3761000633239746, 3.3761000633239746, 3.3761000633239746, 3.375999927520752, 3.375999927520752, 3.375999927520752, 3.3759000301361084, 3.3759000301361084, 3.3759000301361084, 3.3757998943328857, 3.375699996948242, 3.375699996948242, 3.370500087738037, 3.375499963760376, 3.337599992752075, 3.3285000324249268, 3.2741000652313232, 3.238100051879883, 3.226099967956543, 3.289400100708008, 2.893899917602539, 2.8222999572753906, 2.575900077819824, 3.2190001010894775, 2.1612000465393066, 2.442699909210205, 2.5225000381469727, 0.6402000188827515, 3.429800033569336, 3.429800033569336, 3.4296998977661133, 3.4296998977661133, 3.4296998977661133, 3.4296000003814697, 3.4296000003814697, 3.429500102996826, 3.429500102996826, 3.429500102996826, 3.429500102996826, 3.4293999671936035, 3.4293999671936035, 3.42930006980896, 3.4291999340057373, 3.4291999340057373, 3.4291000366210938, 3.4291000366210938, 3.4291000366210938, 3.4291000366210938, 3.428999900817871, 3.428999900817871, 3.428999900817871, 3.4289000034332275, 3.4289000034332275, 3.428800106048584, 3.4286000728607178, 3.4286000728607178, 3.4286000728607178, 3.4284000396728516, 3.358099937438965, 3.3649001121520996, 3.1059000492095947, 3.2983999252319336, 2.9758999347686768, 3.2172000408172607, 2.9820001125335693, 3.2237000465393066, 2.6912999153137207, 2.8840999603271484, 1.8986999988555908, 2.170599937438965, 2.589400053024292, 2.34089994430542, 3.720900058746338, 3.7207000255584717, 3.720599889755249, 3.7204999923706055, 3.7204999923706055, 3.720400094985962, 3.7202999591827393, 3.7202999591827393, 3.7202999591827393, 3.7202000617980957, 3.720099925994873, 3.720099925994873, 3.720099925994873, 3.720099925994873, 3.719899892807007, 3.719899892807007, 3.719899892807007, 3.719899892807007, 3.7197999954223633, 3.7197999954223633, 3.7197999954223633, 3.7197999954223633, 3.7197000980377197, 3.719599962234497, 3.7195000648498535, 3.7195000648498535, 3.719399929046631, 3.719399929046631, 3.7193000316619873, 3.7193000316619873, 3.67330002784729, 3.3935000896453857, 3.6647000312805176, 3.4121999740600586, 3.652600049972534, 2.925600051879883, 1.3997999429702759, 2.8789000511169434, 2.8945999145507812, 3.3234000205993652, 2.6572000980377197, 1.9292000532150269, 3.340100049972534, 2.475100040435791, 3.7678000926971436, 3.7678000926971436, 3.7672998905181885, 3.7672998905181885, 3.7672998905181885, 3.7671000957489014, 3.7671000957489014, 3.7671000957489014, 3.766900062561035, 3.7667999267578125, 3.766700029373169, 3.766700029373169, 3.7665998935699463, 3.7665998935699463, 3.7665998935699463, 3.766400098800659, 3.766400098800659, 3.766400098800659, 3.766400098800659, 3.7662999629974365, 3.766200065612793, 3.766200065612793, 3.7660999298095703, 3.7660000324249268, 3.765899896621704, 3.765899896621704, 3.7657999992370605, 3.765700101852417, 3.7655999660491943, 3.765500068664551, 3.763400077819824, 3.659899950027466, 3.2685999870300293, 3.2560999393463135, 3.1851000785827637, 3.057300090789795, 2.9314000606536865, 3.243499994277954, 3.24180006980896, 2.544300079345703, 1.1136000156402588, 3.792799949645996, 3.7927000522613525, 3.7927000522613525, 3.79259991645813, 3.7925000190734863, 3.7923998832702637, 3.7923998832702637, 3.7923998832702637, 3.7923998832702637, 3.7922000885009766, 3.7922000885009766, 3.7922000885009766, 3.7922000885009766, 3.792099952697754, 3.7918999195098877, 3.7918999195098877, 3.7918999195098877, 3.791800022125244, 3.791800022125244, 3.791800022125244, 3.7916998863220215, 3.7916998863220215, 3.7916998863220215, 3.7916998863220215, 3.791599988937378, 3.791599988937378, 3.7915000915527344, 3.7913999557495117, 3.7913999557495117, 3.791300058364868, 3.77020001411438, 3.744499921798706, 3.6717000007629395, 3.3268001079559326, 3.662899971008301, 2.6974000930786133, 3.5852999687194824, 2.63070011138916, 3.4628000259399414, 3.145900011062622, 3.892699956893921, 3.892699956893921, 3.8926000595092773, 3.8926000595092773, 3.8924999237060547, 3.892400026321411, 3.8922998905181885, 3.892199993133545, 3.8921000957489014, 3.891900062561035, 3.891900062561035, 3.891900062561035, 3.8917999267578125, 3.8917999267578125, 3.891700029373169, 3.891700029373169, 3.8915998935699463, 3.8915998935699463, 3.8914999961853027, 3.891400098800659, 3.891400098800659, 3.891400098800659, 3.891400098800659, 3.8912999629974365, 3.8912999629974365, 3.8912999629974365, 3.8912999629974365, 3.8912999629974365, 3.8912999629974365, 3.891200065612793, 3.884399890899658, 3.8910999298095703, 3.8664000034332275, 3.7901999950408936, 2.759700059890747, 4.123799800872803, 4.123700141906738, 4.123499870300293, 4.1230998039245605, 4.123000144958496, 4.122799873352051, 4.122700214385986, 4.122600078582764, 4.122600078582764, 4.122600078582764, 4.122399806976318, 4.122300148010254, 4.122099876403809, 4.122000217437744, 4.122000217437744, 4.121799945831299, 4.121600151062012, 4.121600151062012, 4.121500015258789, 4.121500015258789, 4.121500015258789, 4.121500015258789, 4.121399879455566, 4.121300220489502, 4.121300220489502, 4.121200084686279, 4.121200084686279, 4.120999813079834, 4.1209001541137695, 4.1209001541137695, 4.042799949645996, 3.5829999446868896, 3.5831000804901123, 3.5831000804901123, 3.583199977874756, 3.59089994430542, 3.583199977874756, 3.5922999382019043, 3.5833001136779785, 3.581700086593628, 2.657599925994873], \"logprob\": [30.0, 29.0, 28.0, 27.0, 26.0, 25.0, 24.0, 23.0, 22.0, 21.0, 20.0, 19.0, 18.0, 17.0, 16.0, 15.0, 14.0, 13.0, 12.0, 11.0, 10.0, 9.0, 8.0, 7.0, 6.0, 5.0, 4.0, 3.0, 2.0, 1.0, -3.4895999431610107, -3.609299898147583, -3.6967999935150146, -4.007299900054932, -4.1433000564575195, -4.272600173950195, -4.345099925994873, -4.404600143432617, -4.610400199890137, -4.881899833679199, -5.118500232696533, -5.121699810028076, -5.12470006942749, -5.416299819946289, -5.4832000732421875, -5.497200012207031, -5.526299953460693, -5.5395002365112305, -5.550600051879883, -5.5619001388549805, -5.580900192260742, -5.816100120544434, -5.848199844360352, -5.862100124359131, -5.8703999519348145, -5.895100116729736, -5.901400089263916, -5.90339994430542, -5.916200160980225, -5.932600021362305, -3.830699920654297, -5.181600093841553, -4.918000221252441, -4.155099868774414, -4.066699981689453, -4.7581000328063965, -4.882999897003174, -5.139599800109863, -5.0329999923706055, -4.448200225830078, -4.848700046539307, -4.856299877166748, -3.4820001125335693, -4.400199890136719, -4.094099998474121, -4.602700233459473, -4.251200199127197, -4.410399913787842, -4.928599834442139, -4.470799922943115, -4.869900226593018, -4.819200038909912, -4.76170015335083, -4.727099895477295, -4.909299850463867, -3.2551000118255615, -0.5703999996185303, -5.033699989318848, -5.034999847412109, -5.564000129699707, -5.729599952697754, -5.799600124359131, -5.832799911499023, -5.851799964904785, -5.9558000564575195, -6.133800029754639, -6.135700225830078, -6.269800186157227, -6.270599842071533, -6.300300121307373, -6.307700157165527, -6.317999839782715, -6.321100234985352, -6.339099884033203, -6.355400085449219, -6.430099964141846, -6.457699775695801, -6.475100040435791, -6.493100166320801, -6.512400150299072, -6.513899803161621, -6.513999938964844, -6.535699844360352, -6.549799919128418, -6.5584001541137695, -5.742300033569336, -4.657700061798096, -5.363399982452393, -4.78980016708374, -5.508800029754639, -6.067599773406982, -5.827899932861328, -5.169300079345703, -5.744500160217285, -5.9868998527526855, -5.831900119781494, -6.000199794769287, -6.229899883270264, -3.946000099182129, -3.9614999294281006, -4.300000190734863, -4.646500110626221, -4.698500156402588, -4.713500022888184, -4.83050012588501, -4.909599781036377, -5.075099945068359, -5.106599807739258, -5.134500026702881, -5.1855998039245605, -5.212500095367432, -5.2947998046875, -5.325200080871582, -5.330100059509277, -5.419300079345703, -5.500500202178955, -5.568999767303467, -5.589600086212158, -5.605899810791016, -5.649799823760986, -5.667300224304199, -5.688899993896484, -5.706200122833252, -5.761199951171875, -5.808800220489502, -5.816299915313721, -5.8460001945495605, -5.908599853515625, -3.9511001110076904, -4.6417999267578125, -4.04040002822876, -3.644200086593628, -5.165800094604492, -5.322800159454346, -4.793700218200684, -4.732100009918213, -5.121200084686279, -4.626699924468994, -5.2932000160217285, -4.320499897003174, -5.0183000564575195, -5.138199806213379, -4.11359977722168, -4.402200222015381, -4.868100166320801, -5.0142998695373535, -4.84660005569458, -4.948400020599365, -5.0995001792907715, -0.4180000126361847, -4.9116997718811035, -4.947299957275391, -5.367400169372559, -5.514800071716309, -5.7683000564575195, -5.8979997634887695, -6.0665998458862305, -6.066999912261963, -6.160099983215332, -6.168700218200684, -6.244699954986572, -6.263999938964844, -6.264100074768066, -6.285099983215332, -6.2855000495910645, -6.298799991607666, -6.299900054931641, -6.340199947357178, -6.353600025177002, -6.357999801635742, -6.3607001304626465, -6.366700172424316, -6.382900238037109, -6.398399829864502, -6.424699783325195, -6.443999767303467, -6.470600128173828, -6.471399784088135, -6.513400077819824, -5.72189998626709, -5.142300128936768, -6.201399803161621, -5.811500072479248, -5.908599853515625, -5.895699977874756, -6.178699970245361, -6.263500213623047, -2.761199951171875, -4.201099872589111, -4.32450008392334, -4.368000030517578, -4.396599769592285, -4.4019999504089355, -4.471199989318848, -5.151700019836426, -5.199999809265137, -5.223100185394287, -5.3267998695373535, -5.337600231170654, -5.375800132751465, -5.392199993133545, -5.477200031280518, -5.531599998474121, -5.578499794006348, -5.681000232696533, -5.690000057220459, -5.69350004196167, -5.719399929046631, -5.723599910736084, -5.767399787902832, -5.779399871826172, -5.793799877166748, -5.816699981689453, -5.85699987411499, -5.892300128936768, -5.897600173950195, -5.948400020599365, -5.06689977645874, -5.548999786376953, -4.848100185394287, -5.6828999519348145, -3.8966000080108643, -3.844599962234497, -4.084799766540527, -4.329800128936768, -5.269000053405762, -4.80620002746582, -3.8050999641418457, -4.863999843597412, -5.075099945068359, -4.973999977111816, -4.24970006942749, -5.2729997634887695, -4.117099761962891, -4.634200096130371, -5.077199935913086, -5.1321001052856445, -4.8105998039245605, -4.985000133514404, -2.71589994430542, -2.986999988555908, -3.6310999393463135, -3.7023000717163086, -3.8417000770568848, -4.213699817657471, -4.343200206756592, -4.691199779510498, -5.100900173187256, -5.119699954986572, -5.252699851989746, -5.297399997711182, -5.392899990081787, -5.4756999015808105, -5.491300106048584, -5.501699924468994, -5.517499923706055, -5.521200180053711, -5.567200183868408, -5.588099956512451, -5.609799861907959, -5.617099761962891, -5.638500213623047, -5.6803998947143555, -5.685299873352051, -5.723700046539307, -5.7316999435424805, -5.763599872589111, -5.76800012588501, -5.786600112915039, -3.0497000217437744, -5.138599872589111, -4.110300064086914, -3.8494999408721924, -3.6089999675750732, -4.468200206756592, -4.539299964904785, -4.198599815368652, -4.956500053405762, -5.0970001220703125, -4.638999938964844, -3.976599931716919, -4.628900051116943, -3.900599956512451, -4.896599769592285, -4.69350004196167, -4.978700160980225, -5.201099872589111, -5.066400051116943, -5.164100170135498, -5.1006999015808105, -5.126100063323975, -3.360300064086914, -3.963900089263916, -4.386899948120117, -4.416500091552734, -4.639699935913086, -4.733099937438965, -4.868299961090088, -4.894199848175049, -4.916800022125244, -4.946100234985352, -4.996600151062012, -4.998799800872803, -5.035699844360352, -5.054100036621094, -5.070700168609619, -5.234000205993652, -5.246200084686279, -5.252699851989746, -5.303999900817871, -5.332200050354004, -5.333399772644043, -5.347099781036377, -5.395299911499023, -5.44320011138916, -5.464399814605713, -5.496799945831299, -5.505099773406982, -5.519599914550781, -5.526899814605713, -5.545300006866455, -3.8794000148773193, -4.998799800872803, -4.9475998878479, -4.695000171661377, -4.8404998779296875, -4.746399879455566, -4.735000133514404, -4.472799777984619, -4.405200004577637, -4.000999927520752, -4.699699878692627, -5.13129997253418, -5.0096001625061035, -5.092400074005127, -5.121099948883057, -5.103000164031982, -4.31689977645874, -4.489500045776367, -4.5447998046875, -4.654300212860107, -4.659200191497803, -4.674499988555908, -4.742199897766113, -4.785399913787842, -4.928199768066406, -5.011199951171875, -5.028900146484375, -5.076399803161621, -5.115900039672852, -5.154200077056885, -5.175300121307373, -5.267000198364258, -5.327300071716309, -5.352499961853027, -5.373600006103516, -5.424699783325195, -5.447000026702881, -5.500899791717529, -5.504700183868408, -5.505000114440918, -5.513500213623047, -5.566400051116943, -5.617000102996826, -5.67609977722168, -5.721399784088135, -5.739699840545654, -3.9377999305725098, -5.006700038909912, -4.861599922180176, -4.261099815368652, -5.242700099945068, -4.198299884796143, -4.411099910736084, -4.698999881744385, -5.011199951171875, -5.06220006942749, -4.8445000648498535, -5.239099979400635, -4.82889986038208, -5.096700191497803, -5.078000068664551, -5.1153998374938965, -5.150100231170654, -5.169600009918213, -3.2160000801086426, -3.8450000286102295, -4.15939998626709, -4.233799934387207, -4.618199825286865, -4.636199951171875, -4.6631999015808105, -4.712299823760986, -4.735799789428711, -4.757900238037109, -4.776199817657471, -4.856200218200684, -4.882599830627441, -5.029399871826172, -5.03410005569458, -5.053100109100342, -5.120500087738037, -5.127999782562256, -5.1585001945495605, -5.208799839019775, -5.3368000984191895, -5.3368000984191895, -5.400300025939941, -5.419600009918213, -5.421199798583984, -5.523900032043457, -5.540200233459473, -5.54040002822876, -5.543799877166748, -5.589300155639648, -4.7829999923706055, -4.325500011444092, -4.307300090789795, -5.2683000564575195, -5.124100208282471, -5.025300025939941, -5.1596999168396, -5.30810022354126, -5.289000034332275, -5.32859992980957, -3.2163000106811523, -3.7416000366210938, -3.9203999042510986, -4.35099983215332, -4.4653000831604, -4.692500114440918, -4.746600151062012, -4.765999794006348, -5.055300235748291, -5.097700119018555, -5.109499931335449, -5.146299839019775, -5.163300037384033, -5.192200183868408, -5.202899932861328, -5.2179999351501465, -5.236499786376953, -5.290500164031982, -5.302700042724609, -5.303100109100342, -5.351099967956543, -5.368800163269043, -5.369800090789795, -5.475900173187256, -5.599699974060059, -5.627699851989746, -5.687099933624268, -5.858699798583984, -5.700500011444092, -5.934899806976318, -4.652699947357178, -3.5280001163482666, -4.801000118255615, -4.166600227355957, -4.807199954986572, -5.078700065612793, -4.317500114440918, -4.479499816894531, -5.034200191497803, -5.002699851989746, -4.855999946594238, -4.973499774932861, -5.169600009918213, -5.105500221252441, -5.142099857330322, -5.1596999168396, -5.191299915313721, -1.4246000051498413, -2.6949000358581543, -4.888199806213379, -5.217199802398682, -5.222300052642822, -5.23199987411499, -5.2434000968933105, -5.2555999755859375, -5.373499870300293, -5.4496002197265625, -5.513000011444092, -5.5868000984191895, -5.594600200653076, -5.732100009918213, -5.830699920654297, -5.845900058746338, -5.877799987792969, -5.899899959564209, -5.931300163269043, -5.986599922180176, -6.034599781036377, -6.121699810028076, -6.210299968719482, -6.230500221252441, -6.258399963378906, -6.268199920654297, -6.27839994430542, -6.031499862670898, -6.342800140380859, -6.399499893188477, -5.417600154876709, -1.9835000038146973, -5.0142998695373535, -4.6367998123168945, -6.038000106811523, -6.066999912261963, -3.597100019454956, -4.930500030517578, -4.910399913787842, -5.0507001876831055, -5.0802001953125, -5.315999984741211, -5.324900150299072, -5.298900127410889, -5.438899993896484, -5.515100002288818, -5.565199851989746, -5.614699840545654, -5.69320011138916, -5.692999839782715, -5.698400020599365, -5.7154998779296875, -5.715799808502197, -5.74970006942749, -5.78249979019165, -5.827700138092041, -5.890200138092041, -5.920100212097168, -5.950200080871582, -5.954500198364258, -5.9903998374938965, -6.026800155639648, -6.05109977722168, -6.074999809265137, -6.077300071716309, -6.1757001876831055, -4.951200008392334, -4.73390007019043, -5.792200088500977, -5.516900062561035, -5.7947998046875, -4.28439998626709, -4.35129976272583, -3.689300060272217, -4.579400062561035, -4.563799858093262, -4.726600170135498, -4.958799839019775, -5.421500205993652, -4.888599872589111, -5.008200168609619, -5.53849983215332, -5.4191999435424805, -5.604000091552734, -5.5100998878479, -5.5802001953125, -2.109600067138672, -3.3464999198913574, -3.944499969482422, -4.302599906921387, -4.546299934387207, -4.852200031280518, -4.8653998374938965, -4.934800148010254, -4.940400123596191, -4.988399982452393, -5.032299995422363, -5.092299938201904, -5.099899768829346, -5.120100021362305, -5.2154998779296875, -5.22730016708374, -5.234600067138672, -5.253399848937988, -5.263800144195557, -5.289299964904785, -5.321599960327148, -5.43779993057251, -5.594299793243408, -5.611599922180176, -5.638400077819824, -5.654200077056885, -5.6722002029418945, -5.680500030517578, -5.695400238037109, -5.71019983291626, -5.445199966430664, -4.505000114440918, -5.024499893188477, -4.974800109863281, -5.098800182342529, -5.257299900054932, -4.903200149536133, -4.66349983215332, -4.331600189208984, -5.214900016784668, -3.026400089263916, -3.915800094604492, -4.213600158691406, -4.414899826049805, -4.415900230407715, -4.421299934387207, -4.507500171661377, -4.783199787139893, -4.803999900817871, -4.9822998046875, -4.9934000968933105, -5.152599811553955, -5.185200214385986, -5.218400001525879, -5.240300178527832, -5.430300235748291, -5.463200092315674, -5.540999889373779, -5.55049991607666, -5.567699909210205, -5.5854997634887695, -5.598299980163574, -5.63730001449585, -5.64300012588501, -5.7032999992370605, -5.703499794006348, -5.712100028991699, -5.813399791717529, -5.853300094604492, -5.8541998863220215, -4.72130012512207, -5.761199951171875, -4.7210001945495605, -5.1834001541137695, -4.74370002746582, -4.90880012512207, -5.123499870300293, -5.421199798583984, -4.622000217437744, -4.594600200653076, -4.652500152587891, -5.408599853515625, -5.033199787139893, -5.2017998695373535, -5.246200084686279, -5.339200019836426, -3.20169997215271, -3.7827999591827393, -3.900099992752075, -3.9934000968933105, -4.190899848937988, -4.341000080108643, -4.473999977111816, -4.5578999519348145, -4.561200141906738, -4.6793999671936035, -4.726900100708008, -4.794300079345703, -4.914100170135498, -4.957699775695801, -5.111499786376953, -5.206500053405762, -5.231400012969971, -5.232600212097168, -5.269199848175049, -5.313799858093262, -5.342700004577637, -5.3668999671936035, -5.41379976272583, -5.4421000480651855, -5.445199966430664, -5.554500102996826, -5.717599868774414, -5.733099937438965, -5.744999885559082, -5.8572001457214355, -4.0329999923706055, -4.907299995422363, -3.143199920654297, -5.154699802398682, -4.314799785614014, -5.032599925994873, -4.613500118255615, -5.092199802398682, -4.625699996948242, -5.033899784088135, -4.684500217437744, -5.090799808502197, -5.161799907684326, -5.163099765777588, -3.8478000164031982, -4.467100143432617, -4.6178998947143555, -4.723299980163574, -4.763999938964844, -4.872099876403809, -4.971099853515625, -5.035799980163574, -5.0619001388549805, -5.10129976272583, -5.1717000007629395, -5.186500072479248, -5.220300197601318, -5.229700088500977, -5.370299816131592, -5.400100231170654, -5.4039998054504395, -5.417799949645996, -5.449399948120117, -5.476799964904785, -5.480800151824951, -5.48330020904541, -5.542099952697754, -5.59630012512207, -5.632400035858154, -5.645299911499023, -5.684700012207031, -5.73199987411499, -5.754799842834473, -5.755899906158447, -4.93149995803833, -3.509500026702881, -5.484099864959717, -5.113500118255615, -5.58050012588501, -4.91949987411499, -3.68179988861084, -4.979899883270264, -5.009500026702881, -5.315299987792969, -5.066699981689453, -4.876999855041504, -5.383200168609619, -5.326200008392334, -2.5697999000549316, -2.852799892425537, -4.506499767303467, -4.566400051116943, -4.622000217437744, -4.821599960327148, -4.8256001472473145, -4.8403000831604, -5.110899925231934, -5.161099910736084, -5.283599853515625, -5.2866997718811035, -5.315299987792969, -5.366000175476074, -5.375400066375732, -5.464000225067139, -5.468999862670898, -5.478000164031982, -5.495100021362305, -5.5447001457214355, -5.586900234222412, -5.6031999588012695, -5.676599979400635, -5.731200218200684, -5.775000095367432, -5.77869987487793, -5.831299781799316, -5.866799831390381, -5.907199859619141, -5.953800201416016, -5.6975998878479, -4.713900089263916, -4.375899791717529, -4.861700057983398, -5.054100036621094, -5.052199840545654, -4.927499771118164, -5.332799911499023, -5.340199947357178, -4.993299961090088, -5.204400062561035, -3.4075000286102295, -3.4979000091552734, -3.6972999572753906, -3.9927000999450684, -4.2642998695373535, -4.428199768066406, -4.473899841308594, -4.492000102996826, -4.512199878692627, -4.7108001708984375, -4.766499996185303, -4.800600051879883, -4.812900066375732, -4.881999969482422, -5.095699787139893, -5.152400016784668, -5.15880012512207, -5.160900115966797, -5.196300029754639, -5.246399879455566, -5.265100002288818, -5.268099784851074, -5.3130998611450195, -5.322500228881836, -5.356100082397461, -5.357900142669678, -5.4344000816345215, -5.519499778747559, -5.532800197601318, -5.55109977722168, -5.31850004196167, -5.198800086975098, -4.761199951171875, -3.587399959564209, -4.974999904632568, -3.972100019454956, -5.228700160980225, -4.930200099945068, -5.2368998527526855, -5.209499835968018, -3.0237998962402344, -3.1603000164031982, -3.536900043487549, -3.7160000801086426, -3.8763999938964844, -4.104400157928467, -4.3815999031066895, -4.557300090789795, -4.7459001541137695, -4.914599895477295, -4.959199905395508, -4.960400104522705, -5.00600004196167, -5.081900119781494, -5.106200218200684, -5.140999794006348, -5.183800220489502, -5.2093000411987305, -5.3084001541137695, -5.335999965667725, -5.360300064086914, -5.374599933624268, -5.3927001953125, -5.395899772644043, -5.39769983291626, -5.404600143432617, -5.40749979019165, -5.434800148010254, -5.445400238037109, -5.498899936676025, -4.1149001121521, -4.9079999923706055, -4.892399787902832, -4.334099769592285, -3.793600082397461, -3.0543999671936035, -3.4214999675750732, -3.815000057220459, -4.535399913787842, -4.632699966430664, -4.877399921417236, -4.916600227355957, -4.996300220489502, -4.996699810028076, -5.002699851989746, -5.156300067901611, -5.215099811553955, -5.349699974060059, -5.385200023651123, -5.41510009765625, -5.50540018081665, -5.591300010681152, -5.600200176239014, -5.620999813079834, -5.626999855041504, -5.63040018081665, -5.6458001136779785, -5.660200119018555, -5.6981000900268555, -5.724100112915039, -5.749499797821045, -5.75540018081665, -5.6458001136779785, -5.837900161743164, -5.837900161743164, -4.369100093841553, -4.463900089263916, -4.994100093841553, -4.994100093841553, -5.127500057220459, -5.1915998458862305, -5.248700141906738, -5.356599807739258, -5.424300193786621, -5.578800201416016, -5.548500061035156]}, \"token.table\": {\"Topic\": [20, 1, 2, 3, 4, 5, 6, 7, 8, 9, 10, 11, 12, 13, 14, 15, 16, 17, 18, 19, 20, 6, 7, 6, 9, 10, 13, 3, 10, 17, 3, 9, 3, 10, 15, 16, 6, 6, 13, 14, 12, 18, 3, 12, 15, 18, 10, 18, 16, 12, 14, 6, 17, 15, 3, 20, 3, 5, 12, 15, 1, 3, 5, 10, 19, 3, 8, 10, 19, 16, 2, 3, 10, 1, 4, 20, 13, 3, 4, 12, 7, 10, 7, 13, 15, 12, 1, 3, 6, 20, 3, 6, 7, 5, 8, 4, 15, 1, 16, 7, 1, 16, 16, 17, 15, 6, 13, 8, 8, 1, 12, 17, 10, 15, 13, 3, 8, 10, 13, 8, 16, 2, 1, 12, 15, 18, 1, 8, 10, 17, 7, 8, 15, 9, 8, 1, 3, 9, 12, 14, 9, 9, 20, 17, 13, 15, 19, 19, 19, 19, 15, 2, 20, 2, 6, 6, 7, 14, 3, 17, 3, 5, 3, 6, 15, 17, 18, 20, 3, 1, 5, 6, 12, 14, 17, 5, 20, 13, 14, 11, 10, 16, 1, 2, 3, 4, 5, 6, 7, 8, 9, 10, 11, 12, 13, 14, 15, 16, 17, 18, 19, 20, 19, 1, 6, 7, 9, 13, 14, 15, 17, 18, 19, 14, 3, 8, 4, 3, 9, 1, 3, 5, 6, 7, 15, 10, 13, 6, 13, 4, 13, 14, 2, 4, 16, 16, 20, 16, 10, 14, 14, 10, 16, 9, 1, 3, 6, 7, 9, 10, 12, 13, 14, 15, 16, 17, 18, 19, 20, 13, 13, 6, 4, 12, 14, 17, 5, 13, 19, 19, 4, 1, 3, 7, 3, 5, 15, 2, 5, 3, 10, 12, 10, 7, 7, 4, 1, 2, 6, 8, 14, 3, 8, 6, 6, 8, 19, 9, 15, 10, 2, 4, 5, 6, 7, 16, 6, 14, 17, 3, 5, 12, 3, 6, 8, 10, 15, 10, 5, 3, 16, 19, 17, 7, 11, 12, 16, 10, 6, 7, 17, 5, 8, 10, 1, 10, 12, 14, 3, 3, 12, 14, 12, 10, 14, 15, 17, 12, 3, 4, 11, 15, 18, 8, 19, 1, 2, 5, 6, 10, 15, 8, 18, 2, 3, 16, 2, 4, 7, 2, 1, 3, 4, 6, 8, 13, 15, 2, 3, 7, 18, 5, 8, 12, 8, 12, 1, 2, 3, 4, 5, 6, 7, 8, 9, 10, 11, 12, 13, 14, 15, 16, 17, 18, 19, 20, 11, 16, 8, 18, 12, 6, 12, 12, 16, 12, 4, 18, 3, 16, 14, 16, 12, 5, 5, 12, 17, 2, 6, 16, 12, 12, 19, 18, 1, 19, 1, 18, 20, 2, 1, 4, 12, 2, 8, 12, 14, 11, 11, 16, 14, 2, 3, 4, 6, 7, 9, 10, 11, 12, 13, 14, 15, 16, 17, 18, 19, 20, 7, 11, 11, 6, 5, 9, 7, 5, 3, 4, 16, 2, 4, 2, 10, 20, 20, 10, 2, 4, 15, 2, 7, 20, 5, 6, 8, 20, 3, 15, 1, 3, 8, 9, 12, 10, 8, 8, 7, 3, 18, 19, 12, 14, 8, 3, 12, 10, 14, 6, 6, 1, 2, 3, 4, 5, 6, 7, 8, 9, 10, 11, 12, 13, 14, 15, 16, 17, 18, 19, 20, 13, 3, 12, 10, 6, 9, 10, 12, 18, 6, 8, 10, 5, 15, 1, 6, 13, 3, 1, 3, 5, 9, 10, 17, 20, 16, 3, 3, 5, 7, 8, 10, 15, 19, 13, 11, 12, 5, 6, 10, 1, 4, 5, 6, 11, 11, 13, 1, 9, 14, 15, 16, 1, 4, 8, 9, 10, 14, 17, 10, 7, 10, 13, 7, 11, 9, 4, 16, 3, 15, 2, 1, 13, 2, 1, 5, 6, 8, 10, 7, 1, 1, 3, 13, 15, 5, 3, 14, 16, 11, 18, 3, 5, 17, 18, 5, 19, 9, 5, 9, 14, 1, 11, 1, 10, 5, 9, 10, 1, 1, 13, 18, 14, 11, 2, 3, 4, 1, 5, 14, 20, 20, 17, 14, 17, 3, 6, 3, 5, 6, 10, 13, 15, 3, 10, 10, 12, 15, 5, 5, 10, 3, 4, 13, 15, 3, 5, 6, 10, 7, 15, 5, 16, 20, 5, 20, 7, 6, 13, 17, 7, 10, 5, 8, 10, 2, 4, 16, 2, 11, 2, 16, 1, 2, 16, 4, 4, 2, 4, 4, 2, 4, 11, 19, 2, 14, 17, 12, 3, 12, 4, 16, 2, 11, 1, 9, 12, 4, 2, 16, 18, 2, 18, 16, 1, 11, 3, 14, 15, 8, 4, 4, 16, 1, 3, 8, 12, 14, 1, 13, 2, 5, 18, 5, 7, 8, 17, 9, 1, 6, 19, 2, 10, 3, 1, 6, 1, 10, 17, 18, 13, 3, 6, 17, 2, 5, 6, 9, 17, 1, 2, 4, 5, 6, 8, 9, 10, 15, 16, 19, 17, 20, 6, 12, 14, 7, 11, 1, 8, 11, 1, 2, 3, 4, 5, 6, 7, 8, 9, 10, 11, 12, 13, 14, 15, 16, 17, 18, 19, 20, 11, 6, 7, 1, 3, 5, 8, 10, 15, 9, 7, 10, 15, 3, 4, 2, 4, 7, 16, 11, 3, 2, 2, 3, 5, 20, 1, 3, 4, 5, 6, 8, 10, 12, 15, 14, 1, 5, 5, 3, 17, 7, 19, 6, 14, 12, 2, 11, 16, 2, 11, 1, 2, 3, 5, 6, 7, 11, 15, 16, 17, 2, 7, 16, 4, 17, 11, 9, 18, 1, 3, 8, 10, 14, 15, 6, 18, 4, 18, 3, 6, 9, 10, 15, 6, 10, 14, 19, 19, 1, 5, 6, 19, 4, 7, 9, 1, 3, 7, 10, 12, 13, 14, 3, 13, 17, 1, 1, 2, 3, 4, 5, 6, 7, 8, 10, 11, 12, 13, 14, 16, 18, 19, 20, 18, 7, 11, 14, 7, 14, 15, 1, 5, 6, 8, 14, 6, 10, 10, 14, 2, 3, 9, 6, 8, 10, 13, 1, 7, 7, 17, 14, 13, 17, 7, 9, 5, 6, 13, 15, 5, 6, 3, 6, 15, 9, 19, 13, 3, 5, 11, 18, 1, 15, 4, 7, 1, 10, 10, 3, 20, 20, 8, 5, 7, 14, 3, 12, 7, 16, 6, 8, 10, 10, 5, 6, 16, 4, 12, 15, 12, 15, 1, 3, 5, 9, 12, 1, 3, 5, 10, 12, 9, 15, 6, 11, 15, 1, 8, 9, 15, 18, 5, 3, 5, 15, 5, 6, 10, 3, 3, 18, 5, 10, 13, 16, 3, 4, 8, 11, 13, 13, 17, 18, 16, 16, 1, 5, 5, 5, 19, 6, 5, 10, 18, 3, 14, 17, 3, 5, 6, 10, 17, 8, 10, 7, 7, 9, 2, 5, 6, 15, 12, 3, 10, 4, 20, 18, 6, 10, 17, 1, 3, 16, 13, 18, 20, 6, 18, 12, 5, 6, 15, 9, 7, 17, 2, 20, 8, 8, 8, 5, 8, 7, 17, 6, 3, 15, 5, 8, 7, 6, 5, 10, 11, 7, 1, 2, 3, 4, 5, 6, 7, 8, 9, 10, 11, 12, 13, 14, 15, 16, 17, 18, 19, 20, 5, 12, 13, 7, 3, 5, 10, 15, 5, 8, 17, 5, 6, 5, 17, 4, 11, 2, 5, 9, 18, 17, 2, 4, 4, 16, 18, 15, 1, 11, 2, 2, 12, 10, 3, 10, 17, 17, 13, 13, 1, 12, 1, 5, 14, 11, 14, 18, 17, 9, 20, 1, 3, 5, 8, 9, 9, 17, 9, 1, 8, 8, 10, 12, 13, 6, 6, 19, 8, 12, 14, 3, 13, 8, 20, 13, 16, 17, 8, 8, 19, 11, 16, 12, 18, 10, 13, 18, 11, 2, 4, 16, 20, 7, 6, 16, 6, 14, 6, 13, 14, 15, 18, 19, 9, 6, 9, 1, 6, 9, 3, 10, 4, 15, 13, 2, 1, 12, 8, 3, 18, 19, 16, 16, 5, 1, 13, 15, 11, 20, 2, 6, 17, 12, 15, 12, 15, 14, 16, 11, 1, 10, 3, 1, 6, 6, 18, 19, 1, 5, 10, 12, 1, 12, 7, 14, 2, 19, 5, 12, 13, 17, 1, 16, 3, 8, 10, 15, 10, 10, 15, 14, 19, 1, 2, 3, 4, 5, 6, 7, 8, 9, 10, 11, 12, 13, 14, 15, 16, 17, 18, 19, 20, 11, 2, 6, 11, 1, 1, 15, 4, 7, 11, 1, 7, 9, 1, 3, 5, 6, 8, 10, 13, 18, 2, 7, 1, 15, 3, 5, 14, 17, 18, 8, 10, 15, 19, 3, 15, 7, 20, 12, 9, 17, 9, 15, 1, 13, 9, 12, 15, 2, 17, 1, 3, 5, 6, 7, 8, 10, 12, 14, 15, 17, 20, 17, 14, 13, 6, 1, 2, 3, 4, 5, 6, 7, 8, 9, 10, 11, 12, 13, 14, 15, 16, 17, 18, 19, 20, 3, 6, 8, 10, 13, 6, 8, 10, 10, 18, 3, 6, 8, 13, 15, 9, 8, 15, 8, 14, 12, 1, 12, 14, 9, 12, 1, 10, 11, 1, 2, 3, 4, 5, 6, 7, 8, 9, 10, 11, 12, 13, 14, 15, 16, 17, 18, 19, 20, 13, 1, 12, 1, 12, 19, 2, 4, 7, 11, 4, 7, 13, 1, 5, 14, 18, 9, 7, 9, 17, 1, 5, 8, 10, 14, 13, 1, 3, 5, 9, 12, 14, 18], \"Freq\": [0.999668300151825, 0.0036715783644467592, 0.0009178945911116898, 0.02111157588660717, 0.0009178945911116898, 0.020193681120872498, 0.010096840560436249, 0.033044204115867615, 0.050484202802181244, 0.006425261963158846, 0.06241683289408684, 0.01743999682366848, 0.043141044676303864, 0.008261051028966904, 0.023865260183811188, 0.03212631121277809, 0.0027536838315427303, 0.040387362241744995, 0.02753683738410473, 0.013768418692052364, 0.5819451808929443, 0.8629636168479919, 0.13694384694099426, 0.11615004390478134, 0.8838208317756653, 0.8633460402488708, 0.1361987143754959, 0.41604864597320557, 0.48973166942596436, 0.09415054321289062, 0.9998372197151184, 0.9994272589683533, 0.9698872566223145, 0.029827216640114784, 0.9307272434234619, 0.06896352767944336, 0.9997713565826416, 0.9994643330574036, 0.9988064169883728, 0.9987812638282776, 0.998295247554779, 0.9992181658744812, 0.03829987347126007, 0.9610714912414551, 0.8764715194702148, 0.12243034690618515, 0.9998576641082764, 0.9997116327285767, 0.9989100694656372, 0.9992068409919739, 0.9989744424819946, 0.4071580469608307, 0.5914795994758606, 0.9996972680091858, 0.9996545314788818, 0.9971518516540527, 0.096918486058712, 0.6046870946884155, 0.2853376567363739, 0.012641541659832, 0.4515717029571533, 0.2349202036857605, 0.299160897731781, 0.014323356561362743, 0.9997420907020569, 0.9995924234390259, 0.39454779028892517, 0.6048816442489624, 0.9988059997558594, 0.9995707273483276, 0.9991982579231262, 0.9995946288108826, 0.999114453792572, 0.9997966289520264, 0.9981220364570618, 0.9975726008415222, 0.999262273311615, 0.008933806791901588, 0.016378644853830338, 0.9722959399223328, 0.9997435212135315, 0.9994411468505859, 0.9990051984786987, 0.9995341897010803, 0.9998036026954651, 0.9984797835350037, 0.906532883644104, 0.01910725049674511, 0.07414266467094421, 0.9973040819168091, 0.9998123645782471, 0.9994845986366272, 0.9997095465660095, 0.9997102618217468, 0.999213457107544, 0.9989164471626282, 0.9999299049377441, 0.9994985461235046, 0.9988608956336975, 0.9997414946556091, 0.999819815158844, 0.9980558156967163, 0.999102771282196, 0.9966516494750977, 0.999672532081604, 0.6647351384162903, 0.3351705074310303, 0.9992213845252991, 0.999565839767456, 0.9817533493041992, 0.018058694899082184, 0.997266411781311, 0.9996484518051147, 0.9993964433670044, 0.9993762969970703, 0.610343873500824, 0.3097127377986908, 0.06184859946370125, 0.01800655387341976, 0.6545960903167725, 0.3448947072029114, 0.9996177554130554, 0.551485538482666, 0.10697490721940994, 0.028570936992764473, 0.3129514157772064, 0.6334903240203857, 0.3412203788757324, 0.02507217787206173, 0.9967988133430481, 0.44221073389053345, 0.4980314373970032, 0.05964764207601547, 0.9996747970581055, 0.9991455078125, 0.24231353402137756, 0.017532890662550926, 0.6617541909217834, 0.01573464460670948, 0.062489017844200134, 0.9997272491455078, 0.9993234276771545, 0.9997971057891846, 0.9993212223052979, 0.9986472725868225, 0.9997351765632629, 0.9973750114440918, 0.9997153878211975, 0.9988800287246704, 0.9991653561592102, 0.9987771511077881, 0.9249874949455261, 0.07485824078321457, 0.8758619427680969, 0.12376309931278229, 0.07336586713790894, 0.0724005252122879, 0.8533608913421631, 0.999784529209137, 0.9995004534721375, 0.809209406375885, 0.19065645337104797, 0.10637655109167099, 0.210453063249588, 0.19147779047489166, 0.4910571575164795, 0.9995149374008179, 0.9980142116546631, 0.999549925327301, 0.22458341717720032, 0.06361892819404602, 0.5998020768165588, 0.11197870224714279, 0.9986221790313721, 0.9980504512786865, 0.9989929795265198, 0.9992142915725708, 0.9989489912986755, 0.9990240335464478, 0.9988911151885986, 0.9998411536216736, 0.9979243278503418, 0.004320806358009577, 0.0005401007947511971, 0.021063929423689842, 0.0010802015895023942, 0.019983727484941483, 0.009721813723444939, 0.032406046986579895, 0.05076947063207626, 0.0064812093041837215, 0.062111590057611465, 0.017283225432038307, 0.04320806264877319, 0.008101511746644974, 0.02430453523993492, 0.032406046986579895, 0.0027005039155483246, 0.039967454969882965, 0.02754513919353485, 0.014042619615793228, 0.5822286009788513, 0.9977318048477173, 0.0011007587891072035, 0.0011007587891072035, 0.0011007587891072035, 0.0011007587891072035, 0.0011007587891072035, 0.0011007587891072035, 0.006604552734643221, 0.0011007587891072035, 0.008806070312857628, 0.97417151927948, 0.9995165467262268, 0.09664219617843628, 0.9030676484107971, 0.9992872476577759, 0.9993916153907776, 0.9991904497146606, 0.028868187218904495, 0.35579103231430054, 0.07635697722434998, 0.32217395305633545, 0.0004998820368200541, 0.21632394194602966, 0.7267552018165588, 0.2727135717868805, 0.8655692934989929, 0.13433635234832764, 0.999514102935791, 0.7261730432510376, 0.2733984887599945, 0.13372458517551422, 0.19326618313789368, 0.6715511679649353, 0.9981977939605713, 0.9982998371124268, 0.9992087483406067, 0.038254305720329285, 0.9612760543823242, 0.9990828633308411, 0.9998716711997986, 0.9981520175933838, 0.9998056888580322, 0.0017508205492049456, 0.0005836068303324282, 0.0011672136606648564, 0.0005836068303324282, 0.0011672136606648564, 0.0005836068303324282, 0.0005836068303324282, 0.008754102513194084, 0.014006564393639565, 0.03151477128267288, 0.0005836068303324282, 0.002918034326285124, 0.03151477128267288, 0.902256190776825, 0.0017508205492049456, 0.9988912343978882, 0.9995920658111572, 0.9992939829826355, 0.9993395805358887, 0.5314671993255615, 0.4488051235675812, 0.019533980637788773, 0.9992184042930603, 0.9996908903121948, 0.9993290901184082, 0.9981173276901245, 0.9999970197677612, 0.9617933034896851, 0.03816390782594681, 0.9998674988746643, 0.99951171875, 0.9994856119155884, 0.9995301961898804, 0.8095307946205139, 0.19045329093933105, 0.8998849987983704, 0.04528278112411499, 0.05478741601109505, 0.9995953440666199, 0.9995452761650085, 0.9994431734085083, 0.9997245669364929, 0.2316727340221405, 0.0012041202280670404, 0.21626000106334686, 0.5507646203041077, 0.9994896650314331, 0.9996201992034912, 0.9994975328445435, 0.9994812607765198, 0.9994426369667053, 0.9996033906936646, 0.998802125453949, 0.9988260269165039, 0.9989073872566223, 0.9993577003479004, 0.011428899131715298, 0.0015584862558171153, 0.11610722541809082, 0.8708041906356812, 0.7119412422180176, 0.28773412108421326, 0.999626100063324, 0.9156244397163391, 0.08285719156265259, 0.6429772973060608, 0.32740679383277893, 0.029590701684355736, 0.20519912242889404, 0.21356013417243958, 0.13746073842048645, 0.4385989308357239, 0.0051016355864703655, 0.9994910359382629, 0.9991368651390076, 0.27582690119743347, 0.7206257581710815, 0.0034413838293403387, 0.9991090893745422, 0.04415532201528549, 0.8531498908996582, 0.004510190337896347, 0.09813840687274933, 0.9995155930519104, 0.32581135630607605, 0.24077816307544708, 0.4332216680049896, 0.9991940259933472, 0.3146125078201294, 0.6852123141288757, 0.8878157138824463, 0.020097875967621803, 0.09208868443965912, 0.9985812902450562, 0.999625027179718, 0.048264555633068085, 0.04931378364562988, 0.901812732219696, 0.9998727440834045, 0.45169490575790405, 0.10287713259458542, 0.43160173296928406, 0.013663369230926037, 0.9982665181159973, 0.9997605085372925, 0.999512791633606, 0.9988571405410767, 0.9993027448654175, 0.9987518787384033, 0.9993566274642944, 0.9976015686988831, 0.005822941195219755, 0.014233856461942196, 0.41019386053085327, 0.5042235851287842, 0.0467991940677166, 0.01876281015574932, 0.9342489242553711, 0.06562826782464981, 0.06373895704746246, 0.25176888704299927, 0.6830691695213318, 0.5427793264389038, 0.19772785902023315, 0.259333074092865, 0.9988243579864502, 0.6965495944023132, 0.051016032695770264, 0.07696592062711716, 0.09560485184192657, 0.03277880698442459, 0.025548186153173447, 0.021370496600866318, 0.9996007680892944, 0.1094590350985527, 0.8854745626449585, 0.004901150707155466, 0.3940252661705017, 0.0658133327960968, 0.5401821136474609, 0.9986484050750732, 0.9990339875221252, 0.003552383976057172, 0.0011841279920190573, 0.021314304322004318, 0.0011841279920190573, 0.020130176097154617, 0.009473023936152458, 0.03315558284521103, 0.050917502492666245, 0.007104767952114344, 0.06275878101587296, 0.017761919647455215, 0.042628608644008636, 0.008288895711302757, 0.02368256077170372, 0.03197145462036133, 0.0023682559840381145, 0.040260352194309235, 0.027234943583607674, 0.014209535904228687, 0.5825909972190857, 0.9980336427688599, 0.9992405772209167, 0.28012189269065857, 0.71897953748703, 0.9994815587997437, 0.39225664734840393, 0.6074721813201904, 0.06543522328138351, 0.9337782859802246, 0.9978449940681458, 0.9994059205055237, 0.9987295269966125, 0.9592381119728088, 0.04025883600115776, 0.9978821873664856, 0.998860239982605, 0.9997754693031311, 0.9999260306358337, 0.9996967911720276, 0.9979557991027832, 0.9989928007125854, 0.0053701139986515045, 0.563414454460144, 0.4305041432380676, 0.9989223480224609, 0.9995055794715881, 0.9991827607154846, 0.9994433522224426, 0.9995845556259155, 0.9999255537986755, 0.372532457113266, 0.62744140625, 0.9983251690864563, 0.9995933771133423, 0.9996972680091858, 0.9991422891616821, 0.9994786381721497, 0.9997181296348572, 0.9993696212768555, 0.9669396877288818, 0.03119160234928131, 0.9999797940254211, 0.9972100853919983, 0.9992379546165466, 0.9994741082191467, 0.9997950196266174, 0.0023341854102909565, 0.0023341854102909565, 0.0007780617452226579, 0.005446432624012232, 0.0007780617452226579, 0.009336741641163826, 0.0007780617452226579, 0.031122470274567604, 0.0015561234904453158, 0.00855867937207222, 0.006224493961781263, 0.0038903087843209505, 0.0031122469808906317, 0.0007780617452226579, 0.0007780617452226579, 0.9220032095909119, 0.999550998210907, 0.9995301365852356, 0.998699426651001, 0.9999290704727173, 0.9999834895133972, 0.9999673962593079, 0.9999478459358215, 0.9990975856781006, 0.937245786190033, 0.06253901869058609, 0.9987941384315491, 0.9999548196792603, 4.3265863496344537e-05, 0.9988368153572083, 0.9994354844093323, 0.9979405403137207, 0.9981370568275452, 0.9985625743865967, 0.9992997050285339, 0.9992587566375732, 0.9997527003288269, 0.21761831641197205, 0.782171368598938, 0.9991634488105774, 0.9994984865188599, 0.9996535181999207, 0.9993349313735962, 0.9987723231315613, 0.9993249177932739, 0.999021053314209, 0.07766242325305939, 0.12372427433729172, 0.41161084175109863, 0.294046014547348, 0.09292710572481155, 0.999225914478302, 0.9991705417633057, 0.9990633726119995, 0.9989475607872009, 0.47575730085372925, 0.5235536098480225, 0.9987679719924927, 0.9907097816467285, 0.009155074134469032, 0.9997656941413879, 0.46962252259254456, 0.5295147895812988, 0.006213928572833538, 0.993098795413971, 0.9996894598007202, 0.9998469352722168, 0.004234764724969864, 0.0014115882804617286, 0.02117382362484932, 0.0014115882804617286, 0.019762234762310982, 0.009881117381155491, 0.03246653079986572, 0.05081717669963837, 0.007057941518723965, 0.06210988387465477, 0.016939058899879456, 0.04234764724969864, 0.008469529449939728, 0.023996999487280846, 0.03246653079986572, 0.002823176560923457, 0.039524469524621964, 0.02682017721235752, 0.01411588303744793, 0.5829859375953674, 0.9990760684013367, 0.2546365261077881, 0.7450076341629028, 0.9992918372154236, 0.9994333386421204, 0.9995128512382507, 0.06632398813962936, 0.05461975932121277, 0.8778175115585327, 0.6615100502967834, 0.31548941135406494, 0.02295255847275257, 0.3607810139656067, 0.6390191316604614, 0.42474231123924255, 0.2933153212070465, 0.2818744480609894, 0.9996804594993591, 0.38824930787086487, 0.31971922516822815, 0.06668505072593689, 0.18727165460586548, 0.009225204586982727, 0.02886171080172062, 0.998351514339447, 0.9991950392723083, 0.9996209144592285, 0.10076027363538742, 0.7740421891212463, 0.07313958555459976, 0.025631997734308243, 0.011269240640103817, 0.0152466194704175, 0.9998173713684082, 0.9988788962364197, 0.997249186038971, 0.9980320334434509, 0.7092145085334778, 0.19633892178535461, 0.09433845430612564, 0.38882917165756226, 0.020890120416879654, 0.12093175202608109, 0.24259832501411438, 0.2265370786190033, 0.9990738034248352, 0.9998329877853394, 0.0004815072752535343, 0.9972015619277954, 0.0004815072752535343, 0.0004815072752535343, 0.0004815072752535343, 0.999605119228363, 0.004498766269534826, 0.3018263280391693, 0.1124691590666771, 0.15254907310009003, 0.42533791065216064, 0.002862851368263364, 0.999564528465271, 0.7472413778305054, 0.12043450772762299, 0.13229548931121826, 0.9796381592750549, 0.02011142671108246, 0.9998883008956909, 0.8721923232078552, 0.12672878801822662, 0.6631659865379333, 0.33644768595695496, 0.9987037181854248, 0.9999342560768127, 0.9985658526420593, 0.9995335340499878, 0.7823897004127502, 0.1767568439245224, 0.009187855757772923, 0.0140005424618721, 0.017500678077340126, 0.9997898936271667, 0.9999009370803833, 0.9519410729408264, 0.02015634998679161, 0.02789570763707161, 0.9997851252555847, 0.9997977614402771, 0.9998635649681091, 0.8597455024719238, 0.13963553309440613, 0.9993893504142761, 0.9987453818321228, 0.2631945013999939, 0.7368139624595642, 0.9983745217323303, 0.9991845488548279, 0.9997027516365051, 0.9995415210723877, 0.9993248581886292, 0.9996160268783569, 0.9993695020675659, 0.9995490312576294, 0.9998530745506287, 0.9992766380310059, 0.3825420141220093, 0.6171308755874634, 0.6357105374336243, 0.1998378187417984, 0.16439488530158997, 0.9996702671051025, 0.4822138249874115, 0.5175873041152954, 0.9998844265937805, 0.9994940757751465, 0.9999313354492188, 0.03759557008743286, 0.962131679058075, 0.9994103312492371, 0.9994912147521973, 0.9997158646583557, 0.9984340071678162, 0.9971119165420532, 0.9979555010795593, 0.9998528361320496, 0.9989162087440491, 0.9980525374412537, 0.9378786683082581, 0.06204153224825859, 0.45837047696113586, 0.14005444943904877, 0.1333797127008438, 0.1619199812412262, 0.05144152790307999, 0.05466381460428238, 0.9441553354263306, 0.055763401091098785, 0.9983543753623962, 0.9989317655563354, 0.9993131756782532, 0.9993343353271484, 0.9915428757667542, 0.008082231506705284, 0.9997185468673706, 0.006766445469111204, 0.05548484995961189, 0.9371526837348938, 0.08236081153154373, 0.08831973373889923, 0.7853007912635803, 0.04405345767736435, 0.9997726082801819, 0.998896598815918, 0.9991506934165955, 0.9997305274009705, 0.9992466568946838, 0.9994579553604126, 0.9976568818092346, 0.9996955990791321, 0.21220621466636658, 0.18785467743873596, 0.5995115637779236, 0.9991216659545898, 0.9996950626373291, 0.7729863524436951, 0.1785181760787964, 0.04842827469110489, 0.5103789567947388, 0.05150613188743591, 0.4373339116573334, 0.9993152618408203, 0.9974324703216553, 0.9992611408233643, 0.9993231296539307, 0.9998937845230103, 0.26504456996917725, 0.7341036796569824, 0.9995694756507874, 0.9990895390510559, 0.6099167466163635, 0.3899365961551666, 0.9990991353988647, 0.8643122315406799, 0.13537782430648804, 0.9983158111572266, 0.9989562034606934, 0.9994365572929382, 0.39295127987861633, 0.6067630052566528, 0.9989124536514282, 0.9997286200523376, 0.9981030821800232, 0.9989733099937439, 0.9991415143013, 0.999592125415802, 0.9993485808372498, 0.9630307555198669, 0.010362597182393074, 0.026482194662094116, 0.9989776015281677, 0.9873533248901367, 0.012047016061842442, 0.9991721510887146, 0.9988367557525635, 0.9984357357025146, 0.999144434928894, 0.9999478459358215, 0.998308002948761, 0.9999467134475708, 0.9995511174201965, 0.9987547397613525, 0.9995466470718384, 0.9995990991592407, 0.9988949298858643, 0.998086154460907, 0.8188464641571045, 0.0318722203373909, 0.08372403681278229, 0.06533011794090271, 0.9998095035552979, 0.9998235702514648, 0.9999083876609802, 0.01685064472258091, 0.9827295541763306, 0.9988017678260803, 0.22444473206996918, 0.6471784114837646, 0.11133871972560883, 0.016965901479125023, 0.9991572499275208, 0.6642131209373474, 0.013706370256841183, 0.32203903794288635, 0.33307579159736633, 0.6667073369026184, 0.9993143081665039, 0.94061279296875, 0.05931723117828369, 0.9998635053634644, 0.9992407560348511, 0.9980950355529785, 0.9995126724243164, 0.9995898604393005, 0.999569833278656, 0.9996551275253296, 0.9991878867149353, 0.9993916153907776, 0.03256208077073097, 0.8673354387283325, 0.06789933890104294, 0.03200704604387283, 0.0016256154049187899, 0.0016256154049187899, 0.0016256154049187899, 0.004876845981925726, 0.03738915175199509, 0.0032512308098375797, 0.0016256154049187899, 0.0016256154049187899, 0.0016256154049187899, 0.9444825053215027, 0.0016256154049187899, 0.9979701638221741, 0.998887300491333, 0.1933232843875885, 0.6117156147956848, 0.19454428553581238, 0.9992808103561401, 0.9995836019515991, 0.9999012351036072, 0.9992147088050842, 0.9996797442436218, 0.003993517253547907, 0.0013311724178493023, 0.021298758685588837, 0.0013311724178493023, 0.019967587664723396, 0.009318207390606403, 0.031948138028383255, 0.05058455467224121, 0.0066558620892465115, 0.06123393401503563, 0.017305241897702217, 0.04259751737117767, 0.007987034507095814, 0.023961104452610016, 0.031948138028383255, 0.0026623448356986046, 0.03993517532944679, 0.026623448356986046, 0.013311724178493023, 0.5870470404624939, 0.9988569617271423, 0.9999282956123352, 0.9995285272598267, 0.6799347400665283, 0.07971694320440292, 0.1290718913078308, 0.05958708003163338, 0.04835180565714836, 0.003343831514939666, 0.9991726279258728, 0.9584816098213196, 0.02164948172867298, 0.019189313054084778, 0.9999079704284668, 0.9996152520179749, 0.29999223351478577, 0.013815431855618954, 0.6179445385932922, 0.06809034198522568, 0.9992762804031372, 0.9999219179153442, 0.9996001720428467, 0.9988264441490173, 0.11655149608850479, 0.8831478953361511, 0.9981995820999146, 0.3091779947280884, 0.0044049425050616264, 0.04307054728269577, 0.09157385677099228, 0.404765248298645, 0.05163571238517761, 0.06323539465665817, 0.03205819055438042, 0.999750554561615, 0.9980341196060181, 0.23785467445850372, 0.7619646787643433, 0.9998584389686584, 0.9998828768730164, 0.9990074038505554, 0.9996991157531738, 0.9985724687576294, 0.9999748468399048, 0.998635470867157, 0.9995840787887573, 0.5332038402557373, 0.015007393434643745, 0.4511045813560486, 0.9999858736991882, 0.9978809952735901, 0.06673487275838852, 0.00218802853487432, 0.00109401426743716, 0.2384951263666153, 0.09408523142337799, 0.003282042918726802, 0.5820156335830688, 0.003282042918726802, 0.007658100221306086, 0.00109401426743716, 0.45069560408592224, 0.44337910413742065, 0.10565007477998734, 0.9998040795326233, 0.997733473777771, 0.9980301856994629, 0.9994432330131531, 0.9995494484901428, 0.22956322133541107, 0.12114254385232925, 0.2677288353443146, 0.2576652467250824, 0.011202837340533733, 0.1125980094075203, 0.9993509650230408, 0.9994754791259766, 0.9987552762031555, 0.9976891875267029, 0.1517793834209442, 0.2480912208557129, 0.17598341405391693, 0.33608293533325195, 0.08799170702695847, 0.8347842693328857, 0.0031917367596179247, 0.1619081050157547, 0.9994783997535706, 0.9994798302650452, 0.41675111651420593, 0.41736578941345215, 0.1658262461423874, 0.998491108417511, 0.51954585313797, 0.4802912473678589, 0.9992064833641052, 0.05330072343349457, 0.4791862368583679, 0.2901478707790375, 0.0009827682515606284, 0.009480822831392288, 0.158803790807724, 0.008035575971007347, 0.35965660214424133, 0.6400583386421204, 0.9989639520645142, 0.9993240833282471, 0.0025333568919450045, 0.0025333568919450045, 0.020900193601846695, 0.0012666784459725022, 0.032933637499809265, 0.005066713783890009, 0.010766766034066677, 0.009500088170170784, 0.00886674877256155, 0.0012666784459725022, 0.5332716107368469, 0.033566977828741074, 0.09816757589578629, 0.0006333392229862511, 0.005066713783890009, 0.0019000176107510924, 0.23053546249866486, 0.998366117477417, 0.8217096924781799, 0.17800261080265045, 0.9994716644287109, 0.8821722269058228, 0.017235422506928444, 0.1002468466758728, 0.08723004907369614, 0.01911415532231331, 0.6936700344085693, 0.1998298019170761, 0.9987274408340454, 0.9996634721755981, 0.9991516470909119, 0.9996519684791565, 0.9992986917495728, 0.01699470914900303, 0.9777886271476746, 0.004742709454149008, 0.2805127203464508, 0.010308594442903996, 0.2509746253490448, 0.4579395055770874, 0.01869380474090576, 0.981078565120697, 0.9997506737709045, 0.9985759258270264, 0.9992764592170715, 0.8718686699867249, 0.12759053707122803, 0.9995455741882324, 0.9992660880088806, 0.3468610346317291, 0.0030426406301558018, 0.014706096611917019, 0.635151207447052, 0.2544662356376648, 0.7454785108566284, 0.99955153465271, 0.9999433755874634, 0.9979134798049927, 0.9995000958442688, 0.9994609951972961, 0.9999792575836182, 0.9995789527893066, 0.9995942711830139, 0.046329256147146225, 0.9530590176582336, 0.9995436072349548, 0.9990781545639038, 0.9992950558662415, 0.9989080429077148, 0.12162970751523972, 0.8782077431678772, 0.9997137784957886, 0.9995389580726624, 0.9977644681930542, 0.99908846616745, 0.9995289444923401, 0.4964804947376251, 0.20679011940956116, 0.29636844992637634, 0.23567910492420197, 0.7640146613121033, 0.9996775388717651, 0.9991303086280823, 0.26287949085235596, 0.6150606870651245, 0.1217750608921051, 0.9997774958610535, 0.38552647829055786, 0.6143100261688232, 0.9984581470489502, 0.9995789527893066, 0.9980022311210632, 0.998797595500946, 0.9380161166191101, 0.06108011677861214, 0.3619949519634247, 0.043600380420684814, 0.3150407075881958, 0.27904245257377625, 0.9994065761566162, 0.15901681780815125, 0.02609126828610897, 0.7541775703430176, 0.060660142451524734, 0.9993464946746826, 0.9997859001159668, 0.9995331764221191, 0.9995488524436951, 0.1858971267938614, 0.8135649561882019, 0.2781599164009094, 0.3620934784412384, 0.24833230674266815, 0.04092627391219139, 0.07029145210981369, 0.9998046159744263, 0.3485722839832306, 0.173635333776474, 0.4776924252510071, 0.7736852765083313, 0.19201205670833588, 0.033822305500507355, 0.9998618960380554, 0.9133889675140381, 0.08627304434776306, 0.9993806481361389, 0.999204695224762, 0.999426007270813, 0.9970777034759521, 0.20815816521644592, 0.013542293570935726, 0.7740949988365173, 0.003931633662432432, 0.9991329312324524, 0.9993627071380615, 0.18609799444675446, 0.8130156397819519, 0.9989510774612427, 0.9991691708564758, 0.9996932744979858, 0.9992052316665649, 0.9998549818992615, 0.9998563528060913, 0.9992136359214783, 0.9990617036819458, 0.801003098487854, 0.1986798793077469, 0.9988498091697693, 0.9560920596122742, 0.04352695494890213, 0.9996358156204224, 0.3437328040599823, 0.3975336253643036, 0.13846784830093384, 0.12012013792991638, 0.9994070529937744, 0.9995861649513245, 0.9991351962089539, 0.9998289346694946, 0.7441967129707336, 0.25547972321510315, 0.020987944677472115, 0.25043240189552307, 0.7279377579689026, 0.0005928797763772309, 0.9994568824768066, 0.03863585740327835, 0.9606871008872986, 0.9987577199935913, 0.9976932406425476, 0.997909426689148, 0.8343329429626465, 0.09528113156557083, 0.07035849988460541, 0.09177324175834656, 0.9082573056221008, 0.9993233680725098, 0.9996389746665955, 0.9989880323410034, 0.9985714554786682, 0.9995535612106323, 0.9992443919181824, 0.9986372590065002, 0.4329105615615845, 0.5532209873199463, 0.013745538890361786, 0.9992190003395081, 0.10185960680246353, 0.8980122804641724, 0.9995535016059875, 0.9979375004768372, 0.9995286464691162, 0.9998403787612915, 0.9990928769111633, 0.9996118545532227, 0.9997777938842773, 0.44124916195869446, 0.5584354996681213, 0.9996157288551331, 0.27673742175102234, 0.7232035994529724, 0.34256523847579956, 0.6570351719856262, 0.9994038343429565, 0.9997743964195251, 0.5964357852935791, 0.4032808244228363, 0.9989937543869019, 0.9997770190238953, 0.004195650108158588, 0.001048912527039647, 0.020978249609470367, 0.001048912527039647, 0.01992933824658394, 0.00944021251052618, 0.03251628950238228, 0.05034780129790306, 0.006293475162237883, 0.06188583746552467, 0.01783151365816593, 0.04300541430711746, 0.008391300216317177, 0.024124987423419952, 0.03251628950238228, 0.0031467375811189413, 0.03985867649316788, 0.027271725237369537, 0.014684774912893772, 0.5821464657783508, 0.9874772429466248, 0.012439725920557976, 0.9997144937515259, 0.999841570854187, 0.4075325131416321, 0.22137264907360077, 0.08692385256290436, 0.2839184105396271, 0.9994940161705017, 0.9991908669471741, 0.9988027215003967, 0.7431130409240723, 0.25684675574302673, 0.999584972858429, 0.9981409311294556, 0.9982709884643555, 0.998301088809967, 0.9998223781585693, 0.2115798145532608, 0.4539497494697571, 0.33433154225349426, 0.9989571571350098, 0.999467134475708, 0.9996815919876099, 0.9996455311775208, 0.9992834329605103, 0.9992812871932983, 0.9987018704414368, 0.9999471306800842, 0.9986220598220825, 0.9994744658470154, 0.9996656179428101, 0.9993831515312195, 0.9995696544647217, 0.15954869985580444, 0.7741859555244446, 0.06585399061441422, 0.999321460723877, 0.999471127986908, 0.9981468319892883, 0.5184925198554993, 0.4814123213291168, 0.08021750301122665, 0.9196265935897827, 0.9995952844619751, 0.4257461428642273, 0.5741819739341736, 0.9994874596595764, 0.9991142153739929, 0.9996481537818909, 0.9966912269592285, 0.30999839305877686, 0.14487361907958984, 0.0327133983373642, 0.13054203987121582, 0.38165631890296936, 0.9994422197341919, 0.9985111355781555, 0.9998512864112854, 0.9999399185180664, 0.9996907711029053, 0.8752538561820984, 0.04415813833475113, 0.03163568302989006, 0.04877167567610741, 0.999880313873291, 0.9993549585342407, 0.9981989860534668, 0.9990399479866028, 0.04643430933356285, 0.9527631998062134, 0.9696815013885498, 0.03022797219455242, 0.9997413158416748, 0.9997931718826294, 0.9992890954017639, 0.0022213568445295095, 0.9951679110527039, 0.9994605779647827, 0.9996415972709656, 0.9979596138000488, 0.9688681960105896, 0.030368972569704056, 0.02143113501369953, 0.9781782031059265, 0.4135107696056366, 0.5859760046005249, 0.9995735287666321, 0.997643232345581, 0.796413779258728, 0.036860886961221695, 0.16665492951869965, 0.9962694644927979, 0.9988915324211121, 0.04623563215136528, 0.9530201554298401, 0.9997192025184631, 0.9989129900932312, 0.0005150125944055617, 0.0005150125944055617, 0.0010300251888111234, 0.0020600503776222467, 0.003605087986215949, 0.9913991689682007, 0.999539852142334, 0.9826393127441406, 0.01721053011715412, 0.7061633467674255, 0.006020450033247471, 0.28774207830429077, 0.9999019503593445, 0.999630868434906, 0.999803364276886, 0.9995605945587158, 0.9995531439781189, 0.9994010329246521, 0.9536949992179871, 0.04612669348716736, 0.9998065829277039, 0.11361393332481384, 0.8858708739280701, 0.998791515827179, 0.9988647699356079, 0.9989219307899475, 0.9997695684432983, 0.18062785267829895, 0.010586247779428959, 0.8085246682167053, 0.9996577501296997, 0.9987179636955261, 0.9988744854927063, 0.9996371865272522, 0.9974503517150879, 0.9987393617630005, 0.9996479749679565, 0.9991384148597717, 0.9997630715370178, 0.9995729923248291, 0.9988155961036682, 0.9972241520881653, 0.9995827674865723, 0.9996212124824524, 0.9997901320457458, 0.9891881346702576, 0.010609899647533894, 0.9993272423744202, 0.999703586101532, 0.9982227683067322, 0.8441813588142395, 0.10273973643779755, 0.010119767859578133, 0.04288853704929352, 0.9997886419296265, 0.9992484450340271, 0.9991787075996399, 0.9997797012329102, 0.9993771910667419, 0.9986750483512878, 0.9997799396514893, 0.17986056208610535, 0.2278233766555786, 0.5912339091300964, 0.9998914003372192, 0.9983325004577637, 0.14047670364379883, 0.4019712805747986, 0.4280940890312195, 0.029054954648017883, 0.9995183944702148, 0.9995699524879456, 0.9996130466461182, 0.999847948551178, 0.9997553825378418, 0.004410514608025551, 0.0014701714972034097, 0.07252845913171768, 0.0004900571657344699, 0.009801143780350685, 0.0029403429944068193, 0.00833097193390131, 0.06321737170219421, 0.009801143780350685, 0.03626422956585884, 0.0014701714972034097, 0.386165052652359, 0.11124297976493835, 0.11516343802213669, 0.038714516907930374, 0.003920457325875759, 0.03773440048098564, 0.020582400262355804, 0.003920457325875759, 0.07105828821659088, 0.9992393255233765, 0.005243229679763317, 0.9858289957046509, 0.008908400312066078, 0.9998239874839783, 0.9998754262924194, 0.9994702935218811, 0.8390122056007385, 0.11201617121696472, 0.048799123615026474, 0.9994937181472778, 0.9995187520980835, 0.999676525592804, 0.7272729277610779, 0.1172586977481842, 0.0874243676662445, 0.012594000436365604, 0.004279514774680138, 0.03723177686333656, 0.013816718943417072, 0.9993363618850708, 0.8084383606910706, 0.19159004092216492, 0.9993792176246643, 0.9991821646690369, 0.2413826733827591, 0.12513786554336548, 0.6167962551116943, 0.01619804836809635, 0.9991048574447632, 0.2079445868730545, 0.21221742033958435, 0.5792064070701599, 0.9997300505638123, 0.9070953130722046, 0.09284795820713043, 0.99969881772995, 0.9997493028640747, 0.9984387159347534, 0.9995719194412231, 0.9994301199913025, 0.9991769194602966, 0.9992011785507202, 0.9997748732566833, 0.9992111921310425, 0.7646912932395935, 0.08283155411481857, 0.15185785293579102, 0.9989568591117859, 0.9989809989929199, 0.001644809148274362, 0.07401641458272934, 0.05098908394575119, 0.001644809148274362, 0.006579236593097448, 0.008224045857787132, 0.10691259801387787, 0.0937541201710701, 0.06085794046521187, 0.006579236593097448, 0.003289618296548724, 0.5822624564170837, 0.9999476671218872, 0.998620867729187, 0.999283492565155, 0.9998417496681213, 0.0036715783644467592, 0.0009178945911116898, 0.02111157588660717, 0.0009178945911116898, 0.020193681120872498, 0.010096840560436249, 0.033044204115867615, 0.050484202802181244, 0.006425261963158846, 0.06241683289408684, 0.01743999682366848, 0.043141044676303864, 0.008261051028966904, 0.023865260183811188, 0.03212631121277809, 0.0027536838315427303, 0.040387362241744995, 0.02753683738410473, 0.013768418692052364, 0.5819451808929443, 0.0017846057889983058, 0.3144475221633911, 0.5444832444190979, 0.06656579673290253, 0.07263345271348953, 0.9997614026069641, 0.866888701915741, 0.13288725912570953, 0.9995320439338684, 0.9993368983268738, 0.024268755689263344, 0.03342677652835846, 0.2358190417289734, 0.6291560530662537, 0.07738527655601501, 0.9997350573539734, 0.99921715259552, 0.998188316822052, 0.9997356534004211, 0.9998573660850525, 0.9990125298500061, 0.9999303221702576, 0.1295301467180252, 0.8702993392944336, 0.9986386895179749, 0.9977935552597046, 0.9526494741439819, 0.04723590239882469, 0.9985917210578918, 0.004508062265813351, 0.0011270155664533377, 0.021413296461105347, 0.0011270155664533377, 0.019159264862537384, 0.009016124531626701, 0.03268345072865486, 0.04958868399262428, 0.006762093398720026, 0.06198585405945778, 0.01690523326396942, 0.04282659292221069, 0.00788910873234272, 0.02366732619702816, 0.03155643492937088, 0.0022540311329066753, 0.03944554552435875, 0.027048373594880104, 0.013524186797440052, 0.5871751308441162, 0.9994462132453918, 0.9854387044906616, 0.014514213427901268, 0.928099513053894, 0.07183894515037537, 0.999721884727478, 0.08841110020875931, 0.4990716278553009, 0.38287419080734253, 0.029590653255581856, 0.9991101622581482, 0.9994433522224426, 0.999129593372345, 0.46126580238342285, 0.5386897325515747, 0.9998738765716553, 0.9994637370109558, 0.9997788667678833, 0.3161296248435974, 0.3894820809364319, 0.29405897855758667, 0.737758994102478, 0.23465436697006226, 0.00988655537366867, 0.017688190564513206, 0.9990212917327881, 0.9993744492530823, 0.34061235189437866, 0.4244501292705536, 0.03177226334810257, 0.02821923792362213, 0.11014384776353836, 0.06477442383766174, 0.9997097253799438], \"Term\": [\"aa\", \"aa_ac\", \"aa_ac\", \"aa_ac\", \"aa_ac\", \"aa_ac\", \"aa_ac\", \"aa_ac\", \"aa_ac\", \"aa_ac\", \"aa_ac\", \"aa_ac\", \"aa_ac\", \"aa_ac\", \"aa_ac\", \"aa_ac\", \"aa_ac\", \"aa_ac\", \"aa_ac\", \"aa_ac\", \"aa_ac\", \"access\", \"access\", \"accord\", \"accord\", \"account\", \"account\", \"act\", \"act\", \"act\", \"action\", \"active\", \"activity\", \"activity\", \"add\", \"add\", \"address\", \"administration\", \"adopt\", \"advice\", \"affirm\", \"age\", \"agency\", \"agency\", \"ago\", \"ago\", \"agreement\", \"ahead\", \"aid\", \"air\", \"airline\", \"alert\", \"alert\", \"align\", \"allege\", \"allegedly\", \"allow\", \"allow\", \"allow\", \"allow\", \"also\", \"also\", \"also\", \"also\", \"amendment\", \"american\", \"amount\", \"amount\", \"amp\", \"amy\", \"ann\", \"announce\", \"annual\", \"anything\", \"aol\", \"apparently\", \"appeal\", \"appeals_court\", \"appeals_court\", \"appeals_court\", \"application\", \"apply\", \"approach\", \"appropriate\", \"approve\", \"arizona\", \"ask\", \"ask\", \"ask\", \"assessment\", \"asset\", \"assist\", \"assistant\", \"associate\", \"assume\", \"att_net\", \"attach\", \"attachment\", \"attachments_hereto\", \"attend\", \"attorney\", \"attorney_client\", \"august\", \"australia\", \"authority\", \"available\", \"available\", \"average\", \"aware\", \"back\", \"back\", \"ban\", \"bank\", \"bankruptcy\", \"bar\", \"base\", \"base\", \"base\", \"base\", \"basis\", \"basis\", \"baughman\", \"begin\", \"begin\", \"begin\", \"begin\", \"believe\", \"believe\", \"believe\", \"ben\", \"benefit\", \"benefit\", \"benefit\", \"better\", \"bid\", \"big\", \"big\", \"big\", \"big\", \"big\", \"blackberry\", \"blackberry_wireless\", \"board\", \"body\", \"bonne_castellano\", \"border\", \"border_cellspac\", \"br\", \"br_br\", \"brad\", \"breach\", \"brian\", \"brian\", \"brown\", \"brown\", \"building\", \"building\", \"building\", \"bureau\", \"bush\", \"business\", \"business\", \"buy\", \"buy\", \"buy\", \"buy\", \"ca\", \"calculation\", \"california\", \"call\", \"call\", \"call\", \"call\", \"campaign\", \"campbell\", \"candidate\", \"cap\", \"car\", \"card\", \"carolyn\", \"cash\", \"cathy\", \"ccite_cc\", \"ccite_cc\", \"ccite_cc\", \"ccite_cc\", \"ccite_cc\", \"ccite_cc\", \"ccite_cc\", \"ccite_cc\", \"ccite_cc\", \"ccite_cc\", \"ccite_cc\", \"ccite_cc\", \"ccite_cc\", \"ccite_cc\", \"ccite_cc\", \"ccite_cc\", \"ccite_cc\", \"ccite_cc\", \"ccite_cc\", \"ccite_cc\", \"cellpadd\", \"cellpadding_cellspac\", \"cellpadding_cellspac\", \"cellpadding_cellspac\", \"cellpadding_cellspac\", \"cellpadding_cellspac\", \"cellpadding_cellspac\", \"cellpadding_cellspac\", \"cellpadding_cellspac\", \"cellpadding_cellspac\", \"cellpadding_cellspac\", \"center\", \"certain\", \"certain\", \"chad_starne\", \"chairman\", \"challenge\", \"change\", \"change\", \"change\", \"change\", \"change\", \"change\", \"charge\", \"charge\", \"check\", \"check\", \"cheryl\", \"child\", \"child\", \"chris\", \"chris\", \"chris\", \"cindy\", \"cir\", \"circuit\", \"city\", \"city\", \"civil_right\", \"claim\", \"clark\", \"class\", \"class_emailtextblack\", \"class_emailtextblack\", \"class_emailtextblack\", \"class_emailtextblack\", \"class_emailtextblack\", \"class_emailtextblack\", \"class_emailtextblack\", \"class_emailtextblack\", \"class_emailtextblack\", \"class_emailtextblack\", \"class_emailtextblack\", \"class_emailtextblack\", \"class_emailtextblack\", \"class_emailtextblack\", \"class_emailtextblack\", \"clause\", \"click\", \"client\", \"clint_dean\", \"co\", \"co\", \"co\", \"code\", \"color\", \"colspan\", \"colspan_valign\", \"com\", \"come\", \"come\", \"comment\", \"commission\", \"committee\", \"common\", \"communication\", \"communication\", \"company\", \"company\", \"company\", \"compensation\", \"compliance\", \"computer\", \"comthis\", \"concern\", \"concern\", \"concern\", \"concern\", \"conclude\", \"condition\", \"conduct\", \"conference\", \"confidential\", \"confirm\", \"confirmation\", \"consent\", \"consolidate\", \"construction\", \"contact\", \"contact\", \"contact\", \"contact\", \"contain\", \"contain\", \"contain_confidential\", \"content\", \"content\", \"continue\", \"continue\", \"continue\", \"contract\", \"contract\", \"contract\", \"contract\", \"contract\", \"contractor\", \"control\", \"copy\", \"copy\", \"copy\", \"copyright\", \"corp\", \"corp\", \"corp\", \"corp\", \"corporate\", \"corporation\", \"corporation\", \"corporation\", \"correct\", \"cost\", \"cost\", \"could\", \"could\", \"could\", \"council\", \"counsel\", \"country\", \"country\", \"country\", \"court\", \"cover\", \"cover\", \"cover\", \"cover\", \"criminal\", \"customer\", \"cynthia\", \"cyril_price\", \"daily\", \"dalla\", \"damage\", \"database\", \"date\", \"date\", \"date\", \"date\", \"date\", \"date\", \"datum\", \"datum\", \"dave\", \"dave\", \"dave\", \"david\", \"david\", \"david\", \"david_oxley\", \"day\", \"day\", \"day\", \"day\", \"day\", \"day\", \"day\", \"dean_laurent\", \"december\", \"december\", \"december\", \"decision\", \"decision\", \"decision\", \"decline\", \"defense\", \"del_fcite\", \"del_fcite\", \"del_fcite\", \"del_fcite\", \"del_fcite\", \"del_fcite\", \"del_fcite\", \"del_fcite\", \"del_fcite\", \"del_fcite\", \"del_fcite\", \"del_fcite\", \"del_fcite\", \"del_fcite\", \"del_fcite\", \"del_fcite\", \"del_fcite\", \"del_fcite\", \"del_fcite\", \"del_fcite\", \"del_vecchio\", \"delete\", \"delivery\", \"delivery\", \"deny\", \"department\", \"department\", \"destroy\", \"destroy\", \"determination\", \"diane\", \"direction\", \"director\", \"director\", \"discharge\", \"disclosure\", \"discrimination\", \"discuss\", \"discussion\", \"dismiss\", \"dispute\", \"distribution\", \"distribution\", \"distribution\", \"district\", \"district_court\", \"div\", \"diversity\", \"do\", \"doc\", \"document\", \"document\", \"door\", \"doug_gilbert\", \"draft\", \"draw\", \"dynegy\", \"e\", \"earning\", \"economy\", \"economy\", \"ect\", \"ectattach\", \"ed\", \"education\", \"ee\", \"eeoc\", \"eeoc\", \"eeoc\", \"eeoc\", \"eeoc\", \"eeoc\", \"eeoc\", \"eeoc\", \"eeoc\", \"eeoc\", \"eeoc\", \"eeoc\", \"eeoc\", \"eeoc\", \"eeoc\", \"eeoc\", \"electronic\", \"elizabeth_sager\", \"elliott\", \"email\", \"employee\", \"employer\", \"employment\", \"ena\", \"energy\", \"energy\", \"enforceable_contract\", \"enron\", \"enron\", \"enronxgate\", \"entity\", \"entry\", \"eott\", \"equity\", \"eric_saibi\", \"erik_serio\", \"establish\", \"et\", \"et\", \"even_though\", \"event\", \"everyone\", \"evidence\", \"exclude\", \"executive\", \"exempt\", \"expect\", \"expect\", \"expect\", \"expect\", \"expect\", \"expense\", \"explain\", \"express\", \"extend\", \"face\", \"face\", \"face_arial\", \"facility\", \"facility\", \"fact\", \"fail\", \"fail\", \"family\", \"family\", \"fantasy\", \"fax\", \"fcite_dfull\", \"fcite_dfull\", \"fcite_dfull\", \"fcite_dfull\", \"fcite_dfull\", \"fcite_dfull\", \"fcite_dfull\", \"fcite_dfull\", \"fcite_dfull\", \"fcite_dfull\", \"fcite_dfull\", \"fcite_dfull\", \"fcite_dfull\", \"fcite_dfull\", \"fcite_dfull\", \"fcite_dfull\", \"fcite_dfull\", \"fcite_dfull\", \"fcite_dfull\", \"fcite_dfull\", \"feature\", \"federal\", \"federal\", \"fee\", \"feedback\", \"female\", \"field\", \"field\", \"field\", \"file\", \"file\", \"file\", \"final\", \"final\", \"find\", \"find\", \"find\", \"firm\", \"first\", \"first\", \"first\", \"first\", \"first\", \"first\", \"fiscal\", \"floor\", \"focus\", \"follow\", \"follow\", \"follow\", \"follow\", \"follow\", \"follow\", \"font\", \"food\", \"forecast\", \"foreign\", \"form\", \"form\", \"form\", \"forward\", \"forward\", \"forward\", \"forward\", \"forward\", \"fran_maye\", \"free\", \"free_agent\", \"free_agent\", \"free_agent\", \"free_agent\", \"free_agent\", \"friday\", \"full\", \"full\", \"full\", \"full\", \"full\", \"full\", \"fund\", \"future\", \"future\", \"future\", \"fyi\", \"fyi\", \"game\", \"garcia\", \"garcia\", \"gas\", \"gas\", \"gerald_gilbert\", \"get\", \"gift\", \"gilda_parker\", \"give\", \"give\", \"give\", \"give\", \"give\", \"global\", \"go\", \"good\", \"good\", \"good\", \"government\", \"grant\", \"great\", \"green\", \"green\", \"greenberg\", \"greg\", \"group\", \"group\", \"guidance\", \"guideline\", \"guy\", \"hall\", \"handheld_www\", \"happen\", \"harassment\", \"health\", \"hear\", \"highlight\", \"hire\", \"hire\", \"hold\", \"hold\", \"hold\", \"holiday\", \"home\", \"home\", \"hope\", \"hotel\", \"hou\", \"houston\", \"houston\", \"icap\", \"idea\", \"identify\", \"ill\", \"illegal\", \"illegally\", \"image\", \"immigration\", \"in\", \"inc\", \"inc\", \"include\", \"include\", \"include\", \"include\", \"include\", \"include\", \"increase\", \"increase\", \"indemnification\", \"independent\", \"index\", \"indicate\", \"individual\", \"individual\", \"industry\", \"inform\", \"inform\", \"inform\", \"information\", \"information\", \"information\", \"information\", \"injury\", \"input\", \"insurance\", \"intended_recipient\", \"intent\", \"interested\", \"interim\", \"internal\", \"internet\", \"internet\", \"internet\", \"interview\", \"investment\", \"issue\", \"issue\", \"issue\", \"jame\", \"jame\", \"jame\", \"jason_choate\", \"jbrown\", \"jeff_k\", \"jim\", \"job\", \"joe\", \"joe\", \"joe_quenet\", \"joe_stepenovitch\", \"john\", \"john\", \"john_kinser\", \"johnson\", \"johnson\", \"jordan_mintz\", \"jpg\", \"juan_hernandez\", \"judge\", \"judge\", \"judgment\", \"june\", \"jury\", \"justin_laverell\", \"karen\", \"kathy\", \"kayne_coulter\", \"keep\", \"keep\", \"keep\", \"keith_comeaux\", \"kelly\", \"kelly\", \"ken\", \"kevin_cline\", \"kid\", \"kind\", \"know\", \"kyle_schultz\", \"labor\", \"labour\", \"lack\", \"language\", \"larry_campbell\", \"larry_jester\", \"larry_valderrama\", \"last\", \"last\", \"last\", \"last\", \"late\", \"later\", \"law\", \"lawyer\", \"lawyer\", \"lay\", \"lead\", \"lead\", \"lead\", \"lead\", \"league\", \"leave\", \"leave\", \"leave\", \"legal\", \"legal\", \"legislation\", \"let\", \"let\", \"letter\", \"liability\", \"liable\", \"lie\", \"life\", \"limit\", \"link\", \"liquid\", \"lisa_burnett\", \"list\", \"list\", \"list\", \"list\", \"littler\", \"littler\", \"littler\", \"littler\", \"littler\", \"littler\", \"littler\", \"littler\", \"littler\", \"littler\", \"littler\", \"liz\", \"llc\", \"local\", \"local\", \"local\", \"location\", \"lon\", \"look\", \"loss\", \"louis_soldano\", \"lslwk\", \"lslwk\", \"lslwk\", \"lslwk\", \"lslwk\", \"lslwk\", \"lslwk\", \"lslwk\", \"lslwk\", \"lslwk\", \"lslwk\", \"lslwk\", \"lslwk\", \"lslwk\", \"lslwk\", \"lslwk\", \"lslwk\", \"lslwk\", \"lslwk\", \"lslwk\", \"madison_ave\", \"mail\", \"maintain\", \"make\", \"make\", \"make\", \"make\", \"make\", \"make\", \"man\", \"manage\", \"manage\", \"manage\", \"management\", \"maria_valde\", \"mark\", \"mark\", \"mark\", \"mark\", \"mark_haedicke\", \"market\", \"mary_joyce\", \"matt_lorenz\", \"matter\", \"matter\", \"maximum\", \"may\", \"may\", \"may\", \"may\", \"may\", \"may\", \"may\", \"may\", \"measure\", \"medical\", \"meet\", \"meet\", \"meeting\", \"member\", \"membership\", \"memo\", \"merit\", \"message\", \"metal\", \"mexico\", \"michael\", \"michael\", \"michael\", \"michelle\", \"michellecash\", \"michellepm\", \"michellepm\", \"michellepm\", \"michellepm\", \"michellepm\", \"michellepm\", \"michellepm\", \"michellepm\", \"michellepm\", \"michellepm\", \"mike\", \"mike\", \"mike\", \"mike_carson\", \"military\", \"mill\", \"miss\", \"model\", \"month\", \"month\", \"month\", \"month\", \"month\", \"month\", \"morning\", \"motion\", \"mr\", \"ms\", \"must\", \"must\", \"must\", \"must\", \"must\", \"name\", \"name\", \"name\", \"nbsp\", \"nbsp_nbsp\", \"need\", \"need\", \"need\", \"neil\", \"net\", \"net\", \"never\", \"new\", \"new\", \"new\", \"new\", \"new\", \"new\", \"new\", \"news\", \"news\", \"newsletter\", \"night\", \"nlrb\", \"nlrb\", \"nlrb\", \"nlrb\", \"nlrb\", \"nlrb\", \"nlrb\", \"nlrb\", \"nlrb\", \"nlrb\", \"nlrb\", \"nlrb\", \"nlrb\", \"nlrb\", \"nlrb\", \"nlrb\", \"nlrb\", \"normal\", \"north_america\", \"north_america\", \"nov\", \"november\", \"november\", \"november\", \"number\", \"number\", \"number\", \"number\", \"nurse\", \"nyiso\", \"obligation\", \"obtain\", \"oct\", \"october\", \"october\", \"october\", \"offer\", \"offer\", \"offer\", \"offer\", \"office\", \"office\", \"officer\", \"ohio\", \"oil\", \"online\", \"online\", \"operate\", \"opinion\", \"option\", \"option\", \"option\", \"option\", \"order\", \"order\", \"organization\", \"original\", \"otc\", \"other\", \"owe\", \"page\", \"participant\", \"participate\", \"participation\", \"participation\", \"pass\", \"pat\", \"patrick_hanse\", \"paul\", \"pay\", \"pay\", \"payment\", \"payroll\", \"pdf\", \"pend\", \"pension\", \"people\", \"people\", \"people\", \"percent\", \"percent\", \"performance\", \"perhaps\", \"period\", \"period\", \"period\", \"permit\", \"person\", \"person\", \"peter\", \"peter_makkai\", \"petition\", \"physical\", \"pipeline\", \"pipeline\", \"place\", \"place\", \"place\", \"place\", \"plaintiff\", \"plan\", \"plan\", \"plan\", \"plan\", \"plant\", \"play\", \"player\", \"please\", \"pm\", \"pm\", \"point\", \"point\", \"point\", \"point\", \"point\", \"policy\", \"position\", \"position\", \"position\", \"possible\", \"possible\", \"possible\", \"power\", \"practice\", \"practice\", \"prc\", \"pre\", \"president\", \"press\", \"price\", \"price\", \"price\", \"price\", \"print\", \"privacy\", \"private\", \"private\", \"privilege\", \"privileged_material\", \"probably\", \"procedure\", \"process\", \"program\", \"progress\", \"prohibit\", \"project\", \"project\", \"proprietary\", \"protect\", \"protect\", \"protection\", \"provide\", \"provide\", \"provide\", \"provide\", \"provider\", \"provision\", \"purchase\", \"purpose\", \"put\", \"put\", \"question\", \"question\", \"question\", \"question\", \"rank\", \"rate\", \"rate\", \"rd\", \"recall\", \"receipt\", \"receive\", \"receive\", \"receive\", \"recently\", \"recently\", \"recipient\", \"recommend\", \"red\", \"refer\", \"reference\", \"reflect\", \"refuse\", \"regard\", \"regard\", \"regard\", \"region\", \"register\", \"register\", \"regulation\", \"reinstate\", \"reject\", \"relate\", \"related\", \"relation\", \"release\", \"remove\", \"remove\", \"reply\", \"report\", \"report\", \"represent\", \"represent\", \"representative\", \"request\", \"require\", \"require\", \"reschedule\", \"research\", \"research_buttontflink\", \"research_buttontflink\", \"research_buttontflink\", \"research_buttontflink\", \"research_buttontflink\", \"research_buttontflink\", \"research_buttontflink\", \"research_buttontflink\", \"research_buttontflink\", \"research_buttontflink\", \"research_buttontflink\", \"research_buttontflink\", \"research_buttontflink\", \"research_buttontflink\", \"research_buttontflink\", \"research_buttontflink\", \"research_buttontflink\", \"research_buttontflink\", \"research_buttontflink\", \"research_buttontflink\", \"resource\", \"resource\", \"respect\", \"responsible\", \"result\", \"result\", \"result\", \"result\", \"resume\", \"retirement\", \"reverse\", \"review\", \"review\", \"revise\", \"rich\", \"richard_broussard\", \"richard_hrabal\", \"rick\", \"right\", \"right\", \"right\", \"rights_reserv\", \"rika_imai\", \"robert_benson\", \"robert_stalford\", \"roger\", \"role\", \"roll\", \"rule\", \"russell\", \"russell_ballato\", \"ryan\", \"safety\", \"salary\", \"sale\", \"sale\", \"sale\", \"sample\", \"save\", \"saving\", \"say\", \"say\", \"schedule\", \"schedule\", \"school\", \"scott\", \"scott\", \"script\", \"search\", \"season\", \"sec\", \"second\", \"second\", \"second\", \"second\", \"second\", \"secretary\", \"sector\", \"security\", \"see\", \"seem\", \"sell\", \"sell\", \"sell\", \"sell\", \"send\", \"sender\", \"sentence\", \"separate\", \"serve\", \"serve\", \"service\", \"service\", \"settlement\", \"severance\", \"sex\", \"sexual\", \"sexual\", \"shall\", \"share\", \"sheet\", \"simone\", \"simone\", \"sit\", \"sit\", \"site\", \"site\", \"size\", \"slot\", \"smith\", \"smith\", \"smith\", \"smoke\", \"software\", \"sole\", \"sole\", \"soon\", \"span\", \"span_class\", \"span_class\", \"span_class\", \"span_class\", \"span_class\", \"span_class\", \"staff\", \"standard\", \"standard\", \"start\", \"start\", \"start\", \"state\", \"statement\", \"status\", \"statute\", \"step\", \"steve_olinde\", \"still\", \"still\", \"stock\", \"store\", \"store\", \"strategy\", \"streethouston_texas\", \"strictly_prohibit\", \"strike\", \"study\", \"study\", \"study\", \"sturm\", \"style\", \"suarez\", \"submit\", \"subscribe\", \"subsidiary\", \"successful\", \"sue\", \"suggest\", \"suit\", \"suite\", \"sullivan\", \"sunday\", \"supervisor\", \"supply\", \"sure\", \"sure\", \"survey\", \"table\", \"table_width\", \"take\", \"take\", \"take\", \"take\", \"talk\", \"tank\", \"target\", \"tax\", \"taylor\", \"td\", \"team\", \"technology\", \"technology\", \"technology\", \"tell\", \"temporary\", \"term\", \"term\", \"term\", \"term\", \"terminate\", \"termination\", \"test\", \"texas\", \"text\", \"th_cir\", \"th_cir\", \"th_cir\", \"th_cir\", \"th_cir\", \"th_cir\", \"th_cir\", \"th_cir\", \"th_cir\", \"th_cir\", \"th_cir\", \"th_cir\", \"th_cir\", \"th_cir\", \"th_cir\", \"th_cir\", \"th_cir\", \"th_cir\", \"th_cir\", \"th_cir\", \"th_floornew\", \"thank\", \"thank\", \"thank\", \"thing\", \"think\", \"third\", \"thoma\", \"thoma\", \"thoma\", \"thursday\", \"ticket\", \"tim\", \"time\", \"time\", \"time\", \"time\", \"time\", \"time\", \"time\", \"title\", \"tom\", \"tom\", \"tomorrow\", \"tony\", \"top\", \"top\", \"top\", \"top\", \"topic\", \"total\", \"total\", \"total\", \"tr\", \"trade\", \"trade\", \"training\", \"transaction\", \"transwestern\", \"travel\", \"trial\", \"trip\", \"trust\", \"try\", \"tuesday\", \"turn\", \"turn\", \"turn\", \"twanda_sweet\", \"unemployment\", \"unfair_labor\", \"unfair_labor\", \"unfair_labor\", \"unfair_labor\", \"unfair_labor\", \"unfair_labor\", \"unfair_labor\", \"unfair_labor\", \"unfair_labor\", \"unfair_labor\", \"unfair_labor\", \"unfair_labor\", \"union\", \"university\", \"unsubscribe\", \"update\", \"usa_bcdata\", \"usa_bcdata\", \"usa_bcdata\", \"usa_bcdata\", \"usa_bcdata\", \"usa_bcdata\", \"usa_bcdata\", \"usa_bcdata\", \"usa_bcdata\", \"usa_bcdata\", \"usa_bcdata\", \"usa_bcdata\", \"usa_bcdata\", \"usa_bcdata\", \"usa_bcdata\", \"usa_bcdata\", \"usa_bcdata\", \"usa_bcdata\", \"usa_bcdata\", \"usa_bcdata\", \"use\", \"use\", \"use\", \"use\", \"use\", \"vacation\", \"value\", \"value\", \"various\", \"version\", \"view\", \"view\", \"view\", \"view\", \"view\", \"violate\", \"violation\", \"voluntary\", \"vote\", \"wage\", \"waiver\", \"want\", \"washington\", \"washington\", \"watch\", \"water\", \"way\", \"way\", \"wayne_herndon\", \"wchp_ddglszs\", \"wchp_ddglszs\", \"wchp_ddglszs\", \"wchp_ddglszs\", \"wchp_ddglszs\", \"wchp_ddglszs\", \"wchp_ddglszs\", \"wchp_ddglszs\", \"wchp_ddglszs\", \"wchp_ddglszs\", \"wchp_ddglszs\", \"wchp_ddglszs\", \"wchp_ddglszs\", \"wchp_ddglszs\", \"wchp_ddglszs\", \"wchp_ddglszs\", \"wchp_ddglszs\", \"wchp_ddglszs\", \"wchp_ddglszs\", \"wchp_ddglszs\", \"web\", \"week\", \"week\", \"well\", \"well\", \"width\", \"william\", \"william\", \"william\", \"william\", \"william_kendrick\", \"win\", \"woman\", \"work\", \"work\", \"worker\", \"workforce\", \"workplace\", \"world\", \"world\", \"world\", \"would\", \"would\", \"would\", \"would\", \"yahoo\", \"yard\", \"year\", \"year\", \"year\", \"year\", \"year\", \"year\", \"york\"]}, \"R\": 30, \"lambda.step\": 0.01, \"plot.opts\": {\"xlab\": \"PC1\", \"ylab\": \"PC2\"}, \"topic.order\": [19, 4, 17, 15, 20, 8, 9, 11, 7, 5, 2, 10, 3, 14, 13, 12, 6, 1, 16, 18]};\n",
       "\n",
       "function LDAvis_load_lib(url, callback){\n",
       "  var s = document.createElement('script');\n",
       "  s.src = url;\n",
       "  s.async = true;\n",
       "  s.onreadystatechange = s.onload = callback;\n",
       "  s.onerror = function(){console.warn(\"failed to load library \" + url);};\n",
       "  document.getElementsByTagName(\"head\")[0].appendChild(s);\n",
       "}\n",
       "\n",
       "if(typeof(LDAvis) !== \"undefined\"){\n",
       "   // already loaded: just create the visualization\n",
       "   !function(LDAvis){\n",
       "       new LDAvis(\"#\" + \"ldavis_el24231401634250957527828835535\", ldavis_el24231401634250957527828835535_data);\n",
       "   }(LDAvis);\n",
       "}else if(typeof define === \"function\" && define.amd){\n",
       "   // require.js is available: use it to load d3/LDAvis\n",
       "   require.config({paths: {d3: \"https://cdnjs.cloudflare.com/ajax/libs/d3/3.5.5/d3.min\"}});\n",
       "   require([\"d3\"], function(d3){\n",
       "      window.d3 = d3;\n",
       "      LDAvis_load_lib(\"https://cdn.rawgit.com/bmabey/pyLDAvis/files/ldavis.v1.0.0.js\", function(){\n",
       "        new LDAvis(\"#\" + \"ldavis_el24231401634250957527828835535\", ldavis_el24231401634250957527828835535_data);\n",
       "      });\n",
       "    });\n",
       "}else{\n",
       "    // require.js not available: dynamically load d3 & LDAvis\n",
       "    LDAvis_load_lib(\"https://cdnjs.cloudflare.com/ajax/libs/d3/3.5.5/d3.min.js\", function(){\n",
       "         LDAvis_load_lib(\"https://cdn.rawgit.com/bmabey/pyLDAvis/files/ldavis.v1.0.0.js\", function(){\n",
       "                 new LDAvis(\"#\" + \"ldavis_el24231401634250957527828835535\", ldavis_el24231401634250957527828835535_data);\n",
       "            })\n",
       "         });\n",
       "}\n",
       "</script>"
      ],
      "text/plain": [
       "<IPython.core.display.HTML object>"
      ]
     },
     "execution_count": 42,
     "metadata": {},
     "output_type": "execute_result"
    }
   ],
   "source": [
    "pyLDAvis.display(vis)"
   ]
  },
  {
   "cell_type": "code",
   "execution_count": null,
   "metadata": {},
   "outputs": [],
   "source": [
    "# now using mallet"
   ]
  },
  {
   "cell_type": "code",
   "execution_count": null,
   "metadata": {},
   "outputs": [],
   "source": [
    "mallet_path = 'mallet-2.0.8/bin/mallet'"
   ]
  },
  {
   "cell_type": "code",
   "execution_count": null,
   "metadata": {},
   "outputs": [],
   "source": [
    "ldamallet = gensim.models.wrappers.LdaMallet(mallet_path, corpus=corpus, num_topics=20, id2word=id2word)"
   ]
  },
  {
   "cell_type": "code",
   "execution_count": null,
   "metadata": {},
   "outputs": [
    {
     "name": "stdout",
     "output_type": "stream",
     "text": [
      "[(1, [('game', 0.029903769481178316), ('week', 0.026814218223493738), ('play', 0.016828194084409626), ('update', 0.015547788012769764), ('team', 0.012518255789693303), ('start', 0.01217528987764691), ('sunday', 0.009723083606515208), ('season', 0.009500155763685054), ('good', 0.009157189851638662), ('pass', 0.008539851209955157)]), (9, [('review', 0.017545058220216313), ('issue', 0.01465432947475843), ('message', 0.013001874490279551), ('discuss', 0.01278410910472807), ('work', 0.012767029466645602), ('meeting', 0.012378467700269432), ('attach', 0.012190591681362273), ('original', 0.011725171543614991), ('plan', 0.01094804801086265), ('agreement', 0.01037161022557932)]), (8, [('enron', 0.5446866155283804), ('baughman', 0.006719463249678985), ('smith', 0.006665680652382905), ('david', 0.005287501596670857), ('joe_stepenovitch', 0.004016887735550969), ('ryan', 0.003932852427275845), ('tom', 0.003882431242310769), ('dean_laurent', 0.0037815888723806194), ('larry_campbell', 0.0037109992134295145), ('john', 0.0036404095544784096)]), (2, [('year', 0.00961296016137166), ('people', 0.007501260716086738), ('state', 0.0067658429988233315), ('time', 0.005620692553370314), ('make', 0.005379055303412338), ('country', 0.005000840477391158), ('world', 0.004934302683924469), ('vote', 0.004384490390541828), ('american', 0.0039327337927943075), ('find', 0.0037401243906538912)]), (5, [('enron', 0.5705823546190422), ('john', 0.006399836057856069), ('david', 0.005062267552471179), ('sally_beck', 0.0037883927854379497), ('michael', 0.002935450550120049), ('scott', 0.0028717568117683874), ('jame', 0.0025311337762355893), ('mark', 0.002459132158968494), ('brown', 0.002038199627253166), ('hall', 0.001993890939704184)]), (14, [('program', 0.016368373633330897), ('contact', 0.009779141403073026), ('event', 0.009165510020210875), ('attend', 0.00890252514184138), ('information', 0.008795383154357513), ('work', 0.008517788004967492), ('interview', 0.008025908880609736), ('team', 0.007957727615847274), ('employee', 0.00739279713638688), ('opportunity', 0.007178513161419145)]), (10, [('message', 0.06848896261613456), ('mail', 0.058586739286745515), ('original', 0.05760161243750955), ('lynn', 0.009879576735153743), ('net', 0.006448617708504362), ('steve', 0.006290091548857196), ('mike', 0.00563900196459205), ('jame', 0.005055852163032832), ('bill', 0.0042179281763263824), ('smith', 0.003940507396943842)]), (16, [('deal', 0.01825052804804601), ('day', 0.011137784488535632), ('daily', 0.009789035262581965), ('change', 0.009691484217937517), ('system', 0.009653312070033167), ('book', 0.00955151967562157), ('position', 0.009318245438428326), ('report', 0.00916131549704378), ('datum', 0.008783835367767438), ('month', 0.008665077574287241)]), (6, [('font', 0.12312354484644665), ('size', 0.05388964854577035), ('align', 0.0484275102553679), ('leave', 0.02585461399164788), ('table', 0.01854466166525001), ('color', 0.012949480764255885), ('tr', 0.012698178055360509), ('br', 0.012151225100705865), ('face_arial', 0.011389925717875752), ('width', 0.010525148749029897)]), (13, [('permit', 0.013089679673481194), ('receive', 0.009473746062022302), ('issue', 0.008736999588687552), ('state', 0.006612638591955451), ('facility', 0.0060340892141220286), ('intended_recipient', 0.006011489629050411), ('contact', 0.006006969712036087), ('information', 0.0054736195043459), ('site', 0.005432940251216988), ('review', 0.005166265147371894)])]\n"
     ]
    }
   ],
   "source": [
    "# Show Topics\n",
    "print(ldamallet.show_topics(formatted=False))"
   ]
  },
  {
   "cell_type": "code",
   "execution_count": null,
   "metadata": {},
   "outputs": [
    {
     "name": "stdout",
     "output_type": "stream",
     "text": [
      "\n",
      "Coherence Score:  0.6235682212776862\n"
     ]
    }
   ],
   "source": [
    "# Compute Coherence Score\n",
    "coherence_model_ldamallet = CoherenceModel(model=ldamallet, texts=data_lemmatized, dictionary=id2word, coherence='c_v')\n",
    "coherence_ldamallet = coherence_model_ldamallet.get_coherence()\n",
    "print('\\nCoherence Score: ', coherence_ldamallet)"
   ]
  },
  {
   "cell_type": "code",
   "execution_count": null,
   "metadata": {},
   "outputs": [],
   "source": [
    "# # Visualize the topics with mallet model\n",
    "# pyLDAvis.enable_notebook(sort=True)\n",
    "# vis = pyLDAvis.gensim.prepare(ldamallet, corpus, id2word)\n",
    "# pyLDAvis.display(vis)"
   ]
  },
  {
   "cell_type": "code",
   "execution_count": null,
   "metadata": {},
   "outputs": [],
   "source": [
    "def compute_coherence_values(dictionary, corpus, texts, limit, start=2, step=3):\n",
    "    \"\"\"\n",
    "    Compute c_v coherence for various number of topics\n",
    "\n",
    "    Parameters:\n",
    "    ----------\n",
    "    dictionary : Gensim dictionary\n",
    "    corpus : Gensim corpus\n",
    "    texts : List of input texts\n",
    "    limit : Max num of topics\n",
    "\n",
    "    Returns:\n",
    "    -------\n",
    "    model_list : List of LDA topic models\n",
    "    coherence_values : Coherence values corresponding to the LDA model with respective number of topics\n",
    "    \"\"\"\n",
    "    coherence_values = []\n",
    "    model_list = []\n",
    "    for num_topics in range(start, limit, step):\n",
    "        model = gensim.models.wrappers.LdaMallet(mallet_path, corpus=corpus, num_topics=num_topics, id2word=id2word)\n",
    "        model_list.append(model)\n",
    "        coherencemodel = CoherenceModel(model=model, texts=texts, dictionary=dictionary, coherence='c_v')\n",
    "        coherence_values.append(coherencemodel.get_coherence())\n",
    "\n",
    "    return model_list, coherence_values"
   ]
  },
  {
   "cell_type": "code",
   "execution_count": null,
   "metadata": {},
   "outputs": [],
   "source": [
    "# run\n",
    "model_list, coherence_values = compute_coherence_values(dictionary=id2word, corpus=corpus, texts=data_lemmatized, start=2, limit=40, step=6)\n"
   ]
  },
  {
   "cell_type": "code",
   "execution_count": null,
   "metadata": {},
   "outputs": [],
   "source": [
    "# Show graph\n",
    "limit=40; start=2; step=6;\n",
    "x = range(start, limit, step)\n",
    "plt.plot(x, coherence_values)\n",
    "plt.xlabel(\"Num Topics\")\n",
    "plt.ylabel(\"Coherence score\")\n",
    "plt.legend((\"coherence_values\"), loc='best')\n",
    "plt.show()"
   ]
  },
  {
   "cell_type": "code",
   "execution_count": null,
   "metadata": {},
   "outputs": [],
   "source": [
    "# Print the coherence scores\n",
    "for m, cv in zip(x, coherence_values):\n",
    "    print(\"Num Topics =\", m, \" has Coherence Value of\", round(cv, 4))"
   ]
  },
  {
   "cell_type": "code",
   "execution_count": null,
   "metadata": {},
   "outputs": [],
   "source": [
    "# Select the model and print the topics\n",
    "optimal_model = model_list[2]\n",
    "model_topics = optimal_model.show_topics(formatted=False)\n",
    "print(optimal_model.print_topics(num_words=10))"
   ]
  },
  {
   "cell_type": "code",
   "execution_count": null,
   "metadata": {},
   "outputs": [],
   "source": [
    "def format_topics_sentences(ldamodel=lda_model, corpus=corpus, texts=data):\n",
    "    # Init output\n",
    "    sent_topics_df = pd.DataFrame()\n",
    "\n",
    "    # Get main topic in each document\n",
    "    for i, row in enumerate(ldamodel[corpus]):\n",
    "        row = sorted(row, key=lambda x: (x[1]), reverse=True)\n",
    "        # Get the Dominant topic, Perc Contribution and Keywords for each document\n",
    "        for j, (topic_num, prop_topic) in enumerate(row):\n",
    "            if j == 0:  # => dominant topic\n",
    "                wp = ldamodel.show_topic(topic_num)\n",
    "                topic_keywords = \", \".join([word for word, prop in wp])\n",
    "                sent_topics_df = sent_topics_df.append(pd.Series([int(topic_num), round(prop_topic,4), topic_keywords]), ignore_index=True)\n",
    "            else:\n",
    "                break\n",
    "    sent_topics_df.columns = ['Dominant_Topic', 'Perc_Contribution', 'Topic_Keywords']\n",
    "\n",
    "    # Add original text to the end of the output\n",
    "    contents = pd.Series(texts)\n",
    "    sent_topics_df = pd.concat([sent_topics_df, contents], axis=1)\n",
    "    return(sent_topics_df)\n",
    "\n"
   ]
  },
  {
   "cell_type": "code",
   "execution_count": null,
   "metadata": {},
   "outputs": [],
   "source": [
    "df_topic_sents_keywords = format_topics_sentences(ldamodel=optimal_model, corpus=corpus, texts=data)"
   ]
  },
  {
   "cell_type": "code",
   "execution_count": null,
   "metadata": {},
   "outputs": [],
   "source": [
    "# Format\n",
    "df_dominant_topic = df_topic_sents_keywords.reset_index()\n",
    "df_dominant_topic.columns = ['Document_No', 'Dominant_Topic', 'Topic_Perc_Contrib', 'Keywords', 'Text']"
   ]
  },
  {
   "cell_type": "code",
   "execution_count": null,
   "metadata": {},
   "outputs": [],
   "source": [
    "# Show\n",
    "df_dominant_topic.head(10)"
   ]
  },
  {
   "cell_type": "code",
   "execution_count": null,
   "metadata": {},
   "outputs": [],
   "source": [
    "df_dominant_topic.Keywords.iloc[1]"
   ]
  },
  {
   "cell_type": "code",
   "execution_count": null,
   "metadata": {},
   "outputs": [],
   "source": [
    "df_dominant_topic.Text.iloc[1]"
   ]
  },
  {
   "cell_type": "code",
   "execution_count": null,
   "metadata": {},
   "outputs": [],
   "source": [
    "# Group top 5 sentences under each topic\n",
    "sent_topics_sorteddf_mallet = pd.DataFrame()\n",
    "\n",
    "sent_topics_outdf_grpd = df_topic_sents_keywords.groupby('Dominant_Topic')\n",
    "\n",
    "for i, grp in sent_topics_outdf_grpd:\n",
    "    sent_topics_sorteddf_mallet = pd.concat([sent_topics_sorteddf_mallet, \n",
    "                                             grp.sort_values(['Perc_Contribution'], ascending=[0]).head(1)], \n",
    "                                            axis=0)"
   ]
  },
  {
   "cell_type": "code",
   "execution_count": null,
   "metadata": {},
   "outputs": [],
   "source": [
    "# Reset Index    \n",
    "sent_topics_sorteddf_mallet.reset_index(drop=True, inplace=True)"
   ]
  },
  {
   "cell_type": "code",
   "execution_count": null,
   "metadata": {},
   "outputs": [],
   "source": [
    "# Format\n",
    "sent_topics_sorteddf_mallet.columns = ['Topic_Num', \"Topic_Perc_Contrib\", \"Keywords\", \"Text\"]"
   ]
  },
  {
   "cell_type": "code",
   "execution_count": null,
   "metadata": {},
   "outputs": [],
   "source": [
    "# Show\n",
    "sent_topics_sorteddf_mallet"
   ]
  },
  {
   "cell_type": "code",
   "execution_count": null,
   "metadata": {},
   "outputs": [],
   "source": [
    "sent_topics_sorteddf_mallet.Text.iloc[6]"
   ]
  },
  {
   "cell_type": "code",
   "execution_count": null,
   "metadata": {},
   "outputs": [],
   "source": [
    "# Number of Documents for Each Topic\n",
    "topic_counts = df_topic_sents_keywords['Dominant_Topic'].value_counts()"
   ]
  },
  {
   "cell_type": "code",
   "execution_count": null,
   "metadata": {},
   "outputs": [],
   "source": [
    "# Percentage of Documents for Each Topic\n",
    "topic_contribution = round(topic_counts/topic_counts.sum(), 4)"
   ]
  },
  {
   "cell_type": "code",
   "execution_count": null,
   "metadata": {},
   "outputs": [],
   "source": [
    "# Topic Number and Keywords\n",
    "topic_num_keywords = df_topic_sents_keywords[['Dominant_Topic', 'Topic_Keywords']]"
   ]
  },
  {
   "cell_type": "code",
   "execution_count": null,
   "metadata": {},
   "outputs": [],
   "source": [
    "# Concatenate Column wise\n",
    "df_dominant_topics = pd.concat([topic_num_keywords, topic_counts, topic_contribution], axis=1)"
   ]
  },
  {
   "cell_type": "code",
   "execution_count": null,
   "metadata": {},
   "outputs": [],
   "source": [
    "# Change Column names\n",
    "df_dominant_topics.columns = ['Dominant_Topic', 'Topic_Keywords', 'Num_Documents', 'Perc_Documents']"
   ]
  },
  {
   "cell_type": "code",
   "execution_count": null,
   "metadata": {},
   "outputs": [],
   "source": [
    "# Show\n",
    "df_dominant_topics"
   ]
  },
  {
   "cell_type": "code",
   "execution_count": null,
   "metadata": {},
   "outputs": [],
   "source": []
  },
  {
   "cell_type": "code",
   "execution_count": null,
   "metadata": {},
   "outputs": [],
   "source": []
  }
 ],
 "metadata": {
  "kernelspec": {
   "display_name": "Python 3",
   "language": "python",
   "name": "python3"
  },
  "language_info": {
   "codemirror_mode": {
    "name": "ipython",
    "version": 3
   },
   "file_extension": ".py",
   "mimetype": "text/x-python",
   "name": "python",
   "nbconvert_exporter": "python",
   "pygments_lexer": "ipython3",
   "version": "3.7.1"
  }
 },
 "nbformat": 4,
 "nbformat_minor": 2
}
